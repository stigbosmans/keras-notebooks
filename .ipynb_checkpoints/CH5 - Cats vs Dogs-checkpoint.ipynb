{
 "cells": [
  {
   "cell_type": "code",
   "execution_count": 1,
   "metadata": {},
   "outputs": [
    {
     "name": "stderr",
     "output_type": "stream",
     "text": [
      "Using TensorFlow backend.\n"
     ]
    }
   ],
   "source": [
    "import keras"
   ]
  },
  {
   "cell_type": "code",
   "execution_count": 2,
   "metadata": {},
   "outputs": [],
   "source": [
    "from keras import layers, models\n",
    "model = models.Sequential()\n",
    "model.add(layers.Conv2D(32, (3, 3), activation='relu', input_shape=(150,150, 3)))\n",
    "model.add(layers.MaxPooling2D((2,2)))\n",
    "model.add(layers.Conv2D(64, (3, 3), activation='relu'))\n",
    "model.add(layers.MaxPooling2D((2,2)))\n",
    "model.add(layers.Conv2D(128, (3, 3), activation='relu'))\n",
    "model.add(layers.MaxPooling2D((2,2)))\n",
    "model.add(layers.Conv2D(128, (3, 3), activation='relu'))\n",
    "model.add(layers.MaxPooling2D((2,2)))\n",
    "model.add(layers.Flatten())\n",
    "model.add(layers.Dense(512, activation='relu'))\n",
    "model.add(layers.Dense(1, activation='sigmoid'))"
   ]
  },
  {
   "cell_type": "code",
   "execution_count": 3,
   "metadata": {},
   "outputs": [],
   "source": [
    "from keras import optimizers\n",
    "model.compile(loss='binary_crossentropy', metrics=['acc'], optimizer=optimizers.rmsprop(lr=1e-4))"
   ]
  },
  {
   "cell_type": "code",
   "execution_count": 4,
   "metadata": {},
   "outputs": [],
   "source": [
    "from keras.preprocessing.image import ImageDataGenerator"
   ]
  },
  {
   "cell_type": "code",
   "execution_count": 5,
   "metadata": {},
   "outputs": [],
   "source": [
    "train_datagen = ImageDataGenerator(rescale=1./255)\n",
    "test_datagen = ImageDataGenerator(rescale=1./255)"
   ]
  },
  {
   "cell_type": "code",
   "execution_count": 6,
   "metadata": {},
   "outputs": [
    {
     "name": "stdout",
     "output_type": "stream",
     "text": [
      "Found 1999 images belonging to 2 classes.\n",
      "Found 1000 images belonging to 2 classes.\n"
     ]
    }
   ],
   "source": [
    "train_generator = train_datagen.flow_from_directory(\n",
    "    'datasets/catdog/train',\n",
    "    target_size=(150, 150),\n",
    "    batch_size=20,\n",
    "    class_mode='binary'\n",
    ")\n",
    "validation_generator = train_datagen.flow_from_directory(\n",
    "    'datasets/catdog/validation',\n",
    "    target_size=(150, 150),\n",
    "    batch_size=20,\n",
    "    class_mode='binary'\n",
    ")"
   ]
  },
  {
   "cell_type": "code",
   "execution_count": 7,
   "metadata": {},
   "outputs": [
    {
     "name": "stdout",
     "output_type": "stream",
     "text": [
      "Epoch 1/30\n",
      " 19/100 [====>.........................] - ETA: 23s - loss: 0.6901 - acc: 0.5132"
     ]
    },
    {
     "name": "stderr",
     "output_type": "stream",
     "text": [
      "c:\\users\\stig\\appdata\\local\\programs\\python\\python36\\lib\\site-packages\\PIL\\TiffImagePlugin.py:754: UserWarning: Possibly corrupt EXIF data.  Expecting to read 80000 bytes but only got 0. Skipping tag 64640\n",
      "  \" Skipping tag %s\" % (size, len(data), tag))\n",
      "c:\\users\\stig\\appdata\\local\\programs\\python\\python36\\lib\\site-packages\\PIL\\TiffImagePlugin.py:754: UserWarning: Possibly corrupt EXIF data.  Expecting to read 6553600 bytes but only got 0. Skipping tag 49\n",
      "  \" Skipping tag %s\" % (size, len(data), tag))\n",
      "c:\\users\\stig\\appdata\\local\\programs\\python\\python36\\lib\\site-packages\\PIL\\TiffImagePlugin.py:754: UserWarning: Possibly corrupt EXIF data.  Expecting to read 1050744 bytes but only got 4951. Skipping tag 51\n",
      "  \" Skipping tag %s\" % (size, len(data), tag))\n",
      "c:\\users\\stig\\appdata\\local\\programs\\python\\python36\\lib\\site-packages\\PIL\\TiffImagePlugin.py:754: UserWarning: Possibly corrupt EXIF data.  Expecting to read 293339136 bytes but only got 0. Skipping tag 5\n",
      "  \" Skipping tag %s\" % (size, len(data), tag))\n",
      "c:\\users\\stig\\appdata\\local\\programs\\python\\python36\\lib\\site-packages\\PIL\\TiffImagePlugin.py:754: UserWarning: Possibly corrupt EXIF data.  Expecting to read 293863424 bytes but only got 0. Skipping tag 5\n",
      "  \" Skipping tag %s\" % (size, len(data), tag))\n",
      "c:\\users\\stig\\appdata\\local\\programs\\python\\python36\\lib\\site-packages\\PIL\\TiffImagePlugin.py:754: UserWarning: Possibly corrupt EXIF data.  Expecting to read 3368026112 bytes but only got 0. Skipping tag 7\n",
      "  \" Skipping tag %s\" % (size, len(data), tag))\n",
      "c:\\users\\stig\\appdata\\local\\programs\\python\\python36\\lib\\site-packages\\PIL\\TiffImagePlugin.py:754: UserWarning: Possibly corrupt EXIF data.  Expecting to read 134479872 bytes but only got 0. Skipping tag 7\n",
      "  \" Skipping tag %s\" % (size, len(data), tag))\n",
      "c:\\users\\stig\\appdata\\local\\programs\\python\\python36\\lib\\site-packages\\PIL\\TiffImagePlugin.py:754: UserWarning: Possibly corrupt EXIF data.  Expecting to read 295698432 bytes but only got 0. Skipping tag 10\n",
      "  \" Skipping tag %s\" % (size, len(data), tag))\n",
      "c:\\users\\stig\\appdata\\local\\programs\\python\\python36\\lib\\site-packages\\PIL\\TiffImagePlugin.py:754: UserWarning: Possibly corrupt EXIF data.  Expecting to read 296222720 bytes but only got 0. Skipping tag 5\n",
      "  \" Skipping tag %s\" % (size, len(data), tag))\n",
      "c:\\users\\stig\\appdata\\local\\programs\\python\\python36\\lib\\site-packages\\PIL\\TiffImagePlugin.py:754: UserWarning: Possibly corrupt EXIF data.  Expecting to read 3300917248 bytes but only got 0. Skipping tag 7\n",
      "  \" Skipping tag %s\" % (size, len(data), tag))\n",
      "c:\\users\\stig\\appdata\\local\\programs\\python\\python36\\lib\\site-packages\\PIL\\TiffImagePlugin.py:754: UserWarning: Possibly corrupt EXIF data.  Expecting to read 65536 bytes but only got 0. Skipping tag 3\n",
      "  \" Skipping tag %s\" % (size, len(data), tag))\n",
      "c:\\users\\stig\\appdata\\local\\programs\\python\\python36\\lib\\site-packages\\PIL\\TiffImagePlugin.py:754: UserWarning: Possibly corrupt EXIF data.  Expecting to read 14745600 bytes but only got 0. Skipping tag 4\n",
      "  \" Skipping tag %s\" % (size, len(data), tag))\n",
      "c:\\users\\stig\\appdata\\local\\programs\\python\\python36\\lib\\site-packages\\PIL\\TiffImagePlugin.py:754: UserWarning: Possibly corrupt EXIF data.  Expecting to read 25624576 bytes but only got 0. Skipping tag 4\n",
      "  \" Skipping tag %s\" % (size, len(data), tag))\n",
      "c:\\users\\stig\\appdata\\local\\programs\\python\\python36\\lib\\site-packages\\PIL\\TiffImagePlugin.py:754: UserWarning: Possibly corrupt EXIF data.  Expecting to read 317718528 bytes but only got 4956. Skipping tag 4\n",
      "  \" Skipping tag %s\" % (size, len(data), tag))\n",
      "c:\\users\\stig\\appdata\\local\\programs\\python\\python36\\lib\\site-packages\\PIL\\TiffImagePlugin.py:754: UserWarning: Possibly corrupt EXIF data.  Expecting to read 131073 bytes but only got 4952. Skipping tag 0\n",
      "  \" Skipping tag %s\" % (size, len(data), tag))\n",
      "c:\\users\\stig\\appdata\\local\\programs\\python\\python36\\lib\\site-packages\\PIL\\TiffImagePlugin.py:754: UserWarning: Possibly corrupt EXIF data.  Expecting to read 393216 bytes but only got 0. Skipping tag 3\n",
      "  \" Skipping tag %s\" % (size, len(data), tag))\n",
      "c:\\users\\stig\\appdata\\local\\programs\\python\\python36\\lib\\site-packages\\PIL\\TiffImagePlugin.py:754: UserWarning: Possibly corrupt EXIF data.  Expecting to read 287178752 bytes but only got 0. Skipping tag 5\n",
      "  \" Skipping tag %s\" % (size, len(data), tag))\n",
      "c:\\users\\stig\\appdata\\local\\programs\\python\\python36\\lib\\site-packages\\PIL\\TiffImagePlugin.py:754: UserWarning: Possibly corrupt EXIF data.  Expecting to read 287703040 bytes but only got 0. Skipping tag 5\n",
      "  \" Skipping tag %s\" % (size, len(data), tag))\n",
      "c:\\users\\stig\\appdata\\local\\programs\\python\\python36\\lib\\site-packages\\PIL\\TiffImagePlugin.py:754: UserWarning: Possibly corrupt EXIF data.  Expecting to read 131072 bytes but only got 0. Skipping tag 3\n",
      "  \" Skipping tag %s\" % (size, len(data), tag))\n",
      "c:\\users\\stig\\appdata\\local\\programs\\python\\python36\\lib\\site-packages\\PIL\\TiffImagePlugin.py:754: UserWarning: Possibly corrupt EXIF data.  Expecting to read 524288 bytes but only got 0. Skipping tag 4\n",
      "  \" Skipping tag %s\" % (size, len(data), tag))\n",
      "c:\\users\\stig\\appdata\\local\\programs\\python\\python36\\lib\\site-packages\\PIL\\TiffImagePlugin.py:754: UserWarning: Possibly corrupt EXIF data.  Expecting to read 286654464 bytes but only got 4956. Skipping tag 4\n",
      "  \" Skipping tag %s\" % (size, len(data), tag))\n",
      "c:\\users\\stig\\appdata\\local\\programs\\python\\python36\\lib\\site-packages\\PIL\\TiffImagePlugin.py:771: UserWarning: Corrupt EXIF data.  Expecting to read 12 bytes but only got 2. \n",
      "  warnings.warn(str(msg))\n"
     ]
    },
    {
     "name": "stdout",
     "output_type": "stream",
     "text": [
      "100/100 [==============================] - 10s 96ms/step - loss: 0.6890 - acc: 0.5438 - val_loss: 0.6962 - val_acc: 0.5020\n",
      "Epoch 2/30\n",
      "  4/100 [>.............................] - ETA: 2s - loss: 0.6582 - acc: 0.5875"
     ]
    },
    {
     "name": "stderr",
     "output_type": "stream",
     "text": [
      "c:\\users\\stig\\appdata\\local\\programs\\python\\python36\\lib\\site-packages\\PIL\\TiffImagePlugin.py:754: UserWarning: Possibly corrupt EXIF data.  Expecting to read 404094976 bytes but only got 0. Skipping tag 5\n",
      "  \" Skipping tag %s\" % (size, len(data), tag))\n",
      "c:\\users\\stig\\appdata\\local\\programs\\python\\python36\\lib\\site-packages\\PIL\\TiffImagePlugin.py:754: UserWarning: Possibly corrupt EXIF data.  Expecting to read 404619264 bytes but only got 0. Skipping tag 5\n",
      "  \" Skipping tag %s\" % (size, len(data), tag))\n",
      "c:\\users\\stig\\appdata\\local\\programs\\python\\python36\\lib\\site-packages\\PIL\\TiffImagePlugin.py:754: UserWarning: Possibly corrupt EXIF data.  Expecting to read 425459712 bytes but only got 0. Skipping tag 4\n",
      "  \" Skipping tag %s\" % (size, len(data), tag))\n",
      "c:\\users\\stig\\appdata\\local\\programs\\python\\python36\\lib\\site-packages\\PIL\\TiffImagePlugin.py:754: UserWarning: Possibly corrupt EXIF data.  Expecting to read 1385474 bytes but only got 6833. Skipping tag 513\n",
      "  \" Skipping tag %s\" % (size, len(data), tag))\n",
      "c:\\users\\stig\\appdata\\local\\programs\\python\\python36\\lib\\site-packages\\PIL\\TiffImagePlugin.py:754: UserWarning: Possibly corrupt EXIF data.  Expecting to read 3846701056 bytes but only got 0. Skipping tag 2\n",
      "  \" Skipping tag %s\" % (size, len(data), tag))\n",
      "c:\\users\\stig\\appdata\\local\\programs\\python\\python36\\lib\\site-packages\\PIL\\TiffImagePlugin.py:754: UserWarning: Possibly corrupt EXIF data.  Expecting to read 196867 bytes but only got 6833. Skipping tag 0\n",
      "  \" Skipping tag %s\" % (size, len(data), tag))\n",
      "c:\\users\\stig\\appdata\\local\\programs\\python\\python36\\lib\\site-packages\\PIL\\TiffImagePlugin.py:771: UserWarning: Corrupt EXIF data.  Expecting to read 12 bytes but only got 8. \n",
      "  warnings.warn(str(msg))\n"
     ]
    },
    {
     "name": "stdout",
     "output_type": "stream",
     "text": [
      "100/100 [==============================] - 3s 33ms/step - loss: 0.6645 - acc: 0.6102 - val_loss: 0.6653 - val_acc: 0.5780\n",
      "Epoch 3/30\n",
      "100/100 [==============================] - 3s 32ms/step - loss: 0.6259 - acc: 0.6594 - val_loss: 0.6207 - val_acc: 0.6550\n",
      "Epoch 4/30\n",
      "100/100 [==============================] - 3s 34ms/step - loss: 0.5802 - acc: 0.6869 - val_loss: 0.6086 - val_acc: 0.6590\n",
      "Epoch 5/30\n",
      "100/100 [==============================] - 3s 32ms/step - loss: 0.5420 - acc: 0.7269 - val_loss: 0.5778 - val_acc: 0.6880\n",
      "Epoch 6/30\n",
      "100/100 [==============================] - 3s 32ms/step - loss: 0.5057 - acc: 0.7608 - val_loss: 0.5648 - val_acc: 0.6930\n",
      "Epoch 7/30\n",
      "100/100 [==============================] - 3s 33ms/step - loss: 0.4717 - acc: 0.7598 - val_loss: 0.5977 - val_acc: 0.6830\n",
      "Epoch 8/30\n",
      "100/100 [==============================] - 3s 34ms/step - loss: 0.4420 - acc: 0.8039 - val_loss: 0.5338 - val_acc: 0.7220\n",
      "Epoch 9/30\n",
      "100/100 [==============================] - 3s 32ms/step - loss: 0.4106 - acc: 0.8158 - val_loss: 0.5541 - val_acc: 0.7090\n",
      "Epoch 10/30\n",
      "100/100 [==============================] - 3s 33ms/step - loss: 0.3738 - acc: 0.8390 - val_loss: 0.5745 - val_acc: 0.7300\n",
      "Epoch 11/30\n",
      "100/100 [==============================] - 3s 33ms/step - loss: 0.3551 - acc: 0.8439 - val_loss: 0.5955 - val_acc: 0.7210\n",
      "Epoch 12/30\n",
      "100/100 [==============================] - 3s 33ms/step - loss: 0.3361 - acc: 0.8554 - val_loss: 0.5480 - val_acc: 0.7300\n",
      "Epoch 13/30\n",
      "100/100 [==============================] - 3s 32ms/step - loss: 0.3081 - acc: 0.8665 - val_loss: 0.5485 - val_acc: 0.7360\n",
      "Epoch 14/30\n",
      "100/100 [==============================] - 3s 32ms/step - loss: 0.2929 - acc: 0.8709 - val_loss: 0.5712 - val_acc: 0.7320\n",
      "Epoch 15/30\n",
      "100/100 [==============================] - 3s 33ms/step - loss: 0.2639 - acc: 0.8969 - val_loss: 0.5996 - val_acc: 0.7270\n",
      "Epoch 16/30\n",
      "100/100 [==============================] - 4s 36ms/step - loss: 0.2412 - acc: 0.9049 - val_loss: 0.5902 - val_acc: 0.7450\n",
      "Epoch 17/30\n",
      "100/100 [==============================] - 4s 36ms/step - loss: 0.2169 - acc: 0.9175 - val_loss: 0.6120 - val_acc: 0.7160\n",
      "Epoch 18/30\n",
      "100/100 [==============================] - 4s 38ms/step - loss: 0.1997 - acc: 0.9260 - val_loss: 0.6552 - val_acc: 0.7380\n",
      "Epoch 19/30\n",
      "100/100 [==============================] - 3s 32ms/step - loss: 0.1824 - acc: 0.9350 - val_loss: 0.6623 - val_acc: 0.7210\n",
      "Epoch 20/30\n",
      "100/100 [==============================] - 3s 32ms/step - loss: 0.1541 - acc: 0.9450 - val_loss: 0.7004 - val_acc: 0.7270\n",
      "Epoch 21/30\n",
      "100/100 [==============================] - 3s 31ms/step - loss: 0.1484 - acc: 0.9469 - val_loss: 0.6897 - val_acc: 0.7250\n",
      "Epoch 22/30\n",
      "100/100 [==============================] - 3s 31ms/step - loss: 0.1280 - acc: 0.9575 - val_loss: 0.7204 - val_acc: 0.7360\n",
      "Epoch 23/30\n",
      "100/100 [==============================] - 3s 31ms/step - loss: 0.1101 - acc: 0.9660 - val_loss: 0.7248 - val_acc: 0.7410\n",
      "Epoch 24/30\n",
      "100/100 [==============================] - 3s 31ms/step - loss: 0.0960 - acc: 0.9700 - val_loss: 0.8207 - val_acc: 0.7320\n",
      "Epoch 25/30\n",
      "100/100 [==============================] - 3s 32ms/step - loss: 0.0812 - acc: 0.9745 - val_loss: 0.9548 - val_acc: 0.7110\n",
      "Epoch 26/30\n",
      "100/100 [==============================] - 3s 31ms/step - loss: 0.0664 - acc: 0.9835 - val_loss: 0.8762 - val_acc: 0.7380\n",
      "Epoch 27/30\n",
      "100/100 [==============================] - 3s 31ms/step - loss: 0.0609 - acc: 0.9850 - val_loss: 0.9897 - val_acc: 0.7170\n",
      "Epoch 28/30\n",
      "100/100 [==============================] - 3s 31ms/step - loss: 0.0549 - acc: 0.9864 - val_loss: 0.9406 - val_acc: 0.7240\n",
      "Epoch 29/30\n",
      "100/100 [==============================] - 3s 32ms/step - loss: 0.0434 - acc: 0.9895 - val_loss: 0.9331 - val_acc: 0.7450\n",
      "Epoch 30/30\n",
      "100/100 [==============================] - 3s 31ms/step - loss: 0.0403 - acc: 0.9895 - val_loss: 1.0929 - val_acc: 0.7230\n"
     ]
    }
   ],
   "source": [
    "history = model.fit_generator(train_generator, steps_per_epoch=100, epochs=30, validation_data=validation_generator, validation_steps=50)"
   ]
  },
  {
   "cell_type": "code",
   "execution_count": 8,
   "metadata": {},
   "outputs": [
    {
     "data": {
      "text/plain": [
       "<keras.callbacks.History at 0x1f2ac866828>"
      ]
     },
     "execution_count": 8,
     "metadata": {},
     "output_type": "execute_result"
    }
   ],
   "source": [
    "history"
   ]
  },
  {
   "cell_type": "code",
   "execution_count": 9,
   "metadata": {},
   "outputs": [
    {
     "data": {
      "text/plain": [
       "{'val_loss': [0.6962376868724823,\n",
       "  0.6653452658653259,\n",
       "  0.6207495123147965,\n",
       "  0.6085601854324341,\n",
       "  0.5778040641546249,\n",
       "  0.5647730326652527,\n",
       "  0.5977280670404435,\n",
       "  0.5338315832614898,\n",
       "  0.5540515202283859,\n",
       "  0.5745208457112312,\n",
       "  0.5954787182807922,\n",
       "  0.5479561182856559,\n",
       "  0.5485487553477287,\n",
       "  0.5712376749515533,\n",
       "  0.599596027135849,\n",
       "  0.5902133509516716,\n",
       "  0.6120303773880005,\n",
       "  0.6551627558469773,\n",
       "  0.6623219987750053,\n",
       "  0.7003807336091995,\n",
       "  0.6896649473905563,\n",
       "  0.7204249650239944,\n",
       "  0.7247730350494385,\n",
       "  0.8207072001695633,\n",
       "  0.9548012894392014,\n",
       "  0.8762240707874298,\n",
       "  0.9897016537189484,\n",
       "  0.9406077992916108,\n",
       "  0.9331310537457466,\n",
       "  1.0929322850704193],\n",
       " 'val_acc': [0.5020000049471856,\n",
       "  0.5780000007152557,\n",
       "  0.6550000047683716,\n",
       "  0.6590000003576278,\n",
       "  0.6879999995231628,\n",
       "  0.69299999833107,\n",
       "  0.6829999995231628,\n",
       "  0.7220000016689301,\n",
       "  0.7089999997615815,\n",
       "  0.7300000011920929,\n",
       "  0.7210000002384186,\n",
       "  0.7300000029802323,\n",
       "  0.7360000014305115,\n",
       "  0.7320000040531158,\n",
       "  0.7270000016689301,\n",
       "  0.7449999988079071,\n",
       "  0.7159999918937683,\n",
       "  0.7380000019073486,\n",
       "  0.7210000002384186,\n",
       "  0.7269999998807907,\n",
       "  0.725,\n",
       "  0.7359999966621399,\n",
       "  0.7410000014305115,\n",
       "  0.732000002861023,\n",
       "  0.7110000014305115,\n",
       "  0.7379999995231629,\n",
       "  0.7170000004768372,\n",
       "  0.7240000027418136,\n",
       "  0.7449999976158143,\n",
       "  0.7230000030994416],\n",
       " 'loss': [0.6889948724746227,\n",
       "  0.6644621950319375,\n",
       "  0.6259060996421997,\n",
       "  0.5801908355047847,\n",
       "  0.5421080080463386,\n",
       "  0.5056949652332613,\n",
       "  0.4716119770707936,\n",
       "  0.44199960302746016,\n",
       "  0.41055999546423144,\n",
       "  0.3738639053253605,\n",
       "  0.3551340401918069,\n",
       "  0.33604513586551443,\n",
       "  0.30810079846965366,\n",
       "  0.2929310821082486,\n",
       "  0.26397425645199224,\n",
       "  0.24124041319698497,\n",
       "  0.21683417634107638,\n",
       "  0.19970380000885635,\n",
       "  0.1824569958502081,\n",
       "  0.15413836519112284,\n",
       "  0.14840328563684937,\n",
       "  0.12800620847370936,\n",
       "  0.11014956034805669,\n",
       "  0.09602288587234091,\n",
       "  0.081152912240481,\n",
       "  0.06641446123120485,\n",
       "  0.06083724079183068,\n",
       "  0.05480066982711507,\n",
       "  0.043461798892457555,\n",
       "  0.04026774825398279],\n",
       " 'acc': [0.5437718848099167,\n",
       "  0.6103051513090558,\n",
       "  0.6593296667109018,\n",
       "  0.6868434223966517,\n",
       "  0.7268634310896961,\n",
       "  0.7608804436789088,\n",
       "  0.7598799419975567,\n",
       "  0.803901948172668,\n",
       "  0.8159079568394426,\n",
       "  0.838919461280361,\n",
       "  0.8439219608314041,\n",
       "  0.8554277132904011,\n",
       "  0.8664332155050666,\n",
       "  0.8709354668691672,\n",
       "  0.8969484694365444,\n",
       "  0.9049524703641245,\n",
       "  0.9174587243255703,\n",
       "  0.9259629739768032,\n",
       "  0.934967478971114,\n",
       "  0.9449724820687092,\n",
       "  0.9469734801537636,\n",
       "  0.9574787334062387,\n",
       "  0.9659829851744949,\n",
       "  0.9699849871291465,\n",
       "  0.9744872399244743,\n",
       "  0.9834917425334065,\n",
       "  0.9849924941907351,\n",
       "  0.9864932446851916,\n",
       "  0.9894947454653841,\n",
       "  0.9894947460617287]}"
      ]
     },
     "execution_count": 9,
     "metadata": {},
     "output_type": "execute_result"
    }
   ],
   "source": [
    "history.history"
   ]
  },
  {
   "cell_type": "code",
   "execution_count": 10,
   "metadata": {},
   "outputs": [],
   "source": [
    "import matplotlib.pyplot as plt\n",
    "val_acc = history.history['val_acc']\n",
    "acc = history.history['acc']\n",
    "val_loss = history.history['val_loss']\n",
    "loss = history.history['loss']\n",
    "steps = list(range(len(val_acc)))"
   ]
  },
  {
   "cell_type": "code",
   "execution_count": 11,
   "metadata": {},
   "outputs": [
    {
     "data": {
      "image/png": "[encoded data removed]",
      "text/plain": [
       "<Figure size 432x288 with 1 Axes>"
      ]
     },
     "metadata": {},
     "output_type": "display_data"
    },
    {
     "data": {
      "image/png": "[encoded data removed]",
      "text/plain": [
       "<Figure size 432x288 with 1 Axes>"
      ]
     },
     "metadata": {},
     "output_type": "display_data"
    }
   ],
   "source": [
    "plt.plot(steps, val_acc, 'r-', label='Validation accuracy')\n",
    "plt.plot(steps, acc, 'bo', label='Training accuracy')\n",
    "plt.legend()\n",
    "plt.figure()\n",
    "plt.plot(steps, val_loss, 'r-', label='Validation loss')\n",
    "plt.plot(steps, loss, 'bo', label='Training loss')\n",
    "plt.legend()\n",
    "plt.show()"
   ]
  },
  {
   "cell_type": "markdown",
   "metadata": {},
   "source": [
    "The image above shows a clear case of overfitting. Data augmentation can be used to reduce overfitting."
   ]
  },
  {
   "cell_type": "code",
   "execution_count": 12,
   "metadata": {},
   "outputs": [
    {
     "name": "stdout",
     "output_type": "stream",
     "text": [
      "Found 1999 images belonging to 2 classes.\n",
      "Found 1000 images belonging to 2 classes.\n"
     ]
    }
   ],
   "source": [
    "train_datagen = ImageDataGenerator(\n",
    "    rescale=1./255,\n",
    "    rotation_range=40,\n",
    "    width_shift_range=0.2,\n",
    "    height_shift_range=0.2,\n",
    "    shear_range=0.2,\n",
    "    zoom_range=0.2,\n",
    "    horizontal_flip=True)\n",
    "test_datagen = ImageDataGenerator(rescale=1./255)\n",
    "\n",
    "train_generator = train_datagen.flow_from_directory(\n",
    "    'datasets/catdog/train',\n",
    "    target_size=(150,150),\n",
    "    batch_size=32,\n",
    "    class_mode='binary')\n",
    "\n",
    "validation_generator = test_datagen.flow_from_directory(\n",
    "    'datasets/catdog/validation',\n",
    "    target_size=(150,150),\n",
    "    batch_size=32,\n",
    "    class_mode='binary')"
   ]
  },
  {
   "cell_type": "code",
   "execution_count": 13,
   "metadata": {},
   "outputs": [
    {
     "name": "stdout",
     "output_type": "stream",
     "text": [
      "Epoch 1/100\n",
      "  1/100 [..............................] - ETA: 37s - loss: 1.1707 - acc: 0.6250"
     ]
    },
    {
     "name": "stderr",
     "output_type": "stream",
     "text": [
      "c:\\users\\stig\\appdata\\local\\programs\\python\\python36\\lib\\site-packages\\PIL\\TiffImagePlugin.py:754: UserWarning: Possibly corrupt EXIF data.  Expecting to read 80000 bytes but only got 0. Skipping tag 64640\n",
      "  \" Skipping tag %s\" % (size, len(data), tag))\n",
      "c:\\users\\stig\\appdata\\local\\programs\\python\\python36\\lib\\site-packages\\PIL\\TiffImagePlugin.py:754: UserWarning: Possibly corrupt EXIF data.  Expecting to read 65536 bytes but only got 0. Skipping tag 3\n",
      "  \" Skipping tag %s\" % (size, len(data), tag))\n",
      "c:\\users\\stig\\appdata\\local\\programs\\python\\python36\\lib\\site-packages\\PIL\\TiffImagePlugin.py:754: UserWarning: Possibly corrupt EXIF data.  Expecting to read 404094976 bytes but only got 0. Skipping tag 5\n",
      "  \" Skipping tag %s\" % (size, len(data), tag))\n",
      "c:\\users\\stig\\appdata\\local\\programs\\python\\python36\\lib\\site-packages\\PIL\\TiffImagePlugin.py:754: UserWarning: Possibly corrupt EXIF data.  Expecting to read 404619264 bytes but only got 0. Skipping tag 5\n",
      "  \" Skipping tag %s\" % (size, len(data), tag))\n",
      "c:\\users\\stig\\appdata\\local\\programs\\python\\python36\\lib\\site-packages\\PIL\\TiffImagePlugin.py:754: UserWarning: Possibly corrupt EXIF data.  Expecting to read 131072 bytes but only got 0. Skipping tag 3\n",
      "  \" Skipping tag %s\" % (size, len(data), tag))\n",
      "c:\\users\\stig\\appdata\\local\\programs\\python\\python36\\lib\\site-packages\\PIL\\TiffImagePlugin.py:754: UserWarning: Possibly corrupt EXIF data.  Expecting to read 425459712 bytes but only got 0. Skipping tag 4\n",
      "  \" Skipping tag %s\" % (size, len(data), tag))\n",
      "c:\\users\\stig\\appdata\\local\\programs\\python\\python36\\lib\\site-packages\\PIL\\TiffImagePlugin.py:754: UserWarning: Possibly corrupt EXIF data.  Expecting to read 1385474 bytes but only got 6833. Skipping tag 513\n",
      "  \" Skipping tag %s\" % (size, len(data), tag))\n",
      "c:\\users\\stig\\appdata\\local\\programs\\python\\python36\\lib\\site-packages\\PIL\\TiffImagePlugin.py:754: UserWarning: Possibly corrupt EXIF data.  Expecting to read 3846701056 bytes but only got 0. Skipping tag 2\n",
      "  \" Skipping tag %s\" % (size, len(data), tag))\n",
      "c:\\users\\stig\\appdata\\local\\programs\\python\\python36\\lib\\site-packages\\PIL\\TiffImagePlugin.py:754: UserWarning: Possibly corrupt EXIF data.  Expecting to read 3300917248 bytes but only got 0. Skipping tag 7\n",
      "  \" Skipping tag %s\" % (size, len(data), tag))\n",
      "c:\\users\\stig\\appdata\\local\\programs\\python\\python36\\lib\\site-packages\\PIL\\TiffImagePlugin.py:754: UserWarning: Possibly corrupt EXIF data.  Expecting to read 196867 bytes but only got 6833. Skipping tag 0\n",
      "  \" Skipping tag %s\" % (size, len(data), tag))\n",
      "c:\\users\\stig\\appdata\\local\\programs\\python\\python36\\lib\\site-packages\\PIL\\TiffImagePlugin.py:771: UserWarning: Corrupt EXIF data.  Expecting to read 12 bytes but only got 8. \n",
      "  warnings.warn(str(msg))\n"
     ]
    },
    {
     "name": "stdout",
     "output_type": "stream",
     "text": [
      " 24/100 [======>.......................] - ETA: 10s - loss: 1.0071 - acc: 0.6523"
     ]
    },
    {
     "name": "stderr",
     "output_type": "stream",
     "text": [
      "c:\\users\\stig\\appdata\\local\\programs\\python\\python36\\lib\\site-packages\\PIL\\TiffImagePlugin.py:754: UserWarning: Possibly corrupt EXIF data.  Expecting to read 6553600 bytes but only got 0. Skipping tag 49\n",
      "  \" Skipping tag %s\" % (size, len(data), tag))\n",
      "c:\\users\\stig\\appdata\\local\\programs\\python\\python36\\lib\\site-packages\\PIL\\TiffImagePlugin.py:754: UserWarning: Possibly corrupt EXIF data.  Expecting to read 1050744 bytes but only got 4951. Skipping tag 51\n",
      "  \" Skipping tag %s\" % (size, len(data), tag))\n",
      "c:\\users\\stig\\appdata\\local\\programs\\python\\python36\\lib\\site-packages\\PIL\\TiffImagePlugin.py:754: UserWarning: Possibly corrupt EXIF data.  Expecting to read 293339136 bytes but only got 0. Skipping tag 5\n",
      "  \" Skipping tag %s\" % (size, len(data), tag))\n",
      "c:\\users\\stig\\appdata\\local\\programs\\python\\python36\\lib\\site-packages\\PIL\\TiffImagePlugin.py:754: UserWarning: Possibly corrupt EXIF data.  Expecting to read 293863424 bytes but only got 0. Skipping tag 5\n",
      "  \" Skipping tag %s\" % (size, len(data), tag))\n",
      "c:\\users\\stig\\appdata\\local\\programs\\python\\python36\\lib\\site-packages\\PIL\\TiffImagePlugin.py:754: UserWarning: Possibly corrupt EXIF data.  Expecting to read 3368026112 bytes but only got 0. Skipping tag 7\n",
      "  \" Skipping tag %s\" % (size, len(data), tag))\n",
      "c:\\users\\stig\\appdata\\local\\programs\\python\\python36\\lib\\site-packages\\PIL\\TiffImagePlugin.py:754: UserWarning: Possibly corrupt EXIF data.  Expecting to read 134479872 bytes but only got 0. Skipping tag 7\n",
      "  \" Skipping tag %s\" % (size, len(data), tag))\n",
      "c:\\users\\stig\\appdata\\local\\programs\\python\\python36\\lib\\site-packages\\PIL\\TiffImagePlugin.py:754: UserWarning: Possibly corrupt EXIF data.  Expecting to read 295698432 bytes but only got 0. Skipping tag 10\n",
      "  \" Skipping tag %s\" % (size, len(data), tag))\n",
      "c:\\users\\stig\\appdata\\local\\programs\\python\\python36\\lib\\site-packages\\PIL\\TiffImagePlugin.py:754: UserWarning: Possibly corrupt EXIF data.  Expecting to read 296222720 bytes but only got 0. Skipping tag 5\n",
      "  \" Skipping tag %s\" % (size, len(data), tag))\n",
      "c:\\users\\stig\\appdata\\local\\programs\\python\\python36\\lib\\site-packages\\PIL\\TiffImagePlugin.py:754: UserWarning: Possibly corrupt EXIF data.  Expecting to read 14745600 bytes but only got 0. Skipping tag 4\n",
      "  \" Skipping tag %s\" % (size, len(data), tag))\n",
      "c:\\users\\stig\\appdata\\local\\programs\\python\\python36\\lib\\site-packages\\PIL\\TiffImagePlugin.py:754: UserWarning: Possibly corrupt EXIF data.  Expecting to read 25624576 bytes but only got 0. Skipping tag 4\n",
      "  \" Skipping tag %s\" % (size, len(data), tag))\n",
      "c:\\users\\stig\\appdata\\local\\programs\\python\\python36\\lib\\site-packages\\PIL\\TiffImagePlugin.py:754: UserWarning: Possibly corrupt EXIF data.  Expecting to read 317718528 bytes but only got 4956. Skipping tag 4\n",
      "  \" Skipping tag %s\" % (size, len(data), tag))\n",
      "c:\\users\\stig\\appdata\\local\\programs\\python\\python36\\lib\\site-packages\\PIL\\TiffImagePlugin.py:754: UserWarning: Possibly corrupt EXIF data.  Expecting to read 131073 bytes but only got 4952. Skipping tag 0\n",
      "  \" Skipping tag %s\" % (size, len(data), tag))\n",
      "c:\\users\\stig\\appdata\\local\\programs\\python\\python36\\lib\\site-packages\\PIL\\TiffImagePlugin.py:754: UserWarning: Possibly corrupt EXIF data.  Expecting to read 393216 bytes but only got 0. Skipping tag 3\n",
      "  \" Skipping tag %s\" % (size, len(data), tag))\n",
      "c:\\users\\stig\\appdata\\local\\programs\\python\\python36\\lib\\site-packages\\PIL\\TiffImagePlugin.py:754: UserWarning: Possibly corrupt EXIF data.  Expecting to read 287178752 bytes but only got 0. Skipping tag 5\n",
      "  \" Skipping tag %s\" % (size, len(data), tag))\n",
      "c:\\users\\stig\\appdata\\local\\programs\\python\\python36\\lib\\site-packages\\PIL\\TiffImagePlugin.py:754: UserWarning: Possibly corrupt EXIF data.  Expecting to read 287703040 bytes but only got 0. Skipping tag 5\n",
      "  \" Skipping tag %s\" % (size, len(data), tag))\n",
      "c:\\users\\stig\\appdata\\local\\programs\\python\\python36\\lib\\site-packages\\PIL\\TiffImagePlugin.py:754: UserWarning: Possibly corrupt EXIF data.  Expecting to read 524288 bytes but only got 0. Skipping tag 4\n",
      "  \" Skipping tag %s\" % (size, len(data), tag))\n",
      "c:\\users\\stig\\appdata\\local\\programs\\python\\python36\\lib\\site-packages\\PIL\\TiffImagePlugin.py:754: UserWarning: Possibly corrupt EXIF data.  Expecting to read 286654464 bytes but only got 4956. Skipping tag 4\n",
      "  \" Skipping tag %s\" % (size, len(data), tag))\n",
      "c:\\users\\stig\\appdata\\local\\programs\\python\\python36\\lib\\site-packages\\PIL\\TiffImagePlugin.py:771: UserWarning: Corrupt EXIF data.  Expecting to read 12 bytes but only got 2. \n",
      "  warnings.warn(str(msg))\n"
     ]
    },
    {
     "name": "stdout",
     "output_type": "stream",
     "text": [
      "100/100 [==============================] - 15s 154ms/step - loss: 0.7044 - acc: 0.6889 - val_loss: 0.5639 - val_acc: 0.7227\n",
      "Epoch 2/100\n",
      "100/100 [==============================] - 14s 139ms/step - loss: 0.5869 - acc: 0.6971 - val_loss: 0.5032 - val_acc: 0.7429\n",
      "Epoch 3/100\n",
      "100/100 [==============================] - 14s 142ms/step - loss: 0.5417 - acc: 0.7292 - val_loss: 0.5067 - val_acc: 0.7449\n",
      "Epoch 4/100\n",
      "100/100 [==============================] - 14s 139ms/step - loss: 0.5412 - acc: 0.7162 - val_loss: 0.5429 - val_acc: 0.7101\n",
      "Epoch 5/100\n",
      "100/100 [==============================] - 14s 140ms/step - loss: 0.5364 - acc: 0.7166 - val_loss: 0.4803 - val_acc: 0.7589\n",
      "Epoch 6/100\n",
      "100/100 [==============================] - 14s 139ms/step - loss: 0.5133 - acc: 0.7412 - val_loss: 0.4888 - val_acc: 0.7610\n",
      "Epoch 7/100\n",
      "100/100 [==============================] - 14s 139ms/step - loss: 0.5264 - acc: 0.7392 - val_loss: 0.4722 - val_acc: 0.7773\n",
      "Epoch 8/100\n",
      "100/100 [==============================] - 14s 141ms/step - loss: 0.5163 - acc: 0.7505 - val_loss: 0.4634 - val_acc: 0.7790\n",
      "Epoch 9/100\n",
      "100/100 [==============================] - 14s 140ms/step - loss: 0.4966 - acc: 0.7588 - val_loss: 0.5482 - val_acc: 0.7242\n",
      "Epoch 10/100\n",
      "100/100 [==============================] - 14s 141ms/step - loss: 0.4991 - acc: 0.7523 - val_loss: 0.4886 - val_acc: 0.7589\n",
      "Epoch 11/100\n",
      "100/100 [==============================] - 14s 139ms/step - loss: 0.4883 - acc: 0.7581 - val_loss: 0.4660 - val_acc: 0.7745\n",
      "Epoch 12/100\n",
      "100/100 [==============================] - 14s 140ms/step - loss: 0.4974 - acc: 0.7585 - val_loss: 0.4685 - val_acc: 0.7805\n",
      "Epoch 13/100\n",
      " 44/100 [============>.................] - ETA: 6s - loss: 0.5040 - acc: 0.7557"
     ]
    },
    {
     "ename": "KeyboardInterrupt",
     "evalue": "",
     "output_type": "error",
     "traceback": [
      "\u001b[1;31m---------------------------------------------------------------------------\u001b[0m",
      "\u001b[1;31mKeyboardInterrupt\u001b[0m                         Traceback (most recent call last)",
      "\u001b[1;32m<ipython-input-13-cf9449c2d169>\u001b[0m in \u001b[0;36m<module>\u001b[1;34m()\u001b[0m\n\u001b[0;32m      4\u001b[0m     \u001b[0mepochs\u001b[0m\u001b[1;33m=\u001b[0m\u001b[1;36m100\u001b[0m\u001b[1;33m,\u001b[0m\u001b[1;33m\u001b[0m\u001b[0m\n\u001b[0;32m      5\u001b[0m     \u001b[0mvalidation_data\u001b[0m\u001b[1;33m=\u001b[0m\u001b[0mvalidation_generator\u001b[0m\u001b[1;33m,\u001b[0m\u001b[1;33m\u001b[0m\u001b[0m\n\u001b[1;32m----> 6\u001b[1;33m     validation_steps=50)\n\u001b[0m",
      "\u001b[1;32mc:\\users\\stig\\appdata\\local\\programs\\python\\python36\\lib\\site-packages\\keras\\legacy\\interfaces.py\u001b[0m in \u001b[0;36mwrapper\u001b[1;34m(*args, **kwargs)\u001b[0m\n\u001b[0;32m     89\u001b[0m                 warnings.warn('Update your `' + object_name + '` call to the ' +\n\u001b[0;32m     90\u001b[0m                               'Keras 2 API: ' + signature, stacklevel=2)\n\u001b[1;32m---> 91\u001b[1;33m             \u001b[1;32mreturn\u001b[0m \u001b[0mfunc\u001b[0m\u001b[1;33m(\u001b[0m\u001b[1;33m*\u001b[0m\u001b[0margs\u001b[0m\u001b[1;33m,\u001b[0m \u001b[1;33m**\u001b[0m\u001b[0mkwargs\u001b[0m\u001b[1;33m)\u001b[0m\u001b[1;33m\u001b[0m\u001b[0m\n\u001b[0m\u001b[0;32m     92\u001b[0m         \u001b[0mwrapper\u001b[0m\u001b[1;33m.\u001b[0m\u001b[0m_original_function\u001b[0m \u001b[1;33m=\u001b[0m \u001b[0mfunc\u001b[0m\u001b[1;33m\u001b[0m\u001b[0m\n\u001b[0;32m     93\u001b[0m         \u001b[1;32mreturn\u001b[0m \u001b[0mwrapper\u001b[0m\u001b[1;33m\u001b[0m\u001b[0m\n",
      "\u001b[1;32mc:\\users\\stig\\appdata\\local\\programs\\python\\python36\\lib\\site-packages\\keras\\engine\\training.py\u001b[0m in \u001b[0;36mfit_generator\u001b[1;34m(self, generator, steps_per_epoch, epochs, verbose, callbacks, validation_data, validation_steps, class_weight, max_queue_size, workers, use_multiprocessing, shuffle, initial_epoch)\u001b[0m\n\u001b[0;32m   1416\u001b[0m             \u001b[0muse_multiprocessing\u001b[0m\u001b[1;33m=\u001b[0m\u001b[0muse_multiprocessing\u001b[0m\u001b[1;33m,\u001b[0m\u001b[1;33m\u001b[0m\u001b[0m\n\u001b[0;32m   1417\u001b[0m             \u001b[0mshuffle\u001b[0m\u001b[1;33m=\u001b[0m\u001b[0mshuffle\u001b[0m\u001b[1;33m,\u001b[0m\u001b[1;33m\u001b[0m\u001b[0m\n\u001b[1;32m-> 1418\u001b[1;33m             initial_epoch=initial_epoch)\n\u001b[0m\u001b[0;32m   1419\u001b[0m \u001b[1;33m\u001b[0m\u001b[0m\n\u001b[0;32m   1420\u001b[0m     \u001b[1;33m@\u001b[0m\u001b[0minterfaces\u001b[0m\u001b[1;33m.\u001b[0m\u001b[0mlegacy_generator_methods_support\u001b[0m\u001b[1;33m\u001b[0m\u001b[0m\n",
      "\u001b[1;32mc:\\users\\stig\\appdata\\local\\programs\\python\\python36\\lib\\site-packages\\keras\\engine\\training_generator.py\u001b[0m in \u001b[0;36mfit_generator\u001b[1;34m(model, generator, steps_per_epoch, epochs, verbose, callbacks, validation_data, validation_steps, class_weight, max_queue_size, workers, use_multiprocessing, shuffle, initial_epoch)\u001b[0m\n\u001b[0;32m    179\u001b[0m             \u001b[0mbatch_index\u001b[0m \u001b[1;33m=\u001b[0m \u001b[1;36m0\u001b[0m\u001b[1;33m\u001b[0m\u001b[0m\n\u001b[0;32m    180\u001b[0m             \u001b[1;32mwhile\u001b[0m \u001b[0msteps_done\u001b[0m \u001b[1;33m<\u001b[0m \u001b[0msteps_per_epoch\u001b[0m\u001b[1;33m:\u001b[0m\u001b[1;33m\u001b[0m\u001b[0m\n\u001b[1;32m--> 181\u001b[1;33m                 \u001b[0mgenerator_output\u001b[0m \u001b[1;33m=\u001b[0m \u001b[0mnext\u001b[0m\u001b[1;33m(\u001b[0m\u001b[0moutput_generator\u001b[0m\u001b[1;33m)\u001b[0m\u001b[1;33m\u001b[0m\u001b[0m\n\u001b[0m\u001b[0;32m    182\u001b[0m \u001b[1;33m\u001b[0m\u001b[0m\n\u001b[0;32m    183\u001b[0m                 \u001b[1;32mif\u001b[0m \u001b[1;32mnot\u001b[0m \u001b[0mhasattr\u001b[0m\u001b[1;33m(\u001b[0m\u001b[0mgenerator_output\u001b[0m\u001b[1;33m,\u001b[0m \u001b[1;34m'__len__'\u001b[0m\u001b[1;33m)\u001b[0m\u001b[1;33m:\u001b[0m\u001b[1;33m\u001b[0m\u001b[0m\n",
      "\u001b[1;32mc:\\users\\stig\\appdata\\local\\programs\\python\\python36\\lib\\site-packages\\keras\\utils\\data_utils.py\u001b[0m in \u001b[0;36mget\u001b[1;34m(self)\u001b[0m\n\u001b[0;32m    683\u001b[0m         \u001b[1;32mtry\u001b[0m\u001b[1;33m:\u001b[0m\u001b[1;33m\u001b[0m\u001b[0m\n\u001b[0;32m    684\u001b[0m             \u001b[1;32mwhile\u001b[0m \u001b[0mself\u001b[0m\u001b[1;33m.\u001b[0m\u001b[0mis_running\u001b[0m\u001b[1;33m(\u001b[0m\u001b[1;33m)\u001b[0m\u001b[1;33m:\u001b[0m\u001b[1;33m\u001b[0m\u001b[0m\n\u001b[1;32m--> 685\u001b[1;33m                 \u001b[0minputs\u001b[0m \u001b[1;33m=\u001b[0m \u001b[0mself\u001b[0m\u001b[1;33m.\u001b[0m\u001b[0mqueue\u001b[0m\u001b[1;33m.\u001b[0m\u001b[0mget\u001b[0m\u001b[1;33m(\u001b[0m\u001b[0mblock\u001b[0m\u001b[1;33m=\u001b[0m\u001b[1;32mTrue\u001b[0m\u001b[1;33m)\u001b[0m\u001b[1;33m.\u001b[0m\u001b[0mget\u001b[0m\u001b[1;33m(\u001b[0m\u001b[1;33m)\u001b[0m\u001b[1;33m\u001b[0m\u001b[0m\n\u001b[0m\u001b[0;32m    686\u001b[0m                 \u001b[0mself\u001b[0m\u001b[1;33m.\u001b[0m\u001b[0mqueue\u001b[0m\u001b[1;33m.\u001b[0m\u001b[0mtask_done\u001b[0m\u001b[1;33m(\u001b[0m\u001b[1;33m)\u001b[0m\u001b[1;33m\u001b[0m\u001b[0m\n\u001b[0;32m    687\u001b[0m                 \u001b[1;32mif\u001b[0m \u001b[0minputs\u001b[0m \u001b[1;32mis\u001b[0m \u001b[1;32mnot\u001b[0m \u001b[1;32mNone\u001b[0m\u001b[1;33m:\u001b[0m\u001b[1;33m\u001b[0m\u001b[0m\n",
      "\u001b[1;32mc:\\users\\stig\\appdata\\local\\programs\\python\\python36\\lib\\multiprocessing\\pool.py\u001b[0m in \u001b[0;36mget\u001b[1;34m(self, timeout)\u001b[0m\n\u001b[0;32m    636\u001b[0m \u001b[1;33m\u001b[0m\u001b[0m\n\u001b[0;32m    637\u001b[0m     \u001b[1;32mdef\u001b[0m \u001b[0mget\u001b[0m\u001b[1;33m(\u001b[0m\u001b[0mself\u001b[0m\u001b[1;33m,\u001b[0m \u001b[0mtimeout\u001b[0m\u001b[1;33m=\u001b[0m\u001b[1;32mNone\u001b[0m\u001b[1;33m)\u001b[0m\u001b[1;33m:\u001b[0m\u001b[1;33m\u001b[0m\u001b[0m\n\u001b[1;32m--> 638\u001b[1;33m         \u001b[0mself\u001b[0m\u001b[1;33m.\u001b[0m\u001b[0mwait\u001b[0m\u001b[1;33m(\u001b[0m\u001b[0mtimeout\u001b[0m\u001b[1;33m)\u001b[0m\u001b[1;33m\u001b[0m\u001b[0m\n\u001b[0m\u001b[0;32m    639\u001b[0m         \u001b[1;32mif\u001b[0m \u001b[1;32mnot\u001b[0m \u001b[0mself\u001b[0m\u001b[1;33m.\u001b[0m\u001b[0mready\u001b[0m\u001b[1;33m(\u001b[0m\u001b[1;33m)\u001b[0m\u001b[1;33m:\u001b[0m\u001b[1;33m\u001b[0m\u001b[0m\n\u001b[0;32m    640\u001b[0m             \u001b[1;32mraise\u001b[0m \u001b[0mTimeoutError\u001b[0m\u001b[1;33m\u001b[0m\u001b[0m\n",
      "\u001b[1;32mc:\\users\\stig\\appdata\\local\\programs\\python\\python36\\lib\\multiprocessing\\pool.py\u001b[0m in \u001b[0;36mwait\u001b[1;34m(self, timeout)\u001b[0m\n\u001b[0;32m    633\u001b[0m \u001b[1;33m\u001b[0m\u001b[0m\n\u001b[0;32m    634\u001b[0m     \u001b[1;32mdef\u001b[0m \u001b[0mwait\u001b[0m\u001b[1;33m(\u001b[0m\u001b[0mself\u001b[0m\u001b[1;33m,\u001b[0m \u001b[0mtimeout\u001b[0m\u001b[1;33m=\u001b[0m\u001b[1;32mNone\u001b[0m\u001b[1;33m)\u001b[0m\u001b[1;33m:\u001b[0m\u001b[1;33m\u001b[0m\u001b[0m\n\u001b[1;32m--> 635\u001b[1;33m         \u001b[0mself\u001b[0m\u001b[1;33m.\u001b[0m\u001b[0m_event\u001b[0m\u001b[1;33m.\u001b[0m\u001b[0mwait\u001b[0m\u001b[1;33m(\u001b[0m\u001b[0mtimeout\u001b[0m\u001b[1;33m)\u001b[0m\u001b[1;33m\u001b[0m\u001b[0m\n\u001b[0m\u001b[0;32m    636\u001b[0m \u001b[1;33m\u001b[0m\u001b[0m\n\u001b[0;32m    637\u001b[0m     \u001b[1;32mdef\u001b[0m \u001b[0mget\u001b[0m\u001b[1;33m(\u001b[0m\u001b[0mself\u001b[0m\u001b[1;33m,\u001b[0m \u001b[0mtimeout\u001b[0m\u001b[1;33m=\u001b[0m\u001b[1;32mNone\u001b[0m\u001b[1;33m)\u001b[0m\u001b[1;33m:\u001b[0m\u001b[1;33m\u001b[0m\u001b[0m\n",
      "\u001b[1;32mc:\\users\\stig\\appdata\\local\\programs\\python\\python36\\lib\\threading.py\u001b[0m in \u001b[0;36mwait\u001b[1;34m(self, timeout)\u001b[0m\n\u001b[0;32m    549\u001b[0m             \u001b[0msignaled\u001b[0m \u001b[1;33m=\u001b[0m \u001b[0mself\u001b[0m\u001b[1;33m.\u001b[0m\u001b[0m_flag\u001b[0m\u001b[1;33m\u001b[0m\u001b[0m\n\u001b[0;32m    550\u001b[0m             \u001b[1;32mif\u001b[0m \u001b[1;32mnot\u001b[0m \u001b[0msignaled\u001b[0m\u001b[1;33m:\u001b[0m\u001b[1;33m\u001b[0m\u001b[0m\n\u001b[1;32m--> 551\u001b[1;33m                 \u001b[0msignaled\u001b[0m \u001b[1;33m=\u001b[0m \u001b[0mself\u001b[0m\u001b[1;33m.\u001b[0m\u001b[0m_cond\u001b[0m\u001b[1;33m.\u001b[0m\u001b[0mwait\u001b[0m\u001b[1;33m(\u001b[0m\u001b[0mtimeout\u001b[0m\u001b[1;33m)\u001b[0m\u001b[1;33m\u001b[0m\u001b[0m\n\u001b[0m\u001b[0;32m    552\u001b[0m             \u001b[1;32mreturn\u001b[0m \u001b[0msignaled\u001b[0m\u001b[1;33m\u001b[0m\u001b[0m\n\u001b[0;32m    553\u001b[0m \u001b[1;33m\u001b[0m\u001b[0m\n",
      "\u001b[1;32mc:\\users\\stig\\appdata\\local\\programs\\python\\python36\\lib\\threading.py\u001b[0m in \u001b[0;36mwait\u001b[1;34m(self, timeout)\u001b[0m\n\u001b[0;32m    293\u001b[0m         \u001b[1;32mtry\u001b[0m\u001b[1;33m:\u001b[0m    \u001b[1;31m# restore state no matter what (e.g., KeyboardInterrupt)\u001b[0m\u001b[1;33m\u001b[0m\u001b[0m\n\u001b[0;32m    294\u001b[0m             \u001b[1;32mif\u001b[0m \u001b[0mtimeout\u001b[0m \u001b[1;32mis\u001b[0m \u001b[1;32mNone\u001b[0m\u001b[1;33m:\u001b[0m\u001b[1;33m\u001b[0m\u001b[0m\n\u001b[1;32m--> 295\u001b[1;33m                 \u001b[0mwaiter\u001b[0m\u001b[1;33m.\u001b[0m\u001b[0macquire\u001b[0m\u001b[1;33m(\u001b[0m\u001b[1;33m)\u001b[0m\u001b[1;33m\u001b[0m\u001b[0m\n\u001b[0m\u001b[0;32m    296\u001b[0m                 \u001b[0mgotit\u001b[0m \u001b[1;33m=\u001b[0m \u001b[1;32mTrue\u001b[0m\u001b[1;33m\u001b[0m\u001b[0m\n\u001b[0;32m    297\u001b[0m             \u001b[1;32melse\u001b[0m\u001b[1;33m:\u001b[0m\u001b[1;33m\u001b[0m\u001b[0m\n",
      "\u001b[1;31mKeyboardInterrupt\u001b[0m: "
     ]
    }
   ],
   "source": [
    "history = model.fit_generator(\n",
    "    train_generator,\n",
    "    steps_per_epoch=100,\n",
    "    epochs=100,\n",
    "    validation_data=validation_generator,\n",
    "    validation_steps=50)"
   ]
  },
  {
   "cell_type": "code",
   "execution_count": 14,
   "metadata": {},
   "outputs": [],
   "source": [
    "val_acc = history.history['val_acc']\n",
    "acc = history.history['acc']\n",
    "val_loss = history.history['val_loss']\n",
    "loss = history.history['loss']\n",
    "steps = list(range(len(val_acc)))"
   ]
  },
  {
   "cell_type": "code",
   "execution_count": 15,
   "metadata": {},
   "outputs": [
    {
     "data": {
      "image/png": "[encoded data removed]",
      "text/plain": [
       "<Figure size 432x288 with 1 Axes>"
      ]
     },
     "metadata": {},
     "output_type": "display_data"
    },
    {
     "data": {
      "image/png": "[encoded data removed]",
      "text/plain": [
       "<Figure size 432x288 with 1 Axes>"
      ]
     },
     "metadata": {},
     "output_type": "display_data"
    }
   ],
   "source": [
    "plt.plot(steps, val_acc, 'r-', label='Validation accuracy')\n",
    "plt.plot(steps, acc, 'bo', label='Training accuracy')\n",
    "plt.legend()\n",
    "plt.figure()\n",
    "plt.plot(steps, val_loss, 'r-', label='Validation loss')\n",
    "plt.plot(steps, loss, 'bo', label='Training loss')\n",
    "plt.legend()\n",
    "plt.show()"
   ]
  },
  {
   "cell_type": "code",
   "execution_count": 16,
   "metadata": {},
   "outputs": [],
   "source": [
    "model.save(\"catdog_small.h5\")"
   ]
  },
  {
   "cell_type": "code",
   "execution_count": null,
   "metadata": {},
   "outputs": [],
   "source": []
  }
 ],
 "metadata": {
  "kernelspec": {
   "display_name": "Python 3",
   "language": "python",
   "name": "python3"
  },
  "language_info": {
   "codemirror_mode": {
    "name": "ipython",
    "version": 3
   },
   "file_extension": ".py",
   "mimetype": "text/x-python",
   "name": "python",
   "nbconvert_exporter": "python",
   "pygments_lexer": "ipython3",
   "version": "3.6.5"
  }
 },
 "nbformat": 4,
 "nbformat_minor": 2
}
