{
 "cells": [
  {
   "cell_type": "code",
   "execution_count": 1,
   "metadata": {},
   "outputs": [
    {
     "name": "stderr",
     "output_type": "stream",
     "text": [
      "Using TensorFlow backend.\n"
     ]
    }
   ],
   "source": [
    "import keras"
   ]
  },
  {
   "cell_type": "code",
   "execution_count": 4,
   "metadata": {},
   "outputs": [],
   "source": [
    "from keras.datasets import boston_housing"
   ]
  },
  {
   "cell_type": "code",
   "execution_count": 13,
   "metadata": {},
   "outputs": [],
   "source": [
    "(train_data, train_labels), (test_data, test_labels) = boston_housing.load_data()"
   ]
  },
  {
   "cell_type": "markdown",
   "metadata": {},
   "source": [
    "# Exploring the data\n",
    "\n",
    "Dataset is limited in size.\n",
    "Each sample contains 13 features that could impact the housing price."
   ]
  },
  {
   "cell_type": "code",
   "execution_count": 6,
   "metadata": {},
   "outputs": [
    {
     "data": {
      "text/plain": [
       "(404, 13)"
      ]
     },
     "execution_count": 6,
     "metadata": {},
     "output_type": "execute_result"
    }
   ],
   "source": [
    "train_data.shape"
   ]
  },
  {
   "cell_type": "code",
   "execution_count": 7,
   "metadata": {},
   "outputs": [
    {
     "data": {
      "text/plain": [
       "array([  1.23247,   0.     ,   8.14   ,   0.     ,   0.538  ,   6.142  ,\n",
       "        91.7    ,   3.9769 ,   4.     , 307.     ,  21.     , 396.9    ,\n",
       "        18.72   ])"
      ]
     },
     "execution_count": 7,
     "metadata": {},
     "output_type": "execute_result"
    }
   ],
   "source": [
    "train_data[0]"
   ]
  },
  {
   "cell_type": "markdown",
   "metadata": {},
   "source": [
    "To better preprocess the data, we sample each feature or column (axis=0) to zero mean, unit std."
   ]
  },
  {
   "cell_type": "code",
   "execution_count": 10,
   "metadata": {},
   "outputs": [
    {
     "data": {
      "text/plain": [
       "array([3.74511057e+00, 1.14801980e+01, 1.11044307e+01, 6.18811881e-02,\n",
       "       5.57355941e-01, 6.26708168e+00, 6.90106436e+01, 3.74027079e+00,\n",
       "       9.44059406e+00, 4.05898515e+02, 1.84759901e+01, 3.54783168e+02,\n",
       "       1.27408168e+01])"
      ]
     },
     "execution_count": 10,
     "metadata": {},
     "output_type": "execute_result"
    }
   ],
   "source": [
    "train_data.mean(axis=0)"
   ]
  },
  {
   "cell_type": "code",
   "execution_count": 18,
   "metadata": {},
   "outputs": [],
   "source": [
    "mean = train_data.mean(axis=0)\n",
    "std = train_data.std(axis=0)\n",
    "x_train = train_data - mean\n",
    "x_train = x_train / std"
   ]
  },
  {
   "cell_type": "markdown",
   "metadata": {},
   "source": [
    "Note that we save the mean and std, and use these values also on the testset. We will also use them when predicting on single samples"
   ]
  },
  {
   "cell_type": "code",
   "execution_count": 52,
   "metadata": {},
   "outputs": [],
   "source": [
    "x_test = test_data - mean\n",
    "x_test = x_test / std"
   ]
  },
  {
   "cell_type": "code",
   "execution_count": 22,
   "metadata": {},
   "outputs": [
    {
     "name": "stdout",
     "output_type": "stream",
     "text": [
      "mean [-1.01541438e-16  1.09923072e-17  1.74337992e-15 -1.26686340e-16\n",
      " -5.25377321e-15  6.41414864e-15  2.98441140e-16  4.94653823e-16\n",
      "  1.12671149e-17 -1.98136337e-16  2.36686358e-14  5.95679996e-15\n",
      "  6.13920356e-16] \n",
      "std [1. 1. 1. 1. 1. 1. 1. 1. 1. 1. 1. 1. 1.]\n"
     ]
    }
   ],
   "source": [
    "print('mean', x_train.mean(axis=0), '\\nstd', x_test.std(axis=0))"
   ]
  },
  {
   "cell_type": "markdown",
   "metadata": {},
   "source": [
    "# Building the model\n"
   ]
  },
  {
   "cell_type": "code",
   "execution_count": 26,
   "metadata": {},
   "outputs": [],
   "source": [
    "from keras.models import Sequential\n",
    "from keras.layers import Dense\n",
    "import numpy as np\n",
    "\n",
    "def build_model():\n",
    "    model = Sequential()\n",
    "    model.add(Dense(64, activation='relu', input_shape=(13,)))\n",
    "    model.add(Dense(64, activation='relu'))\n",
    "    model.add(Dense(1))\n",
    "    model.compile(optimizer='rmsprop', loss='mse', metrics=['mae'])\n",
    "    return model"
   ]
  },
  {
   "cell_type": "markdown",
   "metadata": {},
   "source": [
    "Since the dataset is limited in size, the validation set would most likely not well represent the data and can't thus be effectively used to tune hyperparameters. To solve this we use a technique called k-fold validation."
   ]
  },
  {
   "cell_type": "code",
   "execution_count": 31,
   "metadata": {},
   "outputs": [],
   "source": [
    "k = 4\n",
    "validation_size = len(x_train) // k\n",
    "results = []\n",
    "epochs = 500\n",
    "for i in range(k):\n",
    "    x_val = x_train[i * validation_size: (i * validation_size) + validation_size]\n",
    "    y_val = train_labels[i * validation_size: (i * validation_size) + validation_size]\n",
    "    x_traink = np.concatenate([x_train[:i * validation_size], x_train[(i * validation_size) + validation_size:]])\n",
    "    y_traink = np.concatenate([train_labels[:i * validation_size], train_labels[(i * validation_size) + validation_size:]])\n",
    "    \n",
    "    model = build_model()\n",
    "    history = model.fit(x_traink, y_traink, batch_size=1, epochs=epochs, verbose=0, validation_data=(x_val, y_val))\n",
    "    results.append(history.history['val_mean_absolute_error'])\n",
    "\n",
    "res = [np.mean([x[i] for x in results]) for i in range(epochs)]"
   ]
  },
  {
   "cell_type": "code",
   "execution_count": 29,
   "metadata": {},
   "outputs": [
    {
     "name": "stdout",
     "output_type": "stream",
     "text": [
      "[1.3066888496820683, 1.0733347722012612, 1.376800485570045, 1.1341971273076024]\n"
     ]
    }
   ],
   "source": [
    "print(results)"
   ]
  },
  {
   "cell_type": "code",
   "execution_count": 37,
   "metadata": {},
   "outputs": [
    {
     "data": {
      "image/png": "[encoded data removed]",
      "text/plain": [
       "<Figure size 432x288 with 1 Axes>"
      ]
     },
     "metadata": {
      "needs_background": "light"
     },
     "output_type": "display_data"
    }
   ],
   "source": [
    "import matplotlib.pyplot as plt\n",
    "plt.plot(range(epochs), res)\n",
    "plt.show()"
   ]
  },
  {
   "cell_type": "code",
   "execution_count": 42,
   "metadata": {},
   "outputs": [],
   "source": [
    "def running_avg(data):\n",
    "    smooth = []\n",
    "    for i in range(len(data)):\n",
    "        if i > 0:\n",
    "            prev = smooth[-1]\n",
    "            smooth.append(prev * 0.9 + data[i] * 0.1)\n",
    "        else:\n",
    "            smooth.append(data[i])\n",
    "    return smooth\n",
    "smoothed = running_avg(res)"
   ]
  },
  {
   "cell_type": "code",
   "execution_count": 43,
   "metadata": {},
   "outputs": [
    {
     "data": {
      "image/png": "[encoded data removed]",
      "text/plain": [
       "<Figure size 432x288 with 1 Axes>"
      ]
     },
     "metadata": {
      "needs_background": "light"
     },
     "output_type": "display_data"
    }
   ],
   "source": [
    "plt.plot(range(len(res[10:])), running_avg(res[10:]))\n",
    "plt.show()"
   ]
  },
  {
   "cell_type": "markdown",
   "metadata": {},
   "source": [
    "Training for 60 epochs seems best. Now that we verified that, we can train on entire dataset"
   ]
  },
  {
   "cell_type": "code",
   "execution_count": 58,
   "metadata": {
    "scrolled": false
   },
   "outputs": [
    {
     "name": "stdout",
     "output_type": "stream",
     "text": [
      "Epoch 1/80\n",
      "404/404 [==============================] - 0s 535us/step - loss: 468.1990 - mean_absolute_error: 19.7411\n",
      "Epoch 2/80\n",
      "404/404 [==============================] - 0s 30us/step - loss: 278.5765 - mean_absolute_error: 14.6670\n",
      "Epoch 3/80\n",
      "404/404 [==============================] - 0s 31us/step - loss: 125.4825 - mean_absolute_error: 9.0881\n",
      "Epoch 4/80\n",
      "404/404 [==============================] - 0s 29us/step - loss: 58.2286 - mean_absolute_error: 5.7466\n",
      "Epoch 5/80\n",
      "404/404 [==============================] - 0s 31us/step - loss: 35.8743 - mean_absolute_error: 4.3538\n",
      "Epoch 6/80\n",
      "404/404 [==============================] - 0s 29us/step - loss: 27.1684 - mean_absolute_error: 3.7225\n",
      "Epoch 7/80\n",
      "404/404 [==============================] - 0s 30us/step - loss: 23.5096 - mean_absolute_error: 3.4287\n",
      "Epoch 8/80\n",
      "404/404 [==============================] - 0s 29us/step - loss: 20.6429 - mean_absolute_error: 3.1889\n",
      "Epoch 9/80\n",
      "404/404 [==============================] - 0s 29us/step - loss: 18.8728 - mean_absolute_error: 3.0424\n",
      "Epoch 10/80\n",
      "404/404 [==============================] - 0s 30us/step - loss: 17.2042 - mean_absolute_error: 2.8836\n",
      "Epoch 11/80\n",
      "404/404 [==============================] - 0s 31us/step - loss: 15.6808 - mean_absolute_error: 2.7839\n",
      "Epoch 12/80\n",
      "404/404 [==============================] - 0s 29us/step - loss: 14.5834 - mean_absolute_error: 2.6528\n",
      "Epoch 13/80\n",
      "404/404 [==============================] - 0s 29us/step - loss: 13.4527 - mean_absolute_error: 2.5879\n",
      "Epoch 14/80\n",
      "404/404 [==============================] - 0s 29us/step - loss: 12.5454 - mean_absolute_error: 2.4944\n",
      "Epoch 15/80\n",
      "404/404 [==============================] - 0s 29us/step - loss: 11.9604 - mean_absolute_error: 2.4608\n",
      "Epoch 16/80\n",
      "404/404 [==============================] - 0s 29us/step - loss: 11.5499 - mean_absolute_error: 2.3876\n",
      "Epoch 17/80\n",
      "404/404 [==============================] - 0s 29us/step - loss: 11.1339 - mean_absolute_error: 2.3473\n",
      "Epoch 18/80\n",
      "404/404 [==============================] - 0s 30us/step - loss: 10.8837 - mean_absolute_error: 2.3511\n",
      "Epoch 19/80\n",
      "404/404 [==============================] - 0s 30us/step - loss: 10.2255 - mean_absolute_error: 2.2902\n",
      "Epoch 20/80\n",
      "404/404 [==============================] - 0s 30us/step - loss: 10.1039 - mean_absolute_error: 2.2270\n",
      "Epoch 21/80\n",
      "404/404 [==============================] - 0s 30us/step - loss: 10.1517 - mean_absolute_error: 2.2583\n",
      "Epoch 22/80\n",
      "404/404 [==============================] - 0s 30us/step - loss: 9.7585 - mean_absolute_error: 2.2087\n",
      "Epoch 23/80\n",
      "404/404 [==============================] - 0s 29us/step - loss: 9.7792 - mean_absolute_error: 2.2101\n",
      "Epoch 24/80\n",
      "404/404 [==============================] - 0s 29us/step - loss: 9.5702 - mean_absolute_error: 2.1939\n",
      "Epoch 25/80\n",
      "404/404 [==============================] - 0s 30us/step - loss: 9.4143 - mean_absolute_error: 2.2276\n",
      "Epoch 26/80\n",
      "404/404 [==============================] - 0s 29us/step - loss: 9.3254 - mean_absolute_error: 2.1475\n",
      "Epoch 27/80\n",
      "404/404 [==============================] - 0s 30us/step - loss: 9.2455 - mean_absolute_error: 2.1681\n",
      "Epoch 28/80\n",
      "404/404 [==============================] - 0s 30us/step - loss: 9.0668 - mean_absolute_error: 2.1350\n",
      "Epoch 29/80\n",
      "404/404 [==============================] - 0s 30us/step - loss: 8.9944 - mean_absolute_error: 2.1229\n",
      "Epoch 30/80\n",
      "404/404 [==============================] - 0s 29us/step - loss: 8.9967 - mean_absolute_error: 2.1072\n",
      "Epoch 31/80\n",
      "404/404 [==============================] - 0s 29us/step - loss: 8.8310 - mean_absolute_error: 2.1348\n",
      "Epoch 32/80\n",
      "404/404 [==============================] - 0s 29us/step - loss: 8.6098 - mean_absolute_error: 2.0591\n",
      "Epoch 33/80\n",
      "404/404 [==============================] - 0s 30us/step - loss: 8.4905 - mean_absolute_error: 2.0595\n",
      "Epoch 34/80\n",
      "404/404 [==============================] - 0s 29us/step - loss: 8.4857 - mean_absolute_error: 2.0631\n",
      "Epoch 35/80\n",
      "404/404 [==============================] - 0s 29us/step - loss: 8.3000 - mean_absolute_error: 2.0343\n",
      "Epoch 36/80\n",
      "404/404 [==============================] - 0s 32us/step - loss: 8.4140 - mean_absolute_error: 2.1045\n",
      "Epoch 37/80\n",
      "404/404 [==============================] - 0s 29us/step - loss: 8.3303 - mean_absolute_error: 2.0425\n",
      "Epoch 38/80\n",
      "404/404 [==============================] - 0s 30us/step - loss: 8.1775 - mean_absolute_error: 2.0147\n",
      "Epoch 39/80\n",
      "404/404 [==============================] - 0s 30us/step - loss: 8.3558 - mean_absolute_error: 2.0132\n",
      "Epoch 40/80\n",
      "404/404 [==============================] - 0s 32us/step - loss: 8.0549 - mean_absolute_error: 1.9702\n",
      "Epoch 41/80\n",
      "404/404 [==============================] - 0s 31us/step - loss: 7.9190 - mean_absolute_error: 1.9671\n",
      "Epoch 42/80\n",
      "404/404 [==============================] - 0s 30us/step - loss: 7.8987 - mean_absolute_error: 1.9471\n",
      "Epoch 43/80\n",
      "404/404 [==============================] - 0s 30us/step - loss: 7.9627 - mean_absolute_error: 1.9869\n",
      "Epoch 44/80\n",
      "404/404 [==============================] - 0s 30us/step - loss: 7.6810 - mean_absolute_error: 1.9472\n",
      "Epoch 45/80\n",
      "404/404 [==============================] - 0s 30us/step - loss: 7.7771 - mean_absolute_error: 1.9600\n",
      "Epoch 46/80\n",
      "404/404 [==============================] - 0s 30us/step - loss: 7.4489 - mean_absolute_error: 1.9337\n",
      "Epoch 47/80\n",
      "404/404 [==============================] - 0s 30us/step - loss: 7.5823 - mean_absolute_error: 1.9449\n",
      "Epoch 48/80\n",
      "404/404 [==============================] - 0s 29us/step - loss: 7.5818 - mean_absolute_error: 1.9237\n",
      "Epoch 49/80\n",
      "404/404 [==============================] - 0s 29us/step - loss: 7.4002 - mean_absolute_error: 1.9307\n",
      "Epoch 50/80\n",
      "404/404 [==============================] - 0s 30us/step - loss: 7.3447 - mean_absolute_error: 1.8916\n",
      "Epoch 51/80\n",
      "404/404 [==============================] - 0s 30us/step - loss: 7.4572 - mean_absolute_error: 1.9243\n",
      "Epoch 52/80\n",
      "404/404 [==============================] - 0s 29us/step - loss: 7.5066 - mean_absolute_error: 1.9224\n",
      "Epoch 53/80\n",
      "404/404 [==============================] - 0s 30us/step - loss: 7.3429 - mean_absolute_error: 1.9142\n",
      "Epoch 54/80\n",
      "404/404 [==============================] - 0s 30us/step - loss: 7.3553 - mean_absolute_error: 1.9084\n",
      "Epoch 55/80\n",
      "404/404 [==============================] - 0s 30us/step - loss: 7.0623 - mean_absolute_error: 1.8559\n",
      "Epoch 56/80\n",
      "404/404 [==============================] - 0s 30us/step - loss: 6.8485 - mean_absolute_error: 1.8491\n",
      "Epoch 57/80\n",
      "404/404 [==============================] - 0s 31us/step - loss: 7.0712 - mean_absolute_error: 1.8609\n",
      "Epoch 58/80\n",
      "404/404 [==============================] - 0s 30us/step - loss: 6.7771 - mean_absolute_error: 1.8291\n",
      "Epoch 59/80\n",
      "404/404 [==============================] - 0s 31us/step - loss: 6.9709 - mean_absolute_error: 1.8632\n",
      "Epoch 60/80\n",
      "404/404 [==============================] - 0s 30us/step - loss: 6.7613 - mean_absolute_error: 1.8046\n",
      "Epoch 61/80\n",
      "404/404 [==============================] - 0s 30us/step - loss: 6.8804 - mean_absolute_error: 1.8548\n",
      "Epoch 62/80\n",
      "404/404 [==============================] - 0s 31us/step - loss: 6.9369 - mean_absolute_error: 1.8422\n",
      "Epoch 63/80\n",
      "404/404 [==============================] - 0s 30us/step - loss: 6.7032 - mean_absolute_error: 1.8151\n",
      "Epoch 64/80\n",
      "404/404 [==============================] - 0s 30us/step - loss: 6.7308 - mean_absolute_error: 1.8088\n",
      "Epoch 65/80\n",
      "404/404 [==============================] - 0s 30us/step - loss: 6.6563 - mean_absolute_error: 1.8289\n",
      "Epoch 66/80\n",
      "404/404 [==============================] - 0s 30us/step - loss: 6.6836 - mean_absolute_error: 1.8080\n",
      "Epoch 67/80\n",
      "404/404 [==============================] - 0s 30us/step - loss: 6.4024 - mean_absolute_error: 1.8056\n",
      "Epoch 68/80\n",
      "404/404 [==============================] - 0s 30us/step - loss: 6.4923 - mean_absolute_error: 1.8145\n",
      "Epoch 69/80\n",
      "404/404 [==============================] - 0s 30us/step - loss: 6.4333 - mean_absolute_error: 1.7902\n",
      "Epoch 70/80\n",
      "404/404 [==============================] - 0s 30us/step - loss: 6.5496 - mean_absolute_error: 1.8030\n",
      "Epoch 71/80\n",
      "404/404 [==============================] - 0s 30us/step - loss: 6.3890 - mean_absolute_error: 1.7673\n",
      "Epoch 72/80\n",
      "404/404 [==============================] - 0s 29us/step - loss: 6.3682 - mean_absolute_error: 1.7651\n",
      "Epoch 73/80\n"
     ]
    },
    {
     "name": "stdout",
     "output_type": "stream",
     "text": [
      "404/404 [==============================] - 0s 30us/step - loss: 6.0662 - mean_absolute_error: 1.7318\n",
      "Epoch 74/80\n",
      "404/404 [==============================] - 0s 30us/step - loss: 6.2968 - mean_absolute_error: 1.7556\n",
      "Epoch 75/80\n",
      "404/404 [==============================] - 0s 29us/step - loss: 6.1007 - mean_absolute_error: 1.7326\n",
      "Epoch 76/80\n",
      "404/404 [==============================] - 0s 30us/step - loss: 6.1843 - mean_absolute_error: 1.7183\n",
      "Epoch 77/80\n",
      "404/404 [==============================] - 0s 32us/step - loss: 6.0777 - mean_absolute_error: 1.7248\n",
      "Epoch 78/80\n",
      "404/404 [==============================] - 0s 30us/step - loss: 5.7794 - mean_absolute_error: 1.7071\n",
      "Epoch 79/80\n",
      "404/404 [==============================] - 0s 30us/step - loss: 6.2194 - mean_absolute_error: 1.7696\n",
      "Epoch 80/80\n",
      "404/404 [==============================] - 0s 31us/step - loss: 6.0395 - mean_absolute_error: 1.7201\n"
     ]
    },
    {
     "data": {
      "text/plain": [
       "<keras.callbacks.History at 0x7fad2940b908>"
      ]
     },
     "execution_count": 58,
     "metadata": {},
     "output_type": "execute_result"
    }
   ],
   "source": [
    "model = build_model()\n",
    "model.fit(x_train, train_labels, batch_size=16, epochs=80)"
   ]
  },
  {
   "cell_type": "markdown",
   "metadata": {},
   "source": [
    "Final val_mean_absolut_error is 2.1164, since labels of 1 = 1000 dollar, offset to validation is 2116 dollar"
   ]
  },
  {
   "cell_type": "code",
   "execution_count": 59,
   "metadata": {},
   "outputs": [
    {
     "name": "stdout",
     "output_type": "stream",
     "text": [
      "102/102 [==============================] - 0s 789us/step\n"
     ]
    },
    {
     "data": {
      "text/plain": [
       "[20.386094336416207, 2.9506431373895383]"
      ]
     },
     "execution_count": 59,
     "metadata": {},
     "output_type": "execute_result"
    }
   ],
   "source": [
    "model.evaluate(x_test, test_labels)"
   ]
  },
  {
   "cell_type": "markdown",
   "metadata": {},
   "source": [
    "2711 dollar away from the testset"
   ]
  },
  {
   "cell_type": "code",
   "execution_count": null,
   "metadata": {},
   "outputs": [],
   "source": []
  }
 ],
 "metadata": {
  "kernelspec": {
   "display_name": "Python 3",
   "language": "python",
   "name": "python3"
  },
  "language_info": {
   "codemirror_mode": {
    "name": "ipython",
    "version": 3
   },
   "file_extension": ".py",
   "mimetype": "text/x-python",
   "name": "python",
   "nbconvert_exporter": "python",
   "pygments_lexer": "ipython3",
   "version": "3.6.6+"
  }
 },
 "nbformat": 4,
 "nbformat_minor": 2
}
