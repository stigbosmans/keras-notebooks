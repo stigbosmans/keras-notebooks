{
 "cells": [
  {
   "cell_type": "code",
   "execution_count": 16,
   "metadata": {},
   "outputs": [],
   "source": [
    "import keras\n",
    "from keras import models\n",
    "from keras import layers\n",
    "from keras import optimizers"
   ]
  },
  {
   "cell_type": "code",
   "execution_count": 17,
   "metadata": {},
   "outputs": [],
   "source": [
    "from keras.applications import VGG16"
   ]
  },
  {
   "cell_type": "code",
   "execution_count": null,
   "metadata": {},
   "outputs": [],
   "source": [
    "conv_base = VGG16(weights='imagenet', include_top=False, input_shape=(150, 150, 3))"
   ]
  },
  {
   "cell_type": "code",
   "execution_count": 4,
   "metadata": {},
   "outputs": [
    {
     "name": "stdout",
     "output_type": "stream",
     "text": [
      "_________________________________________________________________\n",
      "Layer (type)                 Output Shape              Param #   \n",
      "=================================================================\n",
      "input_1 (InputLayer)         (None, 150, 150, 3)       0         \n",
      "_________________________________________________________________\n",
      "block1_conv1 (Conv2D)        (None, 150, 150, 64)      1792      \n",
      "_________________________________________________________________\n",
      "block1_conv2 (Conv2D)        (None, 150, 150, 64)      36928     \n",
      "_________________________________________________________________\n",
      "block1_pool (MaxPooling2D)   (None, 75, 75, 64)        0         \n",
      "_________________________________________________________________\n",
      "block2_conv1 (Conv2D)        (None, 75, 75, 128)       73856     \n",
      "_________________________________________________________________\n",
      "block2_conv2 (Conv2D)        (None, 75, 75, 128)       147584    \n",
      "_________________________________________________________________\n",
      "block2_pool (MaxPooling2D)   (None, 37, 37, 128)       0         \n",
      "_________________________________________________________________\n",
      "block3_conv1 (Conv2D)        (None, 37, 37, 256)       295168    \n",
      "_________________________________________________________________\n",
      "block3_conv2 (Conv2D)        (None, 37, 37, 256)       590080    \n",
      "_________________________________________________________________\n",
      "block3_conv3 (Conv2D)        (None, 37, 37, 256)       590080    \n",
      "_________________________________________________________________\n",
      "block3_pool (MaxPooling2D)   (None, 18, 18, 256)       0         \n",
      "_________________________________________________________________\n",
      "block4_conv1 (Conv2D)        (None, 18, 18, 512)       1180160   \n",
      "_________________________________________________________________\n",
      "block4_conv2 (Conv2D)        (None, 18, 18, 512)       2359808   \n",
      "_________________________________________________________________\n",
      "block4_conv3 (Conv2D)        (None, 18, 18, 512)       2359808   \n",
      "_________________________________________________________________\n",
      "block4_pool (MaxPooling2D)   (None, 9, 9, 512)         0         \n",
      "_________________________________________________________________\n",
      "block5_conv1 (Conv2D)        (None, 9, 9, 512)         2359808   \n",
      "_________________________________________________________________\n",
      "block5_conv2 (Conv2D)        (None, 9, 9, 512)         2359808   \n",
      "_________________________________________________________________\n",
      "block5_conv3 (Conv2D)        (None, 9, 9, 512)         2359808   \n",
      "_________________________________________________________________\n",
      "block5_pool (MaxPooling2D)   (None, 4, 4, 512)         0         \n",
      "=================================================================\n",
      "Total params: 14,714,688\n",
      "Trainable params: 14,714,688\n",
      "Non-trainable params: 0\n",
      "_________________________________________________________________\n"
     ]
    }
   ],
   "source": [
    "conv_base.summary()"
   ]
  },
  {
   "cell_type": "markdown",
   "metadata": {},
   "source": [
    "# Method 1: Fast Feature extraction without Data Augmentation\n",
    "\n",
    "Use conv_base to compute embedding. Use this embedding as input in another classifier.\n",
    "Advantage is that this is fast but you cannot use data augmentation."
   ]
  },
  {
   "cell_type": "code",
   "execution_count": 5,
   "metadata": {},
   "outputs": [
    {
     "name": "stdout",
     "output_type": "stream",
     "text": [
      "Found 1999 images belonging to 2 classes.\n"
     ]
    },
    {
     "name": "stderr",
     "output_type": "stream",
     "text": [
      "c:\\users\\stig\\appdata\\local\\programs\\python\\python36\\lib\\site-packages\\PIL\\TiffImagePlugin.py:754: UserWarning: Possibly corrupt EXIF data.  Expecting to read 80000 bytes but only got 0. Skipping tag 64640\n",
      "  \" Skipping tag %s\" % (size, len(data), tag))\n",
      "c:\\users\\stig\\appdata\\local\\programs\\python\\python36\\lib\\site-packages\\PIL\\TiffImagePlugin.py:754: UserWarning: Possibly corrupt EXIF data.  Expecting to read 6553600 bytes but only got 0. Skipping tag 49\n",
      "  \" Skipping tag %s\" % (size, len(data), tag))\n",
      "c:\\users\\stig\\appdata\\local\\programs\\python\\python36\\lib\\site-packages\\PIL\\TiffImagePlugin.py:754: UserWarning: Possibly corrupt EXIF data.  Expecting to read 1050744 bytes but only got 4951. Skipping tag 51\n",
      "  \" Skipping tag %s\" % (size, len(data), tag))\n",
      "c:\\users\\stig\\appdata\\local\\programs\\python\\python36\\lib\\site-packages\\PIL\\TiffImagePlugin.py:754: UserWarning: Possibly corrupt EXIF data.  Expecting to read 293339136 bytes but only got 0. Skipping tag 5\n",
      "  \" Skipping tag %s\" % (size, len(data), tag))\n",
      "c:\\users\\stig\\appdata\\local\\programs\\python\\python36\\lib\\site-packages\\PIL\\TiffImagePlugin.py:754: UserWarning: Possibly corrupt EXIF data.  Expecting to read 293863424 bytes but only got 0. Skipping tag 5\n",
      "  \" Skipping tag %s\" % (size, len(data), tag))\n",
      "c:\\users\\stig\\appdata\\local\\programs\\python\\python36\\lib\\site-packages\\PIL\\TiffImagePlugin.py:754: UserWarning: Possibly corrupt EXIF data.  Expecting to read 3368026112 bytes but only got 0. Skipping tag 7\n",
      "  \" Skipping tag %s\" % (size, len(data), tag))\n",
      "c:\\users\\stig\\appdata\\local\\programs\\python\\python36\\lib\\site-packages\\PIL\\TiffImagePlugin.py:754: UserWarning: Possibly corrupt EXIF data.  Expecting to read 134479872 bytes but only got 0. Skipping tag 7\n",
      "  \" Skipping tag %s\" % (size, len(data), tag))\n",
      "c:\\users\\stig\\appdata\\local\\programs\\python\\python36\\lib\\site-packages\\PIL\\TiffImagePlugin.py:754: UserWarning: Possibly corrupt EXIF data.  Expecting to read 295698432 bytes but only got 0. Skipping tag 10\n",
      "  \" Skipping tag %s\" % (size, len(data), tag))\n",
      "c:\\users\\stig\\appdata\\local\\programs\\python\\python36\\lib\\site-packages\\PIL\\TiffImagePlugin.py:754: UserWarning: Possibly corrupt EXIF data.  Expecting to read 296222720 bytes but only got 0. Skipping tag 5\n",
      "  \" Skipping tag %s\" % (size, len(data), tag))\n",
      "c:\\users\\stig\\appdata\\local\\programs\\python\\python36\\lib\\site-packages\\PIL\\TiffImagePlugin.py:754: UserWarning: Possibly corrupt EXIF data.  Expecting to read 3300917248 bytes but only got 0. Skipping tag 7\n",
      "  \" Skipping tag %s\" % (size, len(data), tag))\n",
      "c:\\users\\stig\\appdata\\local\\programs\\python\\python36\\lib\\site-packages\\PIL\\TiffImagePlugin.py:754: UserWarning: Possibly corrupt EXIF data.  Expecting to read 65536 bytes but only got 0. Skipping tag 3\n",
      "  \" Skipping tag %s\" % (size, len(data), tag))\n",
      "c:\\users\\stig\\appdata\\local\\programs\\python\\python36\\lib\\site-packages\\PIL\\TiffImagePlugin.py:754: UserWarning: Possibly corrupt EXIF data.  Expecting to read 14745600 bytes but only got 0. Skipping tag 4\n",
      "  \" Skipping tag %s\" % (size, len(data), tag))\n",
      "c:\\users\\stig\\appdata\\local\\programs\\python\\python36\\lib\\site-packages\\PIL\\TiffImagePlugin.py:754: UserWarning: Possibly corrupt EXIF data.  Expecting to read 25624576 bytes but only got 0. Skipping tag 4\n",
      "  \" Skipping tag %s\" % (size, len(data), tag))\n",
      "c:\\users\\stig\\appdata\\local\\programs\\python\\python36\\lib\\site-packages\\PIL\\TiffImagePlugin.py:754: UserWarning: Possibly corrupt EXIF data.  Expecting to read 317718528 bytes but only got 4956. Skipping tag 4\n",
      "  \" Skipping tag %s\" % (size, len(data), tag))\n",
      "c:\\users\\stig\\appdata\\local\\programs\\python\\python36\\lib\\site-packages\\PIL\\TiffImagePlugin.py:754: UserWarning: Possibly corrupt EXIF data.  Expecting to read 131073 bytes but only got 4952. Skipping tag 0\n",
      "  \" Skipping tag %s\" % (size, len(data), tag))\n",
      "c:\\users\\stig\\appdata\\local\\programs\\python\\python36\\lib\\site-packages\\PIL\\TiffImagePlugin.py:754: UserWarning: Possibly corrupt EXIF data.  Expecting to read 393216 bytes but only got 0. Skipping tag 3\n",
      "  \" Skipping tag %s\" % (size, len(data), tag))\n",
      "c:\\users\\stig\\appdata\\local\\programs\\python\\python36\\lib\\site-packages\\PIL\\TiffImagePlugin.py:754: UserWarning: Possibly corrupt EXIF data.  Expecting to read 287178752 bytes but only got 0. Skipping tag 5\n",
      "  \" Skipping tag %s\" % (size, len(data), tag))\n",
      "c:\\users\\stig\\appdata\\local\\programs\\python\\python36\\lib\\site-packages\\PIL\\TiffImagePlugin.py:754: UserWarning: Possibly corrupt EXIF data.  Expecting to read 287703040 bytes but only got 0. Skipping tag 5\n",
      "  \" Skipping tag %s\" % (size, len(data), tag))\n",
      "c:\\users\\stig\\appdata\\local\\programs\\python\\python36\\lib\\site-packages\\PIL\\TiffImagePlugin.py:754: UserWarning: Possibly corrupt EXIF data.  Expecting to read 131072 bytes but only got 0. Skipping tag 3\n",
      "  \" Skipping tag %s\" % (size, len(data), tag))\n",
      "c:\\users\\stig\\appdata\\local\\programs\\python\\python36\\lib\\site-packages\\PIL\\TiffImagePlugin.py:754: UserWarning: Possibly corrupt EXIF data.  Expecting to read 524288 bytes but only got 0. Skipping tag 4\n",
      "  \" Skipping tag %s\" % (size, len(data), tag))\n",
      "c:\\users\\stig\\appdata\\local\\programs\\python\\python36\\lib\\site-packages\\PIL\\TiffImagePlugin.py:754: UserWarning: Possibly corrupt EXIF data.  Expecting to read 286654464 bytes but only got 4956. Skipping tag 4\n",
      "  \" Skipping tag %s\" % (size, len(data), tag))\n",
      "c:\\users\\stig\\appdata\\local\\programs\\python\\python36\\lib\\site-packages\\PIL\\TiffImagePlugin.py:771: UserWarning: Corrupt EXIF data.  Expecting to read 12 bytes but only got 2. \n",
      "  warnings.warn(str(msg))\n"
     ]
    },
    {
     "name": "stdout",
     "output_type": "stream",
     "text": [
      "Found 1000 images belonging to 2 classes.\n"
     ]
    },
    {
     "name": "stderr",
     "output_type": "stream",
     "text": [
      "c:\\users\\stig\\appdata\\local\\programs\\python\\python36\\lib\\site-packages\\PIL\\TiffImagePlugin.py:754: UserWarning: Possibly corrupt EXIF data.  Expecting to read 404094976 bytes but only got 0. Skipping tag 5\n",
      "  \" Skipping tag %s\" % (size, len(data), tag))\n",
      "c:\\users\\stig\\appdata\\local\\programs\\python\\python36\\lib\\site-packages\\PIL\\TiffImagePlugin.py:754: UserWarning: Possibly corrupt EXIF data.  Expecting to read 404619264 bytes but only got 0. Skipping tag 5\n",
      "  \" Skipping tag %s\" % (size, len(data), tag))\n",
      "c:\\users\\stig\\appdata\\local\\programs\\python\\python36\\lib\\site-packages\\PIL\\TiffImagePlugin.py:754: UserWarning: Possibly corrupt EXIF data.  Expecting to read 425459712 bytes but only got 0. Skipping tag 4\n",
      "  \" Skipping tag %s\" % (size, len(data), tag))\n",
      "c:\\users\\stig\\appdata\\local\\programs\\python\\python36\\lib\\site-packages\\PIL\\TiffImagePlugin.py:754: UserWarning: Possibly corrupt EXIF data.  Expecting to read 1385474 bytes but only got 6833. Skipping tag 513\n",
      "  \" Skipping tag %s\" % (size, len(data), tag))\n",
      "c:\\users\\stig\\appdata\\local\\programs\\python\\python36\\lib\\site-packages\\PIL\\TiffImagePlugin.py:754: UserWarning: Possibly corrupt EXIF data.  Expecting to read 3846701056 bytes but only got 0. Skipping tag 2\n",
      "  \" Skipping tag %s\" % (size, len(data), tag))\n",
      "c:\\users\\stig\\appdata\\local\\programs\\python\\python36\\lib\\site-packages\\PIL\\TiffImagePlugin.py:754: UserWarning: Possibly corrupt EXIF data.  Expecting to read 196867 bytes but only got 6833. Skipping tag 0\n",
      "  \" Skipping tag %s\" % (size, len(data), tag))\n",
      "c:\\users\\stig\\appdata\\local\\programs\\python\\python36\\lib\\site-packages\\PIL\\TiffImagePlugin.py:771: UserWarning: Corrupt EXIF data.  Expecting to read 12 bytes but only got 8. \n",
      "  warnings.warn(str(msg))\n"
     ]
    }
   ],
   "source": [
    "from keras.preprocessing.image import ImageDataGenerator\n",
    "import numpy as np\n",
    "\n",
    "datagen = ImageDataGenerator(rescale=1./255)\n",
    "def extract_features(directory, sample_count):\n",
    "    features = np.zeros(shape=(sample_count, 4, 4, 512))\n",
    "    labels = np.zeros(shape=(sample_count))\n",
    "    generator = datagen.flow_from_directory(\n",
    "        directory,\n",
    "        target_size=(150, 150),\n",
    "        batch_size=20,\n",
    "        class_mode='binary'\n",
    "    )\n",
    "    i = 0\n",
    "    last = False\n",
    "    for input_batch, labels_batch in generator:\n",
    "        predictions = conv_base.predict(input_batch)\n",
    "        features[i:i + len(input_batch)] = predictions\n",
    "        labels[i:i + len(input_batch)] = labels_batch\n",
    "        i += len(input_batch)\n",
    "        if i >= sample_count-1:\n",
    "            break\n",
    "    return (features, labels)\n",
    "\n",
    "train_data, train_labels = extract_features('datasets/catdog/train', 2000)\n",
    "validation_data, validation_labels = extract_features('datasets/catdog/validation', 1000)"
   ]
  },
  {
   "cell_type": "code",
   "execution_count": 42,
   "metadata": {},
   "outputs": [
    {
     "data": {
      "text/plain": [
       "(2000, 4, 4, 512)"
      ]
     },
     "execution_count": 42,
     "metadata": {},
     "output_type": "execute_result"
    }
   ],
   "source": [
    "train_data.shape"
   ]
  },
  {
   "cell_type": "code",
   "execution_count": 43,
   "metadata": {},
   "outputs": [
    {
     "data": {
      "text/plain": [
       "(1000, 4, 4, 512)"
      ]
     },
     "execution_count": 43,
     "metadata": {},
     "output_type": "execute_result"
    }
   ],
   "source": [
    "validation_data.shape"
   ]
  },
  {
   "cell_type": "code",
   "execution_count": 44,
   "metadata": {},
   "outputs": [],
   "source": [
    "train_data = train_data.reshape(2000, 4 * 4 * 512)"
   ]
  },
  {
   "cell_type": "code",
   "execution_count": 45,
   "metadata": {},
   "outputs": [],
   "source": [
    "validation_data = validation_data.reshape(1000, 4 * 4 * 512)"
   ]
  },
  {
   "cell_type": "code",
   "execution_count": 46,
   "metadata": {},
   "outputs": [
    {
     "name": "stdout",
     "output_type": "stream",
     "text": [
      "Train on 2000 samples, validate on 1000 samples\n",
      "Epoch 1/30\n",
      "2000/2000 [==============================] - 1s 512us/step - loss: 0.6086 - acc: 0.6570 - val_loss: 0.4440 - val_acc: 0.8330\n",
      "Epoch 2/30\n",
      "2000/2000 [==============================] - 1s 275us/step - loss: 0.4345 - acc: 0.7965 - val_loss: 0.3692 - val_acc: 0.8450\n",
      "Epoch 3/30\n",
      "2000/2000 [==============================] - 1s 275us/step - loss: 0.3541 - acc: 0.8500 - val_loss: 0.3177 - val_acc: 0.8770\n",
      "Epoch 4/30\n",
      "2000/2000 [==============================] - 1s 288us/step - loss: 0.3129 - acc: 0.8685 - val_loss: 0.2943 - val_acc: 0.8870\n",
      "Epoch 5/30\n",
      "2000/2000 [==============================] - 1s 277us/step - loss: 0.2848 - acc: 0.8885 - val_loss: 0.2812 - val_acc: 0.8850\n",
      "Epoch 6/30\n",
      "2000/2000 [==============================] - 1s 286us/step - loss: 0.2670 - acc: 0.9030 - val_loss: 0.2702 - val_acc: 0.8900\n",
      "Epoch 7/30\n",
      "2000/2000 [==============================] - 1s 275us/step - loss: 0.2471 - acc: 0.9000 - val_loss: 0.2615 - val_acc: 0.8940\n",
      "Epoch 8/30\n",
      "2000/2000 [==============================] - 1s 275us/step - loss: 0.2295 - acc: 0.9120 - val_loss: 0.2550 - val_acc: 0.8930\n",
      "Epoch 9/30\n",
      "2000/2000 [==============================] - 1s 281us/step - loss: 0.2202 - acc: 0.9180 - val_loss: 0.2495 - val_acc: 0.8980\n",
      "Epoch 10/30\n",
      "2000/2000 [==============================] - 1s 278us/step - loss: 0.2086 - acc: 0.9155 - val_loss: 0.2460 - val_acc: 0.8990\n",
      "Epoch 11/30\n",
      "2000/2000 [==============================] - 1s 278us/step - loss: 0.1992 - acc: 0.9225 - val_loss: 0.2460 - val_acc: 0.8990\n",
      "Epoch 12/30\n",
      "2000/2000 [==============================] - 1s 286us/step - loss: 0.1819 - acc: 0.9325 - val_loss: 0.2407 - val_acc: 0.9010\n",
      "Epoch 13/30\n",
      "2000/2000 [==============================] - 1s 286us/step - loss: 0.1783 - acc: 0.9300 - val_loss: 0.2446 - val_acc: 0.9000\n",
      "Epoch 14/30\n",
      "2000/2000 [==============================] - 1s 280us/step - loss: 0.1720 - acc: 0.9375 - val_loss: 0.2439 - val_acc: 0.9010\n",
      "Epoch 15/30\n",
      "2000/2000 [==============================] - 1s 281us/step - loss: 0.1642 - acc: 0.9405 - val_loss: 0.2361 - val_acc: 0.9090\n",
      "Epoch 16/30\n",
      "2000/2000 [==============================] - 1s 277us/step - loss: 0.1524 - acc: 0.9480 - val_loss: 0.2351 - val_acc: 0.9070\n",
      "Epoch 17/30\n",
      "2000/2000 [==============================] - 1s 281us/step - loss: 0.1517 - acc: 0.9460 - val_loss: 0.2330 - val_acc: 0.9070\n",
      "Epoch 18/30\n",
      "2000/2000 [==============================] - 1s 277us/step - loss: 0.1427 - acc: 0.9470 - val_loss: 0.2432 - val_acc: 0.9040\n",
      "Epoch 19/30\n",
      "2000/2000 [==============================] - 1s 275us/step - loss: 0.1373 - acc: 0.9535 - val_loss: 0.2319 - val_acc: 0.9110\n",
      "Epoch 20/30\n",
      "2000/2000 [==============================] - 1s 278us/step - loss: 0.1293 - acc: 0.9595 - val_loss: 0.2322 - val_acc: 0.9060\n",
      "Epoch 21/30\n",
      "2000/2000 [==============================] - 1s 286us/step - loss: 0.1252 - acc: 0.9600 - val_loss: 0.2314 - val_acc: 0.9060\n",
      "Epoch 22/30\n",
      "2000/2000 [==============================] - 1s 292us/step - loss: 0.1222 - acc: 0.9600 - val_loss: 0.2304 - val_acc: 0.9060\n",
      "Epoch 23/30\n",
      "2000/2000 [==============================] - 1s 274us/step - loss: 0.1157 - acc: 0.9625 - val_loss: 0.2371 - val_acc: 0.9090\n",
      "Epoch 24/30\n",
      "2000/2000 [==============================] - 1s 277us/step - loss: 0.1118 - acc: 0.9625 - val_loss: 0.2299 - val_acc: 0.9070\n",
      "Epoch 25/30\n",
      "2000/2000 [==============================] - 1s 295us/step - loss: 0.1052 - acc: 0.9670 - val_loss: 0.2305 - val_acc: 0.9070\n",
      "Epoch 26/30\n",
      "2000/2000 [==============================] - 1s 288us/step - loss: 0.1036 - acc: 0.9690 - val_loss: 0.2341 - val_acc: 0.9070\n",
      "Epoch 27/30\n",
      "2000/2000 [==============================] - 1s 290us/step - loss: 0.0982 - acc: 0.9695 - val_loss: 0.2325 - val_acc: 0.9090\n",
      "Epoch 28/30\n",
      "2000/2000 [==============================] - 1s 282us/step - loss: 0.0943 - acc: 0.9710 - val_loss: 0.2331 - val_acc: 0.9090\n",
      "Epoch 29/30\n",
      "2000/2000 [==============================] - 1s 276us/step - loss: 0.0882 - acc: 0.9675 - val_loss: 0.2333 - val_acc: 0.9060\n",
      "Epoch 30/30\n",
      "2000/2000 [==============================] - 1s 277us/step - loss: 0.0884 - acc: 0.9685 - val_loss: 0.2324 - val_acc: 0.9120\n"
     ]
    }
   ],
   "source": [
    "\n",
    "model = models.Sequential()\n",
    "model.add(layers.Dense(256, activation='relu', input_dim = 4 * 4 * 512))\n",
    "model.add(layers.Dropout(0.5))\n",
    "model.add(layers.Dense(1, activation='sigmoid'))\n",
    "model.compile(optimizer=optimizers.RMSprop(lr=2e-5), loss='binary_crossentropy', metrics=['acc'])\n",
    "history = model.fit(train_data, train_labels, batch_size=20, epochs=30, validation_data=(validation_data, validation_labels))"
   ]
  },
  {
   "cell_type": "code",
   "execution_count": 53,
   "metadata": {},
   "outputs": [],
   "source": [
    "train_acc = history.history['acc']\n",
    "train_loss = history.history['loss']\n",
    "val_acc = history.history['val_acc']\n",
    "val_loss = history.history['val_loss']\n",
    "steps = list(range(len(train_acc)))"
   ]
  },
  {
   "cell_type": "code",
   "execution_count": 58,
   "metadata": {},
   "outputs": [
    {
     "data": {
      "image/png": "[encoded data removed]",
      "text/plain": [
       "<Figure size 432x288 with 1 Axes>"
      ]
     },
     "metadata": {},
     "output_type": "display_data"
    },
    {
     "data": {
      "image/png": "[encoded data removed]",
      "text/plain": [
       "<Figure size 432x288 with 1 Axes>"
      ]
     },
     "metadata": {},
     "output_type": "display_data"
    }
   ],
   "source": [
    "import matplotlib.pyplot as plt\n",
    "plt.plot(steps, train_acc, 'bo', label='Train accuracy')\n",
    "plt.plot(steps, val_acc, 'r-', label='Validation accuracy')\n",
    "plt.legend()\n",
    "plt.show()\n",
    "\n",
    "plt.plot(steps, train_loss, 'bo', label='Train loss')\n",
    "plt.plot(steps, val_loss, 'r-', label='Validation loss')\n",
    "plt.legend()\n",
    "plt.show()"
   ]
  },
  {
   "cell_type": "markdown",
   "metadata": {},
   "source": [
    "# Method 2: Adding additional custom layers to existing model"
   ]
  },
  {
   "cell_type": "code",
   "execution_count": 7,
   "metadata": {},
   "outputs": [],
   "source": [
    "model = models.Sequential()\n",
    "model.add(conv_base)\n",
    "model.add(layers.Flatten())\n",
    "model.add(layers.Dense(256, activation='relu'))\n",
    "model.add(layers.Dense(1, activation='sigmoid'))"
   ]
  },
  {
   "cell_type": "markdown",
   "metadata": {},
   "source": [
    "The first step is to freeze the convolutional base, to make sure we don't train it again. This is done as follows:"
   ]
  },
  {
   "cell_type": "code",
   "execution_count": 8,
   "metadata": {},
   "outputs": [],
   "source": [
    "conv_base.trainable = False"
   ]
  },
  {
   "cell_type": "code",
   "execution_count": 9,
   "metadata": {},
   "outputs": [
    {
     "name": "stdout",
     "output_type": "stream",
     "text": [
      "_________________________________________________________________\n",
      "Layer (type)                 Output Shape              Param #   \n",
      "=================================================================\n",
      "vgg16 (Model)                (None, 4, 4, 512)         14714688  \n",
      "_________________________________________________________________\n",
      "flatten_1 (Flatten)          (None, 8192)              0         \n",
      "_________________________________________________________________\n",
      "dense_1 (Dense)              (None, 256)               2097408   \n",
      "_________________________________________________________________\n",
      "dense_2 (Dense)              (None, 1)                 257       \n",
      "=================================================================\n",
      "Total params: 16,812,353\n",
      "Trainable params: 2,097,665\n",
      "Non-trainable params: 14,714,688\n",
      "_________________________________________________________________\n"
     ]
    }
   ],
   "source": [
    "model.summary()"
   ]
  },
  {
   "cell_type": "markdown",
   "metadata": {},
   "source": [
    "As can be seen in the summary above, all params of conv_base is set to non-trainable"
   ]
  },
  {
   "cell_type": "code",
   "execution_count": 13,
   "metadata": {},
   "outputs": [
    {
     "name": "stdout",
     "output_type": "stream",
     "text": [
      "Found 1999 images belonging to 2 classes.\n",
      "Found 1000 images belonging to 2 classes.\n"
     ]
    }
   ],
   "source": [
    "train_datagen = ImageDataGenerator(\n",
    "    rescale=1./255,\n",
    "    rotation_range=40,\n",
    "    width_shift_range=0.2,\n",
    "    height_shift_range=0.2,\n",
    "    shear_range=0.2,\n",
    "    zoom_range=0.2,\n",
    "    horizontal_flip=True,\n",
    "    fill_mode='nearest')\n",
    "test_datagen = ImageDataGenerator(rescale=1./255)\n",
    "\n",
    "train_generator = train_datagen.flow_from_directory(\n",
    "    'datasets/catdog/train',\n",
    "    target_size=(150,150),\n",
    "    batch_size=20,\n",
    "    class_mode='binary')\n",
    "\n",
    "validation_generator = test_datagen.flow_from_directory(\n",
    "    'datasets/catdog/validation',\n",
    "    target_size=(150,150),\n",
    "    batch_size=20,\n",
    "    class_mode='binary')"
   ]
  },
  {
   "cell_type": "code",
   "execution_count": 66,
   "metadata": {},
   "outputs": [
    {
     "name": "stdout",
     "output_type": "stream",
     "text": [
      "Epoch 1/30\n",
      " 66/100 [==================>...........] - ETA: 3s - loss: 0.2736 - acc: 0.8795"
     ]
    },
    {
     "name": "stderr",
     "output_type": "stream",
     "text": [
      "c:\\users\\stig\\appdata\\local\\programs\\python\\python36\\lib\\site-packages\\PIL\\TiffImagePlugin.py:754: UserWarning: Possibly corrupt EXIF data.  Expecting to read 80000 bytes but only got 0. Skipping tag 64640\n",
      "  \" Skipping tag %s\" % (size, len(data), tag))\n",
      "c:\\users\\stig\\appdata\\local\\programs\\python\\python36\\lib\\site-packages\\PIL\\TiffImagePlugin.py:754: UserWarning: Possibly corrupt EXIF data.  Expecting to read 6553600 bytes but only got 0. Skipping tag 49\n",
      "  \" Skipping tag %s\" % (size, len(data), tag))\n",
      "c:\\users\\stig\\appdata\\local\\programs\\python\\python36\\lib\\site-packages\\PIL\\TiffImagePlugin.py:754: UserWarning: Possibly corrupt EXIF data.  Expecting to read 1050744 bytes but only got 4951. Skipping tag 51\n",
      "  \" Skipping tag %s\" % (size, len(data), tag))\n",
      "c:\\users\\stig\\appdata\\local\\programs\\python\\python36\\lib\\site-packages\\PIL\\TiffImagePlugin.py:754: UserWarning: Possibly corrupt EXIF data.  Expecting to read 293339136 bytes but only got 0. Skipping tag 5\n",
      "  \" Skipping tag %s\" % (size, len(data), tag))\n",
      "c:\\users\\stig\\appdata\\local\\programs\\python\\python36\\lib\\site-packages\\PIL\\TiffImagePlugin.py:754: UserWarning: Possibly corrupt EXIF data.  Expecting to read 293863424 bytes but only got 0. Skipping tag 5\n",
      "  \" Skipping tag %s\" % (size, len(data), tag))\n",
      "c:\\users\\stig\\appdata\\local\\programs\\python\\python36\\lib\\site-packages\\PIL\\TiffImagePlugin.py:754: UserWarning: Possibly corrupt EXIF data.  Expecting to read 3368026112 bytes but only got 0. Skipping tag 7\n",
      "  \" Skipping tag %s\" % (size, len(data), tag))\n",
      "c:\\users\\stig\\appdata\\local\\programs\\python\\python36\\lib\\site-packages\\PIL\\TiffImagePlugin.py:754: UserWarning: Possibly corrupt EXIF data.  Expecting to read 134479872 bytes but only got 0. Skipping tag 7\n",
      "  \" Skipping tag %s\" % (size, len(data), tag))\n",
      "c:\\users\\stig\\appdata\\local\\programs\\python\\python36\\lib\\site-packages\\PIL\\TiffImagePlugin.py:754: UserWarning: Possibly corrupt EXIF data.  Expecting to read 295698432 bytes but only got 0. Skipping tag 10\n",
      "  \" Skipping tag %s\" % (size, len(data), tag))\n",
      "c:\\users\\stig\\appdata\\local\\programs\\python\\python36\\lib\\site-packages\\PIL\\TiffImagePlugin.py:754: UserWarning: Possibly corrupt EXIF data.  Expecting to read 296222720 bytes but only got 0. Skipping tag 5\n",
      "  \" Skipping tag %s\" % (size, len(data), tag))\n",
      "c:\\users\\stig\\appdata\\local\\programs\\python\\python36\\lib\\site-packages\\PIL\\TiffImagePlugin.py:754: UserWarning: Possibly corrupt EXIF data.  Expecting to read 3300917248 bytes but only got 0. Skipping tag 7\n",
      "  \" Skipping tag %s\" % (size, len(data), tag))\n",
      "c:\\users\\stig\\appdata\\local\\programs\\python\\python36\\lib\\site-packages\\PIL\\TiffImagePlugin.py:754: UserWarning: Possibly corrupt EXIF data.  Expecting to read 65536 bytes but only got 0. Skipping tag 3\n",
      "  \" Skipping tag %s\" % (size, len(data), tag))\n",
      "c:\\users\\stig\\appdata\\local\\programs\\python\\python36\\lib\\site-packages\\PIL\\TiffImagePlugin.py:754: UserWarning: Possibly corrupt EXIF data.  Expecting to read 14745600 bytes but only got 0. Skipping tag 4\n",
      "  \" Skipping tag %s\" % (size, len(data), tag))\n",
      "c:\\users\\stig\\appdata\\local\\programs\\python\\python36\\lib\\site-packages\\PIL\\TiffImagePlugin.py:754: UserWarning: Possibly corrupt EXIF data.  Expecting to read 25624576 bytes but only got 0. Skipping tag 4\n",
      "  \" Skipping tag %s\" % (size, len(data), tag))\n",
      "c:\\users\\stig\\appdata\\local\\programs\\python\\python36\\lib\\site-packages\\PIL\\TiffImagePlugin.py:754: UserWarning: Possibly corrupt EXIF data.  Expecting to read 317718528 bytes but only got 4956. Skipping tag 4\n",
      "  \" Skipping tag %s\" % (size, len(data), tag))\n",
      "c:\\users\\stig\\appdata\\local\\programs\\python\\python36\\lib\\site-packages\\PIL\\TiffImagePlugin.py:754: UserWarning: Possibly corrupt EXIF data.  Expecting to read 131073 bytes but only got 4952. Skipping tag 0\n",
      "  \" Skipping tag %s\" % (size, len(data), tag))\n",
      "c:\\users\\stig\\appdata\\local\\programs\\python\\python36\\lib\\site-packages\\PIL\\TiffImagePlugin.py:754: UserWarning: Possibly corrupt EXIF data.  Expecting to read 393216 bytes but only got 0. Skipping tag 3\n",
      "  \" Skipping tag %s\" % (size, len(data), tag))\n",
      "c:\\users\\stig\\appdata\\local\\programs\\python\\python36\\lib\\site-packages\\PIL\\TiffImagePlugin.py:754: UserWarning: Possibly corrupt EXIF data.  Expecting to read 287178752 bytes but only got 0. Skipping tag 5\n",
      "  \" Skipping tag %s\" % (size, len(data), tag))\n",
      "c:\\users\\stig\\appdata\\local\\programs\\python\\python36\\lib\\site-packages\\PIL\\TiffImagePlugin.py:754: UserWarning: Possibly corrupt EXIF data.  Expecting to read 287703040 bytes but only got 0. Skipping tag 5\n",
      "  \" Skipping tag %s\" % (size, len(data), tag))\n",
      "c:\\users\\stig\\appdata\\local\\programs\\python\\python36\\lib\\site-packages\\PIL\\TiffImagePlugin.py:754: UserWarning: Possibly corrupt EXIF data.  Expecting to read 131072 bytes but only got 0. Skipping tag 3\n",
      "  \" Skipping tag %s\" % (size, len(data), tag))\n",
      "c:\\users\\stig\\appdata\\local\\programs\\python\\python36\\lib\\site-packages\\PIL\\TiffImagePlugin.py:754: UserWarning: Possibly corrupt EXIF data.  Expecting to read 524288 bytes but only got 0. Skipping tag 4\n",
      "  \" Skipping tag %s\" % (size, len(data), tag))\n",
      "c:\\users\\stig\\appdata\\local\\programs\\python\\python36\\lib\\site-packages\\PIL\\TiffImagePlugin.py:754: UserWarning: Possibly corrupt EXIF data.  Expecting to read 286654464 bytes but only got 4956. Skipping tag 4\n",
      "  \" Skipping tag %s\" % (size, len(data), tag))\n",
      "c:\\users\\stig\\appdata\\local\\programs\\python\\python36\\lib\\site-packages\\PIL\\TiffImagePlugin.py:771: UserWarning: Corrupt EXIF data.  Expecting to read 12 bytes but only got 2. \n",
      "  warnings.warn(str(msg))\n"
     ]
    },
    {
     "name": "stdout",
     "output_type": "stream",
     "text": [
      " 99/100 [============================>.] - ETA: 0s - loss: 0.2772 - acc: 0.8737"
     ]
    },
    {
     "name": "stderr",
     "output_type": "stream",
     "text": [
      "c:\\users\\stig\\appdata\\local\\programs\\python\\python36\\lib\\site-packages\\PIL\\TiffImagePlugin.py:754: UserWarning: Possibly corrupt EXIF data.  Expecting to read 404094976 bytes but only got 0. Skipping tag 5\n",
      "  \" Skipping tag %s\" % (size, len(data), tag))\n",
      "c:\\users\\stig\\appdata\\local\\programs\\python\\python36\\lib\\site-packages\\PIL\\TiffImagePlugin.py:754: UserWarning: Possibly corrupt EXIF data.  Expecting to read 404619264 bytes but only got 0. Skipping tag 5\n",
      "  \" Skipping tag %s\" % (size, len(data), tag))\n",
      "c:\\users\\stig\\appdata\\local\\programs\\python\\python36\\lib\\site-packages\\PIL\\TiffImagePlugin.py:754: UserWarning: Possibly corrupt EXIF data.  Expecting to read 425459712 bytes but only got 0. Skipping tag 4\n",
      "  \" Skipping tag %s\" % (size, len(data), tag))\n",
      "c:\\users\\stig\\appdata\\local\\programs\\python\\python36\\lib\\site-packages\\PIL\\TiffImagePlugin.py:754: UserWarning: Possibly corrupt EXIF data.  Expecting to read 1385474 bytes but only got 6833. Skipping tag 513\n",
      "  \" Skipping tag %s\" % (size, len(data), tag))\n",
      "c:\\users\\stig\\appdata\\local\\programs\\python\\python36\\lib\\site-packages\\PIL\\TiffImagePlugin.py:754: UserWarning: Possibly corrupt EXIF data.  Expecting to read 3846701056 bytes but only got 0. Skipping tag 2\n",
      "  \" Skipping tag %s\" % (size, len(data), tag))\n",
      "c:\\users\\stig\\appdata\\local\\programs\\python\\python36\\lib\\site-packages\\PIL\\TiffImagePlugin.py:754: UserWarning: Possibly corrupt EXIF data.  Expecting to read 196867 bytes but only got 6833. Skipping tag 0\n",
      "  \" Skipping tag %s\" % (size, len(data), tag))\n",
      "c:\\users\\stig\\appdata\\local\\programs\\python\\python36\\lib\\site-packages\\PIL\\TiffImagePlugin.py:771: UserWarning: Corrupt EXIF data.  Expecting to read 12 bytes but only got 8. \n",
      "  warnings.warn(str(msg))\n"
     ]
    },
    {
     "name": "stdout",
     "output_type": "stream",
     "text": [
      "100/100 [==============================] - 12s 119ms/step - loss: 0.2788 - acc: 0.8734 - val_loss: 0.2313 - val_acc: 0.9000\n",
      "Epoch 2/30\n",
      "100/100 [==============================] - 11s 109ms/step - loss: 0.2619 - acc: 0.8949 - val_loss: 0.2441 - val_acc: 0.8900\n",
      "Epoch 3/30\n",
      "100/100 [==============================] - 11s 110ms/step - loss: 0.2824 - acc: 0.8779 - val_loss: 0.2286 - val_acc: 0.9080\n",
      "Epoch 4/30\n",
      "100/100 [==============================] - 11s 112ms/step - loss: 0.2719 - acc: 0.8804 - val_loss: 0.2404 - val_acc: 0.9080\n",
      "Epoch 5/30\n",
      "100/100 [==============================] - 11s 110ms/step - loss: 0.2800 - acc: 0.8820 - val_loss: 0.2284 - val_acc: 0.9090\n",
      "Epoch 6/30\n",
      "100/100 [==============================] - 11s 108ms/step - loss: 0.2723 - acc: 0.8809 - val_loss: 0.2300 - val_acc: 0.9150\n",
      "Epoch 7/30\n",
      "100/100 [==============================] - 11s 111ms/step - loss: 0.2809 - acc: 0.8814 - val_loss: 0.2329 - val_acc: 0.9080\n",
      "Epoch 8/30\n",
      "100/100 [==============================] - 11s 112ms/step - loss: 0.2642 - acc: 0.8925 - val_loss: 0.2359 - val_acc: 0.9080\n",
      "Epoch 9/30\n",
      "100/100 [==============================] - 11s 109ms/step - loss: 0.2652 - acc: 0.8909 - val_loss: 0.2535 - val_acc: 0.8950\n",
      "Epoch 10/30\n",
      "100/100 [==============================] - 11s 110ms/step - loss: 0.2788 - acc: 0.8814 - val_loss: 0.2292 - val_acc: 0.9080\n",
      "Epoch 11/30\n",
      "100/100 [==============================] - 11s 109ms/step - loss: 0.2718 - acc: 0.8825 - val_loss: 0.2349 - val_acc: 0.9070\n",
      "Epoch 12/30\n",
      "100/100 [==============================] - 11s 110ms/step - loss: 0.2646 - acc: 0.8843 - val_loss: 0.2273 - val_acc: 0.9080\n",
      "Epoch 13/30\n",
      "100/100 [==============================] - 11s 110ms/step - loss: 0.2676 - acc: 0.8824 - val_loss: 0.2294 - val_acc: 0.9030\n",
      "Epoch 14/30\n",
      "100/100 [==============================] - 11s 111ms/step - loss: 0.2691 - acc: 0.8799 - val_loss: 0.2327 - val_acc: 0.9100\n",
      "Epoch 15/30\n",
      "100/100 [==============================] - 11s 111ms/step - loss: 0.2694 - acc: 0.8879 - val_loss: 0.2292 - val_acc: 0.9110\n",
      "Epoch 16/30\n",
      "100/100 [==============================] - 11s 110ms/step - loss: 0.2748 - acc: 0.8820 - val_loss: 0.2283 - val_acc: 0.9100\n",
      "Epoch 17/30\n",
      "100/100 [==============================] - 11s 109ms/step - loss: 0.2419 - acc: 0.8954 - val_loss: 0.2487 - val_acc: 0.9000\n",
      "Epoch 18/30\n",
      "100/100 [==============================] - 11s 110ms/step - loss: 0.2630 - acc: 0.8879 - val_loss: 0.2325 - val_acc: 0.9060\n",
      "Epoch 19/30\n",
      "100/100 [==============================] - 11s 110ms/step - loss: 0.2631 - acc: 0.8810 - val_loss: 0.2325 - val_acc: 0.9060\n",
      "Epoch 20/30\n",
      "100/100 [==============================] - 11s 109ms/step - loss: 0.2600 - acc: 0.8830 - val_loss: 0.2331 - val_acc: 0.9090\n",
      "Epoch 21/30\n",
      "100/100 [==============================] - 11s 109ms/step - loss: 0.2485 - acc: 0.8910 - val_loss: 0.2393 - val_acc: 0.9030\n",
      "Epoch 22/30\n",
      "100/100 [==============================] - 11s 110ms/step - loss: 0.2540 - acc: 0.8900 - val_loss: 0.2319 - val_acc: 0.9080\n",
      "Epoch 23/30\n",
      "100/100 [==============================] - 11s 111ms/step - loss: 0.2723 - acc: 0.8829 - val_loss: 0.2312 - val_acc: 0.9020\n",
      "Epoch 24/30\n",
      "100/100 [==============================] - 11s 109ms/step - loss: 0.2631 - acc: 0.8844 - val_loss: 0.2349 - val_acc: 0.9110\n",
      "Epoch 25/30\n",
      "100/100 [==============================] - 11s 110ms/step - loss: 0.2756 - acc: 0.8794 - val_loss: 0.2554 - val_acc: 0.8920\n",
      "Epoch 26/30\n",
      "100/100 [==============================] - 11s 109ms/step - loss: 0.2662 - acc: 0.8924 - val_loss: 0.2386 - val_acc: 0.9080\n",
      "Epoch 27/30\n",
      "100/100 [==============================] - 11s 109ms/step - loss: 0.2620 - acc: 0.8884 - val_loss: 0.2415 - val_acc: 0.9020\n",
      "Epoch 28/30\n",
      "100/100 [==============================] - 11s 110ms/step - loss: 0.2542 - acc: 0.8859 - val_loss: 0.2377 - val_acc: 0.9010\n",
      "Epoch 29/30\n",
      "100/100 [==============================] - 11s 110ms/step - loss: 0.2622 - acc: 0.8889 - val_loss: 0.2381 - val_acc: 0.8990\n",
      "Epoch 30/30\n",
      "100/100 [==============================] - 11s 110ms/step - loss: 0.2704 - acc: 0.8874 - val_loss: 0.2303 - val_acc: 0.9130\n"
     ]
    }
   ],
   "source": [
    "model.compile(loss='binary_crossentropy', optimizer=optimizers.RMSprop(lr=2e-5), metrics=['acc'])\n",
    "history2 = model.fit_generator(train_generator, steps_per_epoch=100, epochs=30, validation_data=validation_generator, validation_steps=50)"
   ]
  },
  {
   "cell_type": "markdown",
   "metadata": {},
   "source": [
    "# Option 3, fine-tune latest conv_base layers"
   ]
  },
  {
   "cell_type": "code",
   "execution_count": 10,
   "metadata": {},
   "outputs": [],
   "source": [
    "conv_base.trainable = True\n",
    "trainable_flag = False\n",
    "for l in conv_base.layers:\n",
    "    if l.name == 'block5_conv1':\n",
    "        trainable_flag = True\n",
    "    l.trainable = trainable_flag"
   ]
  },
  {
   "cell_type": "code",
   "execution_count": 11,
   "metadata": {},
   "outputs": [
    {
     "name": "stdout",
     "output_type": "stream",
     "text": [
      "_________________________________________________________________\n",
      "Layer (type)                 Output Shape              Param #   \n",
      "=================================================================\n",
      "vgg16 (Model)                (None, 4, 4, 512)         14714688  \n",
      "_________________________________________________________________\n",
      "flatten_1 (Flatten)          (None, 8192)              0         \n",
      "_________________________________________________________________\n",
      "dense_1 (Dense)              (None, 256)               2097408   \n",
      "_________________________________________________________________\n",
      "dense_2 (Dense)              (None, 1)                 257       \n",
      "=================================================================\n",
      "Total params: 16,812,353\n",
      "Trainable params: 9,177,089\n",
      "Non-trainable params: 7,635,264\n",
      "_________________________________________________________________\n"
     ]
    }
   ],
   "source": [
    "model.summary()"
   ]
  },
  {
   "cell_type": "code",
   "execution_count": 12,
   "metadata": {},
   "outputs": [
    {
     "name": "stdout",
     "output_type": "stream",
     "text": [
      "_________________________________________________________________\n",
      "Layer (type)                 Output Shape              Param #   \n",
      "=================================================================\n",
      "input_1 (InputLayer)         (None, 150, 150, 3)       0         \n",
      "_________________________________________________________________\n",
      "block1_conv1 (Conv2D)        (None, 150, 150, 64)      1792      \n",
      "_________________________________________________________________\n",
      "block1_conv2 (Conv2D)        (None, 150, 150, 64)      36928     \n",
      "_________________________________________________________________\n",
      "block1_pool (MaxPooling2D)   (None, 75, 75, 64)        0         \n",
      "_________________________________________________________________\n",
      "block2_conv1 (Conv2D)        (None, 75, 75, 128)       73856     \n",
      "_________________________________________________________________\n",
      "block2_conv2 (Conv2D)        (None, 75, 75, 128)       147584    \n",
      "_________________________________________________________________\n",
      "block2_pool (MaxPooling2D)   (None, 37, 37, 128)       0         \n",
      "_________________________________________________________________\n",
      "block3_conv1 (Conv2D)        (None, 37, 37, 256)       295168    \n",
      "_________________________________________________________________\n",
      "block3_conv2 (Conv2D)        (None, 37, 37, 256)       590080    \n",
      "_________________________________________________________________\n",
      "block3_conv3 (Conv2D)        (None, 37, 37, 256)       590080    \n",
      "_________________________________________________________________\n",
      "block3_pool (MaxPooling2D)   (None, 18, 18, 256)       0         \n",
      "_________________________________________________________________\n",
      "block4_conv1 (Conv2D)        (None, 18, 18, 512)       1180160   \n",
      "_________________________________________________________________\n",
      "block4_conv2 (Conv2D)        (None, 18, 18, 512)       2359808   \n",
      "_________________________________________________________________\n",
      "block4_conv3 (Conv2D)        (None, 18, 18, 512)       2359808   \n",
      "_________________________________________________________________\n",
      "block4_pool (MaxPooling2D)   (None, 9, 9, 512)         0         \n",
      "_________________________________________________________________\n",
      "block5_conv1 (Conv2D)        (None, 9, 9, 512)         2359808   \n",
      "_________________________________________________________________\n",
      "block5_conv2 (Conv2D)        (None, 9, 9, 512)         2359808   \n",
      "_________________________________________________________________\n",
      "block5_conv3 (Conv2D)        (None, 9, 9, 512)         2359808   \n",
      "_________________________________________________________________\n",
      "block5_pool (MaxPooling2D)   (None, 4, 4, 512)         0         \n",
      "=================================================================\n",
      "Total params: 14,714,688\n",
      "Trainable params: 7,079,424\n",
      "Non-trainable params: 7,635,264\n",
      "_________________________________________________________________\n"
     ]
    }
   ],
   "source": [
    "conv_base.summary()"
   ]
  },
  {
   "cell_type": "code",
   "execution_count": 14,
   "metadata": {},
   "outputs": [
    {
     "name": "stdout",
     "output_type": "stream",
     "text": [
      "Epoch 1/30\n",
      " 84/100 [========================>.....] - ETA: 1s - loss: 0.5488 - acc: 0.7179"
     ]
    },
    {
     "name": "stderr",
     "output_type": "stream",
     "text": [
      "c:\\users\\stig\\appdata\\local\\programs\\python\\python36\\lib\\site-packages\\PIL\\TiffImagePlugin.py:754: UserWarning: Possibly corrupt EXIF data.  Expecting to read 80000 bytes but only got 0. Skipping tag 64640\n",
      "  \" Skipping tag %s\" % (size, len(data), tag))\n",
      "c:\\users\\stig\\appdata\\local\\programs\\python\\python36\\lib\\site-packages\\PIL\\TiffImagePlugin.py:754: UserWarning: Possibly corrupt EXIF data.  Expecting to read 6553600 bytes but only got 0. Skipping tag 49\n",
      "  \" Skipping tag %s\" % (size, len(data), tag))\n",
      "c:\\users\\stig\\appdata\\local\\programs\\python\\python36\\lib\\site-packages\\PIL\\TiffImagePlugin.py:754: UserWarning: Possibly corrupt EXIF data.  Expecting to read 1050744 bytes but only got 4951. Skipping tag 51\n",
      "  \" Skipping tag %s\" % (size, len(data), tag))\n",
      "c:\\users\\stig\\appdata\\local\\programs\\python\\python36\\lib\\site-packages\\PIL\\TiffImagePlugin.py:754: UserWarning: Possibly corrupt EXIF data.  Expecting to read 293339136 bytes but only got 0. Skipping tag 5\n",
      "  \" Skipping tag %s\" % (size, len(data), tag))\n",
      "c:\\users\\stig\\appdata\\local\\programs\\python\\python36\\lib\\site-packages\\PIL\\TiffImagePlugin.py:754: UserWarning: Possibly corrupt EXIF data.  Expecting to read 293863424 bytes but only got 0. Skipping tag 5\n",
      "  \" Skipping tag %s\" % (size, len(data), tag))\n",
      "c:\\users\\stig\\appdata\\local\\programs\\python\\python36\\lib\\site-packages\\PIL\\TiffImagePlugin.py:754: UserWarning: Possibly corrupt EXIF data.  Expecting to read 3368026112 bytes but only got 0. Skipping tag 7\n",
      "  \" Skipping tag %s\" % (size, len(data), tag))\n",
      "c:\\users\\stig\\appdata\\local\\programs\\python\\python36\\lib\\site-packages\\PIL\\TiffImagePlugin.py:754: UserWarning: Possibly corrupt EXIF data.  Expecting to read 134479872 bytes but only got 0. Skipping tag 7\n",
      "  \" Skipping tag %s\" % (size, len(data), tag))\n",
      "c:\\users\\stig\\appdata\\local\\programs\\python\\python36\\lib\\site-packages\\PIL\\TiffImagePlugin.py:754: UserWarning: Possibly corrupt EXIF data.  Expecting to read 295698432 bytes but only got 0. Skipping tag 10\n",
      "  \" Skipping tag %s\" % (size, len(data), tag))\n",
      "c:\\users\\stig\\appdata\\local\\programs\\python\\python36\\lib\\site-packages\\PIL\\TiffImagePlugin.py:754: UserWarning: Possibly corrupt EXIF data.  Expecting to read 296222720 bytes but only got 0. Skipping tag 5\n",
      "  \" Skipping tag %s\" % (size, len(data), tag))\n",
      "c:\\users\\stig\\appdata\\local\\programs\\python\\python36\\lib\\site-packages\\PIL\\TiffImagePlugin.py:754: UserWarning: Possibly corrupt EXIF data.  Expecting to read 3300917248 bytes but only got 0. Skipping tag 7\n",
      "  \" Skipping tag %s\" % (size, len(data), tag))\n",
      "c:\\users\\stig\\appdata\\local\\programs\\python\\python36\\lib\\site-packages\\PIL\\TiffImagePlugin.py:754: UserWarning: Possibly corrupt EXIF data.  Expecting to read 65536 bytes but only got 0. Skipping tag 3\n",
      "  \" Skipping tag %s\" % (size, len(data), tag))\n",
      "c:\\users\\stig\\appdata\\local\\programs\\python\\python36\\lib\\site-packages\\PIL\\TiffImagePlugin.py:754: UserWarning: Possibly corrupt EXIF data.  Expecting to read 14745600 bytes but only got 0. Skipping tag 4\n",
      "  \" Skipping tag %s\" % (size, len(data), tag))\n",
      "c:\\users\\stig\\appdata\\local\\programs\\python\\python36\\lib\\site-packages\\PIL\\TiffImagePlugin.py:754: UserWarning: Possibly corrupt EXIF data.  Expecting to read 25624576 bytes but only got 0. Skipping tag 4\n",
      "  \" Skipping tag %s\" % (size, len(data), tag))\n",
      "c:\\users\\stig\\appdata\\local\\programs\\python\\python36\\lib\\site-packages\\PIL\\TiffImagePlugin.py:754: UserWarning: Possibly corrupt EXIF data.  Expecting to read 317718528 bytes but only got 4956. Skipping tag 4\n",
      "  \" Skipping tag %s\" % (size, len(data), tag))\n",
      "c:\\users\\stig\\appdata\\local\\programs\\python\\python36\\lib\\site-packages\\PIL\\TiffImagePlugin.py:754: UserWarning: Possibly corrupt EXIF data.  Expecting to read 131073 bytes but only got 4952. Skipping tag 0\n",
      "  \" Skipping tag %s\" % (size, len(data), tag))\n",
      "c:\\users\\stig\\appdata\\local\\programs\\python\\python36\\lib\\site-packages\\PIL\\TiffImagePlugin.py:754: UserWarning: Possibly corrupt EXIF data.  Expecting to read 393216 bytes but only got 0. Skipping tag 3\n",
      "  \" Skipping tag %s\" % (size, len(data), tag))\n",
      "c:\\users\\stig\\appdata\\local\\programs\\python\\python36\\lib\\site-packages\\PIL\\TiffImagePlugin.py:754: UserWarning: Possibly corrupt EXIF data.  Expecting to read 287178752 bytes but only got 0. Skipping tag 5\n",
      "  \" Skipping tag %s\" % (size, len(data), tag))\n",
      "c:\\users\\stig\\appdata\\local\\programs\\python\\python36\\lib\\site-packages\\PIL\\TiffImagePlugin.py:754: UserWarning: Possibly corrupt EXIF data.  Expecting to read 287703040 bytes but only got 0. Skipping tag 5\n",
      "  \" Skipping tag %s\" % (size, len(data), tag))\n",
      "c:\\users\\stig\\appdata\\local\\programs\\python\\python36\\lib\\site-packages\\PIL\\TiffImagePlugin.py:754: UserWarning: Possibly corrupt EXIF data.  Expecting to read 131072 bytes but only got 0. Skipping tag 3\n",
      "  \" Skipping tag %s\" % (size, len(data), tag))\n",
      "c:\\users\\stig\\appdata\\local\\programs\\python\\python36\\lib\\site-packages\\PIL\\TiffImagePlugin.py:754: UserWarning: Possibly corrupt EXIF data.  Expecting to read 524288 bytes but only got 0. Skipping tag 4\n",
      "  \" Skipping tag %s\" % (size, len(data), tag))\n",
      "c:\\users\\stig\\appdata\\local\\programs\\python\\python36\\lib\\site-packages\\PIL\\TiffImagePlugin.py:754: UserWarning: Possibly corrupt EXIF data.  Expecting to read 286654464 bytes but only got 4956. Skipping tag 4\n",
      "  \" Skipping tag %s\" % (size, len(data), tag))\n",
      "c:\\users\\stig\\appdata\\local\\programs\\python\\python36\\lib\\site-packages\\PIL\\TiffImagePlugin.py:771: UserWarning: Corrupt EXIF data.  Expecting to read 12 bytes but only got 2. \n",
      "  warnings.warn(str(msg))\n"
     ]
    },
    {
     "name": "stdout",
     "output_type": "stream",
     "text": [
      " 99/100 [============================>.] - ETA: 0s - loss: 0.5300 - acc: 0.7343"
     ]
    },
    {
     "name": "stderr",
     "output_type": "stream",
     "text": [
      "c:\\users\\stig\\appdata\\local\\programs\\python\\python36\\lib\\site-packages\\PIL\\TiffImagePlugin.py:754: UserWarning: Possibly corrupt EXIF data.  Expecting to read 404094976 bytes but only got 0. Skipping tag 5\n",
      "  \" Skipping tag %s\" % (size, len(data), tag))\n",
      "c:\\users\\stig\\appdata\\local\\programs\\python\\python36\\lib\\site-packages\\PIL\\TiffImagePlugin.py:754: UserWarning: Possibly corrupt EXIF data.  Expecting to read 404619264 bytes but only got 0. Skipping tag 5\n",
      "  \" Skipping tag %s\" % (size, len(data), tag))\n",
      "c:\\users\\stig\\appdata\\local\\programs\\python\\python36\\lib\\site-packages\\PIL\\TiffImagePlugin.py:754: UserWarning: Possibly corrupt EXIF data.  Expecting to read 425459712 bytes but only got 0. Skipping tag 4\n",
      "  \" Skipping tag %s\" % (size, len(data), tag))\n",
      "c:\\users\\stig\\appdata\\local\\programs\\python\\python36\\lib\\site-packages\\PIL\\TiffImagePlugin.py:754: UserWarning: Possibly corrupt EXIF data.  Expecting to read 1385474 bytes but only got 6833. Skipping tag 513\n",
      "  \" Skipping tag %s\" % (size, len(data), tag))\n",
      "c:\\users\\stig\\appdata\\local\\programs\\python\\python36\\lib\\site-packages\\PIL\\TiffImagePlugin.py:754: UserWarning: Possibly corrupt EXIF data.  Expecting to read 3846701056 bytes but only got 0. Skipping tag 2\n",
      "  \" Skipping tag %s\" % (size, len(data), tag))\n",
      "c:\\users\\stig\\appdata\\local\\programs\\python\\python36\\lib\\site-packages\\PIL\\TiffImagePlugin.py:754: UserWarning: Possibly corrupt EXIF data.  Expecting to read 196867 bytes but only got 6833. Skipping tag 0\n",
      "  \" Skipping tag %s\" % (size, len(data), tag))\n",
      "c:\\users\\stig\\appdata\\local\\programs\\python\\python36\\lib\\site-packages\\PIL\\TiffImagePlugin.py:771: UserWarning: Corrupt EXIF data.  Expecting to read 12 bytes but only got 8. \n",
      "  warnings.warn(str(msg))\n"
     ]
    },
    {
     "name": "stdout",
     "output_type": "stream",
     "text": [
      "100/100 [==============================] - 13s 133ms/step - loss: 0.5292 - acc: 0.7338 - val_loss: 0.3284 - val_acc: 0.8630\n",
      "Epoch 2/30\n",
      "100/100 [==============================] - 11s 110ms/step - loss: 0.3719 - acc: 0.8364 - val_loss: 0.2553 - val_acc: 0.8920\n",
      "Epoch 3/30\n",
      "100/100 [==============================] - 11s 114ms/step - loss: 0.3253 - acc: 0.8604 - val_loss: 0.2768 - val_acc: 0.8760\n",
      "Epoch 4/30\n",
      "100/100 [==============================] - 11s 107ms/step - loss: 0.2936 - acc: 0.8719 - val_loss: 0.2116 - val_acc: 0.9060\n",
      "Epoch 5/30\n",
      "100/100 [==============================] - 11s 109ms/step - loss: 0.2618 - acc: 0.8875 - val_loss: 0.2088 - val_acc: 0.9050\n",
      "Epoch 6/30\n",
      "100/100 [==============================] - 11s 107ms/step - loss: 0.2420 - acc: 0.9000 - val_loss: 0.2009 - val_acc: 0.9100\n",
      "Epoch 7/30\n",
      "100/100 [==============================] - 11s 109ms/step - loss: 0.2371 - acc: 0.9000 - val_loss: 0.1958 - val_acc: 0.9160\n",
      "Epoch 8/30\n",
      "100/100 [==============================] - 11s 109ms/step - loss: 0.2157 - acc: 0.9095 - val_loss: 0.1917 - val_acc: 0.9170\n",
      "Epoch 9/30\n",
      "100/100 [==============================] - 11s 107ms/step - loss: 0.2113 - acc: 0.9144 - val_loss: 0.1843 - val_acc: 0.9220\n",
      "Epoch 10/30\n",
      "100/100 [==============================] - 10s 105ms/step - loss: 0.1932 - acc: 0.9219 - val_loss: 0.2240 - val_acc: 0.9110\n",
      "Epoch 11/30\n",
      "100/100 [==============================] - 10s 105ms/step - loss: 0.1910 - acc: 0.9214 - val_loss: 0.1859 - val_acc: 0.9240\n",
      "Epoch 12/30\n",
      "100/100 [==============================] - 10s 104ms/step - loss: 0.1842 - acc: 0.9289 - val_loss: 0.1681 - val_acc: 0.9250\n",
      "Epoch 13/30\n",
      "100/100 [==============================] - 11s 106ms/step - loss: 0.1820 - acc: 0.9245 - val_loss: 0.1646 - val_acc: 0.9230\n",
      "Epoch 14/30\n",
      "100/100 [==============================] - 11s 106ms/step - loss: 0.1674 - acc: 0.9335 - val_loss: 0.1694 - val_acc: 0.9270\n",
      "Epoch 15/30\n",
      "100/100 [==============================] - 11s 110ms/step - loss: 0.1672 - acc: 0.9305 - val_loss: 0.1712 - val_acc: 0.9200\n",
      "Epoch 16/30\n",
      "100/100 [==============================] - 11s 110ms/step - loss: 0.1692 - acc: 0.9355 - val_loss: 0.1653 - val_acc: 0.9220\n",
      "Epoch 17/30\n",
      "100/100 [==============================] - 11s 109ms/step - loss: 0.1507 - acc: 0.9405 - val_loss: 0.1789 - val_acc: 0.9290\n",
      "Epoch 18/30\n",
      "100/100 [==============================] - 11s 109ms/step - loss: 0.1423 - acc: 0.9380 - val_loss: 0.1689 - val_acc: 0.9260\n",
      "Epoch 19/30\n",
      "100/100 [==============================] - 11s 108ms/step - loss: 0.1396 - acc: 0.9475 - val_loss: 0.1594 - val_acc: 0.9270\n",
      "Epoch 20/30\n",
      "100/100 [==============================] - 11s 109ms/step - loss: 0.1280 - acc: 0.9529 - val_loss: 0.1616 - val_acc: 0.9280\n",
      "Epoch 21/30\n",
      "100/100 [==============================] - 11s 111ms/step - loss: 0.1329 - acc: 0.9455 - val_loss: 0.1761 - val_acc: 0.9170\n",
      "Epoch 22/30\n",
      "100/100 [==============================] - 11s 111ms/step - loss: 0.1188 - acc: 0.9555 - val_loss: 0.1753 - val_acc: 0.9210\n",
      "Epoch 23/30\n",
      "100/100 [==============================] - 11s 108ms/step - loss: 0.1217 - acc: 0.9559 - val_loss: 0.2250 - val_acc: 0.9150\n",
      "Epoch 24/30\n",
      "100/100 [==============================] - 11s 110ms/step - loss: 0.1103 - acc: 0.9560 - val_loss: 0.1961 - val_acc: 0.9230\n",
      "Epoch 25/30\n",
      "100/100 [==============================] - 11s 108ms/step - loss: 0.1065 - acc: 0.9595 - val_loss: 0.1702 - val_acc: 0.9280\n",
      "Epoch 26/30\n",
      "100/100 [==============================] - 11s 109ms/step - loss: 0.1075 - acc: 0.9570 - val_loss: 0.1822 - val_acc: 0.9270\n",
      "Epoch 27/30\n",
      "100/100 [==============================] - 11s 112ms/step - loss: 0.1117 - acc: 0.9530 - val_loss: 0.1622 - val_acc: 0.9270\n",
      "Epoch 28/30\n",
      "100/100 [==============================] - 12s 116ms/step - loss: 0.1094 - acc: 0.9590 - val_loss: 0.1629 - val_acc: 0.9320\n",
      "Epoch 29/30\n",
      "100/100 [==============================] - 11s 109ms/step - loss: 0.0854 - acc: 0.9685 - val_loss: 0.1732 - val_acc: 0.9290\n",
      "Epoch 30/30\n",
      "100/100 [==============================] - 11s 109ms/step - loss: 0.0878 - acc: 0.9680 - val_loss: 0.2461 - val_acc: 0.9200\n"
     ]
    },
    {
     "data": {
      "text/plain": [
       "<keras.callbacks.History at 0x167b0fb2630>"
      ]
     },
     "execution_count": 14,
     "metadata": {},
     "output_type": "execute_result"
    }
   ],
   "source": [
    "model.compile(loss='binary_crossentropy', optimizer=optimizers.RMSprop(lr=1e-5), metrics=['acc'])\n",
    "model.fit_generator(train_generator, steps_per_epoch=100, epochs=30, validation_data=validation_generator, validation_steps=50)"
   ]
  },
  {
   "cell_type": "code",
   "execution_count": 15,
   "metadata": {},
   "outputs": [],
   "source": [
    "model.save('catdog.h5')"
   ]
  },
  {
   "cell_type": "code",
   "execution_count": null,
   "metadata": {},
   "outputs": [],
   "source": []
  }
 ],
 "metadata": {
  "kernelspec": {
   "display_name": "Python 3",
   "language": "python",
   "name": "python3"
  },
  "language_info": {
   "codemirror_mode": {
    "name": "ipython",
    "version": 3
   },
   "file_extension": ".py",
   "mimetype": "text/x-python",
   "name": "python",
   "nbconvert_exporter": "python",
   "pygments_lexer": "ipython3",
   "version": "3.6.5"
  }
 },
 "nbformat": 4,
 "nbformat_minor": 2
}
