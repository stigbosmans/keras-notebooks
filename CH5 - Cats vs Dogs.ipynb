{
 "cells": [
  {
   "cell_type": "code",
   "execution_count": 1,
   "metadata": {},
   "outputs": [
    {
     "name": "stderr",
     "output_type": "stream",
     "text": [
      "Using TensorFlow backend.\n"
     ]
    }
   ],
   "source": [
    "import keras"
   ]
  },
  {
   "cell_type": "code",
   "execution_count": 2,
   "metadata": {},
   "outputs": [],
   "source": [
    "from keras import layers, models\n",
    "model = models.Sequential()\n",
    "model.add(layers.Conv2D(32, (3, 3), activation='relu', input_shape=(150,150, 3)))\n",
    "model.add(layers.MaxPooling2D((2,2)))\n",
    "model.add(layers.Conv2D(64, (3, 3), activation='relu'))\n",
    "model.add(layers.MaxPooling2D((2,2)))\n",
    "model.add(layers.Conv2D(128, (3, 3), activation='relu'))\n",
    "model.add(layers.MaxPooling2D((2,2)))\n",
    "model.add(layers.Conv2D(128, (3, 3), activation='relu'))\n",
    "model.add(layers.MaxPooling2D((2,2)))\n",
    "model.add(layers.Flatten())\n",
    "model.add(layers.Dense(512, activation='relu'))\n",
    "model.add(layers.Dense(1, activation='sigmoid'))"
   ]
  },
  {
   "cell_type": "code",
   "execution_count": 3,
   "metadata": {},
   "outputs": [],
   "source": [
    "from keras import optimizers\n",
    "model.compile(loss='binary_crossentropy', metrics=['acc'], optimizer=optimizers.rmsprop(lr=1e-4))"
   ]
  },
  {
   "cell_type": "code",
   "execution_count": 4,
   "metadata": {},
   "outputs": [],
   "source": [
    "from keras.preprocessing.image import ImageDataGenerator"
   ]
  },
  {
   "cell_type": "code",
   "execution_count": 5,
   "metadata": {},
   "outputs": [],
   "source": [
    "train_datagen = ImageDataGenerator(rescale=1./255)\n",
    "test_datagen = ImageDataGenerator(rescale=1./255)"
   ]
  },
  {
   "cell_type": "code",
   "execution_count": 8,
   "metadata": {},
   "outputs": [
    {
     "name": "stdout",
     "output_type": "stream",
     "text": [
      "Found 1999 images belonging to 2 classes.\n",
      "Found 1000 images belonging to 2 classes.\n"
     ]
    }
   ],
   "source": [
    "train_generator = train_datagen.flow_from_directory(\n",
    "    'datasets/catdog/train',\n",
    "    target_size=(150, 150),\n",
    "    batch_size=20,\n",
    "    class_mode='binary'\n",
    ")\n",
    "validation_generator = train_datagen.flow_from_directory(\n",
    "    'datasets/catdog/validation',\n",
    "    target_size=(150, 150),\n",
    "    batch_size=20,\n",
    "    class_mode='binary'\n",
    ")"
   ]
  },
  {
   "cell_type": "code",
   "execution_count": 9,
   "metadata": {},
   "outputs": [
    {
     "name": "stdout",
     "output_type": "stream",
     "text": [
      "Epoch 1/30\n",
      " 65/100 [==================>...........] - ETA: 1s - loss: 0.6682 - acc: 0.6008"
     ]
    },
    {
     "name": "stderr",
     "output_type": "stream",
     "text": [
      "c:\\users\\stig\\appdata\\local\\programs\\python\\python36\\lib\\site-packages\\PIL\\TiffImagePlugin.py:754: UserWarning: Possibly corrupt EXIF data.  Expecting to read 80000 bytes but only got 0. Skipping tag 64640\n",
      "  \" Skipping tag %s\" % (size, len(data), tag))\n",
      "c:\\users\\stig\\appdata\\local\\programs\\python\\python36\\lib\\site-packages\\PIL\\TiffImagePlugin.py:754: UserWarning: Possibly corrupt EXIF data.  Expecting to read 6553600 bytes but only got 0. Skipping tag 49\n",
      "  \" Skipping tag %s\" % (size, len(data), tag))\n",
      "c:\\users\\stig\\appdata\\local\\programs\\python\\python36\\lib\\site-packages\\PIL\\TiffImagePlugin.py:754: UserWarning: Possibly corrupt EXIF data.  Expecting to read 1050744 bytes but only got 4951. Skipping tag 51\n",
      "  \" Skipping tag %s\" % (size, len(data), tag))\n",
      "c:\\users\\stig\\appdata\\local\\programs\\python\\python36\\lib\\site-packages\\PIL\\TiffImagePlugin.py:754: UserWarning: Possibly corrupt EXIF data.  Expecting to read 293339136 bytes but only got 0. Skipping tag 5\n",
      "  \" Skipping tag %s\" % (size, len(data), tag))\n",
      "c:\\users\\stig\\appdata\\local\\programs\\python\\python36\\lib\\site-packages\\PIL\\TiffImagePlugin.py:754: UserWarning: Possibly corrupt EXIF data.  Expecting to read 293863424 bytes but only got 0. Skipping tag 5\n",
      "  \" Skipping tag %s\" % (size, len(data), tag))\n",
      "c:\\users\\stig\\appdata\\local\\programs\\python\\python36\\lib\\site-packages\\PIL\\TiffImagePlugin.py:754: UserWarning: Possibly corrupt EXIF data.  Expecting to read 3368026112 bytes but only got 0. Skipping tag 7\n",
      "  \" Skipping tag %s\" % (size, len(data), tag))\n",
      "c:\\users\\stig\\appdata\\local\\programs\\python\\python36\\lib\\site-packages\\PIL\\TiffImagePlugin.py:754: UserWarning: Possibly corrupt EXIF data.  Expecting to read 134479872 bytes but only got 0. Skipping tag 7\n",
      "  \" Skipping tag %s\" % (size, len(data), tag))\n",
      "c:\\users\\stig\\appdata\\local\\programs\\python\\python36\\lib\\site-packages\\PIL\\TiffImagePlugin.py:754: UserWarning: Possibly corrupt EXIF data.  Expecting to read 295698432 bytes but only got 0. Skipping tag 10\n",
      "  \" Skipping tag %s\" % (size, len(data), tag))\n",
      "c:\\users\\stig\\appdata\\local\\programs\\python\\python36\\lib\\site-packages\\PIL\\TiffImagePlugin.py:754: UserWarning: Possibly corrupt EXIF data.  Expecting to read 296222720 bytes but only got 0. Skipping tag 5\n",
      "  \" Skipping tag %s\" % (size, len(data), tag))\n",
      "c:\\users\\stig\\appdata\\local\\programs\\python\\python36\\lib\\site-packages\\PIL\\TiffImagePlugin.py:754: UserWarning: Possibly corrupt EXIF data.  Expecting to read 3300917248 bytes but only got 0. Skipping tag 7\n",
      "  \" Skipping tag %s\" % (size, len(data), tag))\n",
      "c:\\users\\stig\\appdata\\local\\programs\\python\\python36\\lib\\site-packages\\PIL\\TiffImagePlugin.py:754: UserWarning: Possibly corrupt EXIF data.  Expecting to read 65536 bytes but only got 0. Skipping tag 3\n",
      "  \" Skipping tag %s\" % (size, len(data), tag))\n",
      "c:\\users\\stig\\appdata\\local\\programs\\python\\python36\\lib\\site-packages\\PIL\\TiffImagePlugin.py:754: UserWarning: Possibly corrupt EXIF data.  Expecting to read 14745600 bytes but only got 0. Skipping tag 4\n",
      "  \" Skipping tag %s\" % (size, len(data), tag))\n",
      "c:\\users\\stig\\appdata\\local\\programs\\python\\python36\\lib\\site-packages\\PIL\\TiffImagePlugin.py:754: UserWarning: Possibly corrupt EXIF data.  Expecting to read 25624576 bytes but only got 0. Skipping tag 4\n",
      "  \" Skipping tag %s\" % (size, len(data), tag))\n",
      "c:\\users\\stig\\appdata\\local\\programs\\python\\python36\\lib\\site-packages\\PIL\\TiffImagePlugin.py:754: UserWarning: Possibly corrupt EXIF data.  Expecting to read 317718528 bytes but only got 4956. Skipping tag 4\n",
      "  \" Skipping tag %s\" % (size, len(data), tag))\n",
      "c:\\users\\stig\\appdata\\local\\programs\\python\\python36\\lib\\site-packages\\PIL\\TiffImagePlugin.py:754: UserWarning: Possibly corrupt EXIF data.  Expecting to read 131073 bytes but only got 4952. Skipping tag 0\n",
      "  \" Skipping tag %s\" % (size, len(data), tag))\n",
      "c:\\users\\stig\\appdata\\local\\programs\\python\\python36\\lib\\site-packages\\PIL\\TiffImagePlugin.py:754: UserWarning: Possibly corrupt EXIF data.  Expecting to read 393216 bytes but only got 0. Skipping tag 3\n",
      "  \" Skipping tag %s\" % (size, len(data), tag))\n",
      "c:\\users\\stig\\appdata\\local\\programs\\python\\python36\\lib\\site-packages\\PIL\\TiffImagePlugin.py:754: UserWarning: Possibly corrupt EXIF data.  Expecting to read 287178752 bytes but only got 0. Skipping tag 5\n",
      "  \" Skipping tag %s\" % (size, len(data), tag))\n",
      "c:\\users\\stig\\appdata\\local\\programs\\python\\python36\\lib\\site-packages\\PIL\\TiffImagePlugin.py:754: UserWarning: Possibly corrupt EXIF data.  Expecting to read 287703040 bytes but only got 0. Skipping tag 5\n",
      "  \" Skipping tag %s\" % (size, len(data), tag))\n",
      "c:\\users\\stig\\appdata\\local\\programs\\python\\python36\\lib\\site-packages\\PIL\\TiffImagePlugin.py:754: UserWarning: Possibly corrupt EXIF data.  Expecting to read 131072 bytes but only got 0. Skipping tag 3\n",
      "  \" Skipping tag %s\" % (size, len(data), tag))\n",
      "c:\\users\\stig\\appdata\\local\\programs\\python\\python36\\lib\\site-packages\\PIL\\TiffImagePlugin.py:754: UserWarning: Possibly corrupt EXIF data.  Expecting to read 524288 bytes but only got 0. Skipping tag 4\n",
      "  \" Skipping tag %s\" % (size, len(data), tag))\n",
      "c:\\users\\stig\\appdata\\local\\programs\\python\\python36\\lib\\site-packages\\PIL\\TiffImagePlugin.py:754: UserWarning: Possibly corrupt EXIF data.  Expecting to read 286654464 bytes but only got 4956. Skipping tag 4\n",
      "  \" Skipping tag %s\" % (size, len(data), tag))\n",
      "c:\\users\\stig\\appdata\\local\\programs\\python\\python36\\lib\\site-packages\\PIL\\TiffImagePlugin.py:771: UserWarning: Corrupt EXIF data.  Expecting to read 12 bytes but only got 2. \n",
      "  warnings.warn(str(msg))\n"
     ]
    },
    {
     "name": "stdout",
     "output_type": "stream",
     "text": [
      " 99/100 [============================>.] - ETA: 0s - loss: 0.6620 - acc: 0.6030"
     ]
    },
    {
     "name": "stderr",
     "output_type": "stream",
     "text": [
      "c:\\users\\stig\\appdata\\local\\programs\\python\\python36\\lib\\site-packages\\PIL\\TiffImagePlugin.py:754: UserWarning: Possibly corrupt EXIF data.  Expecting to read 404094976 bytes but only got 0. Skipping tag 5\n",
      "  \" Skipping tag %s\" % (size, len(data), tag))\n",
      "c:\\users\\stig\\appdata\\local\\programs\\python\\python36\\lib\\site-packages\\PIL\\TiffImagePlugin.py:754: UserWarning: Possibly corrupt EXIF data.  Expecting to read 404619264 bytes but only got 0. Skipping tag 5\n",
      "  \" Skipping tag %s\" % (size, len(data), tag))\n",
      "c:\\users\\stig\\appdata\\local\\programs\\python\\python36\\lib\\site-packages\\PIL\\TiffImagePlugin.py:754: UserWarning: Possibly corrupt EXIF data.  Expecting to read 425459712 bytes but only got 0. Skipping tag 4\n",
      "  \" Skipping tag %s\" % (size, len(data), tag))\n",
      "c:\\users\\stig\\appdata\\local\\programs\\python\\python36\\lib\\site-packages\\PIL\\TiffImagePlugin.py:754: UserWarning: Possibly corrupt EXIF data.  Expecting to read 1385474 bytes but only got 6833. Skipping tag 513\n",
      "  \" Skipping tag %s\" % (size, len(data), tag))\n",
      "c:\\users\\stig\\appdata\\local\\programs\\python\\python36\\lib\\site-packages\\PIL\\TiffImagePlugin.py:754: UserWarning: Possibly corrupt EXIF data.  Expecting to read 3846701056 bytes but only got 0. Skipping tag 2\n",
      "  \" Skipping tag %s\" % (size, len(data), tag))\n",
      "c:\\users\\stig\\appdata\\local\\programs\\python\\python36\\lib\\site-packages\\PIL\\TiffImagePlugin.py:754: UserWarning: Possibly corrupt EXIF data.  Expecting to read 196867 bytes but only got 6833. Skipping tag 0\n",
      "  \" Skipping tag %s\" % (size, len(data), tag))\n",
      "c:\\users\\stig\\appdata\\local\\programs\\python\\python36\\lib\\site-packages\\PIL\\TiffImagePlugin.py:771: UserWarning: Corrupt EXIF data.  Expecting to read 12 bytes but only got 8. \n",
      "  warnings.warn(str(msg))\n"
     ]
    },
    {
     "name": "stdout",
     "output_type": "stream",
     "text": [
      "100/100 [==============================] - 6s 62ms/step - loss: 0.6618 - acc: 0.6038 - val_loss: 0.6857 - val_acc: 0.5380\n",
      "Epoch 2/30\n",
      "100/100 [==============================] - 3s 32ms/step - loss: 0.6134 - acc: 0.6674 - val_loss: 0.6609 - val_acc: 0.6160\n",
      "Epoch 3/30\n",
      "100/100 [==============================] - 3s 32ms/step - loss: 0.5729 - acc: 0.6939 - val_loss: 0.6031 - val_acc: 0.6700\n",
      "Epoch 4/30\n",
      "100/100 [==============================] - 3s 32ms/step - loss: 0.5465 - acc: 0.7188 - val_loss: 0.6902 - val_acc: 0.6190\n",
      "Epoch 5/30\n",
      "100/100 [==============================] - 3s 32ms/step - loss: 0.5206 - acc: 0.7358 - val_loss: 0.5645 - val_acc: 0.7010\n",
      "Epoch 6/30\n",
      "100/100 [==============================] - 3s 31ms/step - loss: 0.4964 - acc: 0.7573 - val_loss: 0.5710 - val_acc: 0.6990\n",
      "Epoch 7/30\n",
      "100/100 [==============================] - 3s 32ms/step - loss: 0.4776 - acc: 0.7693 - val_loss: 0.5477 - val_acc: 0.7120\n",
      "Epoch 8/30\n",
      "100/100 [==============================] - 3s 32ms/step - loss: 0.4483 - acc: 0.7929 - val_loss: 0.5596 - val_acc: 0.7060\n",
      "Epoch 9/30\n",
      "100/100 [==============================] - 3s 32ms/step - loss: 0.4287 - acc: 0.8009 - val_loss: 0.5496 - val_acc: 0.7220\n",
      "Epoch 10/30\n",
      "100/100 [==============================] - 3s 32ms/step - loss: 0.3978 - acc: 0.8273 - val_loss: 0.7470 - val_acc: 0.6580\n",
      "Epoch 11/30\n",
      "100/100 [==============================] - 3s 32ms/step - loss: 0.3770 - acc: 0.8404 - val_loss: 0.5387 - val_acc: 0.7350\n",
      "Epoch 12/30\n",
      "100/100 [==============================] - 3s 33ms/step - loss: 0.3544 - acc: 0.8504 - val_loss: 0.5612 - val_acc: 0.7230\n",
      "Epoch 13/30\n",
      "100/100 [==============================] - 3s 32ms/step - loss: 0.3339 - acc: 0.8570 - val_loss: 0.6004 - val_acc: 0.7250\n",
      "Epoch 14/30\n",
      "100/100 [==============================] - 3s 32ms/step - loss: 0.3178 - acc: 0.8630 - val_loss: 0.5648 - val_acc: 0.7310\n",
      "Epoch 15/30\n",
      "100/100 [==============================] - 3s 32ms/step - loss: 0.2899 - acc: 0.8879 - val_loss: 0.5817 - val_acc: 0.7290\n",
      "Epoch 16/30\n",
      "100/100 [==============================] - 3s 33ms/step - loss: 0.2648 - acc: 0.8978 - val_loss: 0.6063 - val_acc: 0.7330\n",
      "Epoch 17/30\n",
      "100/100 [==============================] - 3s 32ms/step - loss: 0.2499 - acc: 0.9075 - val_loss: 0.6079 - val_acc: 0.7350\n",
      "Epoch 18/30\n",
      "100/100 [==============================] - 3s 34ms/step - loss: 0.2285 - acc: 0.9140 - val_loss: 0.6600 - val_acc: 0.7250\n",
      "Epoch 19/30\n",
      "100/100 [==============================] - 4s 36ms/step - loss: 0.2124 - acc: 0.9195 - val_loss: 0.6905 - val_acc: 0.7270\n",
      "Epoch 20/30\n",
      "100/100 [==============================] - 3s 35ms/step - loss: 0.1953 - acc: 0.9245 - val_loss: 0.7394 - val_acc: 0.7030\n",
      "Epoch 21/30\n",
      "100/100 [==============================] - 3s 34ms/step - loss: 0.1757 - acc: 0.9365 - val_loss: 0.6851 - val_acc: 0.7190\n",
      "Epoch 22/30\n",
      "100/100 [==============================] - 3s 33ms/step - loss: 0.1570 - acc: 0.9445 - val_loss: 0.7028 - val_acc: 0.7320\n",
      "Epoch 23/30\n",
      "100/100 [==============================] - 3s 33ms/step - loss: 0.1403 - acc: 0.9439 - val_loss: 0.9418 - val_acc: 0.7070\n",
      "Epoch 24/30\n",
      "100/100 [==============================] - 3s 32ms/step - loss: 0.1226 - acc: 0.9565 - val_loss: 0.8121 - val_acc: 0.7130\n",
      "Epoch 25/30\n",
      "100/100 [==============================] - 3s 32ms/step - loss: 0.1074 - acc: 0.9680 - val_loss: 0.7564 - val_acc: 0.7320\n",
      "Epoch 26/30\n",
      "100/100 [==============================] - 3s 32ms/step - loss: 0.0939 - acc: 0.9684 - val_loss: 0.9304 - val_acc: 0.7030\n",
      "Epoch 27/30\n",
      "100/100 [==============================] - 3s 33ms/step - loss: 0.0814 - acc: 0.9790 - val_loss: 0.9762 - val_acc: 0.7150\n",
      "Epoch 28/30\n",
      "100/100 [==============================] - 3s 32ms/step - loss: 0.0712 - acc: 0.9795 - val_loss: 0.8233 - val_acc: 0.7270\n",
      "Epoch 29/30\n",
      "100/100 [==============================] - 3s 32ms/step - loss: 0.0695 - acc: 0.9760 - val_loss: 0.8955 - val_acc: 0.7210\n",
      "Epoch 30/30\n",
      "100/100 [==============================] - 3s 32ms/step - loss: 0.0504 - acc: 0.9855 - val_loss: 0.9821 - val_acc: 0.7240\n"
     ]
    }
   ],
   "source": [
    "history = model.fit_generator(train_generator, steps_per_epoch=100, epochs=30, validation_data=validation_generator, validation_steps=50)"
   ]
  },
  {
   "cell_type": "code",
   "execution_count": 10,
   "metadata": {},
   "outputs": [
    {
     "data": {
      "text/plain": [
       "<keras.callbacks.History at 0x17f124168d0>"
      ]
     },
     "execution_count": 10,
     "metadata": {},
     "output_type": "execute_result"
    }
   ],
   "source": [
    "history"
   ]
  },
  {
   "cell_type": "code",
   "execution_count": 11,
   "metadata": {},
   "outputs": [
    {
     "data": {
      "text/plain": [
       "{'val_loss': [0.6856636106967926,\n",
       "  0.6608792972564698,\n",
       "  0.6031067234277725,\n",
       "  0.6902086263895035,\n",
       "  0.5645058017969131,\n",
       "  0.5709774178266526,\n",
       "  0.5477396672964097,\n",
       "  0.5595835959911346,\n",
       "  0.5495686167478562,\n",
       "  0.7470098978281021,\n",
       "  0.5387024021148682,\n",
       "  0.5611723709106445,\n",
       "  0.6003931307792664,\n",
       "  0.564775614142418,\n",
       "  0.5817473691701889,\n",
       "  0.6062615656852722,\n",
       "  0.6078673785924912,\n",
       "  0.6600202958285809,\n",
       "  0.6905241107940674,\n",
       "  0.7394098955392837,\n",
       "  0.6850980764627457,\n",
       "  0.7028447511792183,\n",
       "  0.9417957854270935,\n",
       "  0.8121169084310531,\n",
       "  0.7563929264247418,\n",
       "  0.9303685933351517,\n",
       "  0.9762426450848579,\n",
       "  0.8233129450678826,\n",
       "  0.8954952058196067,\n",
       "  0.9820721313357353],\n",
       " 'val_acc': [0.5379999989271164,\n",
       "  0.6160000014305115,\n",
       "  0.6700000017881393,\n",
       "  0.6190000015497208,\n",
       "  0.701000006198883,\n",
       "  0.6989999997615814,\n",
       "  0.7120000010728836,\n",
       "  0.7060000002384186,\n",
       "  0.7219999957084656,\n",
       "  0.6580000042915344,\n",
       "  0.7349999952316284,\n",
       "  0.7229999989271164,\n",
       "  0.7249999958276748,\n",
       "  0.7309999978542328,\n",
       "  0.7289999973773956,\n",
       "  0.7330000007152557,\n",
       "  0.7350000023841858,\n",
       "  0.725,\n",
       "  0.7270000004768371,\n",
       "  0.7030000042915344,\n",
       "  0.7189999991655349,\n",
       "  0.7320000016689301,\n",
       "  0.7069999992847442,\n",
       "  0.7130000019073486,\n",
       "  0.7320000046491623,\n",
       "  0.7030000013113021,\n",
       "  0.7149999988079071,\n",
       "  0.7269999992847442,\n",
       "  0.7210000032186508,\n",
       "  0.7239999997615815],\n",
       " 'loss': [0.6618091424087574,\n",
       "  0.6134860997590021,\n",
       "  0.5730046888570179,\n",
       "  0.5465443890174667,\n",
       "  0.5206178888611462,\n",
       "  0.49634754392372005,\n",
       "  0.4776024802170019,\n",
       "  0.44828405855535686,\n",
       "  0.4287358046532154,\n",
       "  0.39768780890913713,\n",
       "  0.3769840289050785,\n",
       "  0.35436726748018993,\n",
       "  0.33384715485059957,\n",
       "  0.3178869716454113,\n",
       "  0.2898410946920909,\n",
       "  0.26468638422013285,\n",
       "  0.2499709862986465,\n",
       "  0.22849655212492512,\n",
       "  0.2124327515112632,\n",
       "  0.19533647723186606,\n",
       "  0.1756946263222649,\n",
       "  0.1570257695131805,\n",
       "  0.14027852560950255,\n",
       "  0.12258125616497491,\n",
       "  0.10743971413868914,\n",
       "  0.09381801982024958,\n",
       "  0.08143057209020736,\n",
       "  0.07123239613275578,\n",
       "  0.0694846169889838,\n",
       "  0.05044014217623655],\n",
       " 'acc': [0.6038019018449922,\n",
       "  0.667333665193469,\n",
       "  0.6938469218516004,\n",
       "  0.718859432100236,\n",
       "  0.7358679320586807,\n",
       "  0.7573786877941763,\n",
       "  0.7693846948508205,\n",
       "  0.7928964464648954,\n",
       "  0.8009004544591594,\n",
       "  0.8274137063167165,\n",
       "  0.8404202124307966,\n",
       "  0.8504252128150238,\n",
       "  0.8569284650371813,\n",
       "  0.8629314640631015,\n",
       "  0.887943966827612,\n",
       "  0.8979489695674006,\n",
       "  0.9074537224206642,\n",
       "  0.9139569740762944,\n",
       "  0.9194597247065515,\n",
       "  0.9244622244364981,\n",
       "  0.9364682279150744,\n",
       "  0.9444722303633335,\n",
       "  0.9439719808047983,\n",
       "  0.9564782344382545,\n",
       "  0.9679839888651888,\n",
       "  0.9684842364856039,\n",
       "  0.978989492719802,\n",
       "  0.9794897420994337,\n",
       "  0.9759879918501578,\n",
       "  0.9854927435107325]}"
      ]
     },
     "execution_count": 11,
     "metadata": {},
     "output_type": "execute_result"
    }
   ],
   "source": [
    "history.history"
   ]
  },
  {
   "cell_type": "code",
   "execution_count": 29,
   "metadata": {},
   "outputs": [],
   "source": [
    "import matplotlib.pyplot as plt\n",
    "val_acc = history.history['val_acc']\n",
    "acc = history.history['acc']\n",
    "val_loss = history.history['val_loss']\n",
    "loss = history.history['loss']\n",
    "steps = list(range(len(val_acc)))"
   ]
  },
  {
   "cell_type": "code",
   "execution_count": 35,
   "metadata": {},
   "outputs": [
    {
     "data": {
      "image/png": "[encoded data removed]",
      "text/plain": [
       "<Figure size 432x288 with 1 Axes>"
      ]
     },
     "metadata": {},
     "output_type": "display_data"
    },
    {
     "data": {
      "image/png": "[encoded data removed]",
      "text/plain": [
       "<Figure size 432x288 with 1 Axes>"
      ]
     },
     "metadata": {},
     "output_type": "display_data"
    }
   ],
   "source": [
    "plt.plot(steps, val_acc, 'r-', label='Validation accuracy')\n",
    "plt.plot(steps, acc, 'bo', label='Training accuracy')\n",
    "plt.legend()\n",
    "plt.figure()\n",
    "plt.plot(steps, val_loss, 'r-', label='Validation loss')\n",
    "plt.plot(steps, loss, 'bo', label='Training loss')\n",
    "plt.legend()\n",
    "plt.show()"
   ]
  },
  {
   "cell_type": "markdown",
   "metadata": {},
   "source": [
    "The image above shows a clear case of overfitting. Data augmentation can be used to reduce overfitting."
   ]
  },
  {
   "cell_type": "code",
   "execution_count": 39,
   "metadata": {},
   "outputs": [
    {
     "name": "stdout",
     "output_type": "stream",
     "text": [
      "Found 1999 images belonging to 2 classes.\n",
      "Found 1000 images belonging to 2 classes.\n"
     ]
    }
   ],
   "source": [
    "train_datagen = ImageDataGenerator(\n",
    "    rescale=1./255,\n",
    "    rotation_range=40,\n",
    "    width_shift_range=0.2,\n",
    "    height_shift_range=0.2,\n",
    "    shear_range=0.2,\n",
    "    zoom_range=0.2,\n",
    "    horizontal_flip=True)\n",
    "test_datagen = ImageDataGenerator(rescale=1./255)\n",
    "\n",
    "train_generator = train_datagen.flow_from_directory(\n",
    "    'datasets/catdog/train',\n",
    "    target_size=(150,150),\n",
    "    batch_size=32,\n",
    "    class_mode='binary')\n",
    "\n",
    "validation_generator = test_datagen.flow_from_directory(\n",
    "    'datasets/catdog/validation',\n",
    "    target_size=(150,150),\n",
    "    batch_size=32,\n",
    "    class_mode='binary')"
   ]
  },
  {
   "cell_type": "code",
   "execution_count": 40,
   "metadata": {},
   "outputs": [
    {
     "name": "stdout",
     "output_type": "stream",
     "text": [
      "Epoch 1/100\n",
      " 59/100 [================>.............] - ETA: 5s - loss: 0.7280 - acc: 0.6711"
     ]
    },
    {
     "name": "stderr",
     "output_type": "stream",
     "text": [
      "c:\\users\\stig\\appdata\\local\\programs\\python\\python36\\lib\\site-packages\\PIL\\TiffImagePlugin.py:754: UserWarning: Possibly corrupt EXIF data.  Expecting to read 80000 bytes but only got 0. Skipping tag 64640\n",
      "  \" Skipping tag %s\" % (size, len(data), tag))\n",
      "c:\\users\\stig\\appdata\\local\\programs\\python\\python36\\lib\\site-packages\\PIL\\TiffImagePlugin.py:754: UserWarning: Possibly corrupt EXIF data.  Expecting to read 6553600 bytes but only got 0. Skipping tag 49\n",
      "  \" Skipping tag %s\" % (size, len(data), tag))\n",
      "c:\\users\\stig\\appdata\\local\\programs\\python\\python36\\lib\\site-packages\\PIL\\TiffImagePlugin.py:754: UserWarning: Possibly corrupt EXIF data.  Expecting to read 1050744 bytes but only got 4951. Skipping tag 51\n",
      "  \" Skipping tag %s\" % (size, len(data), tag))\n",
      "c:\\users\\stig\\appdata\\local\\programs\\python\\python36\\lib\\site-packages\\PIL\\TiffImagePlugin.py:754: UserWarning: Possibly corrupt EXIF data.  Expecting to read 293339136 bytes but only got 0. Skipping tag 5\n",
      "  \" Skipping tag %s\" % (size, len(data), tag))\n",
      "c:\\users\\stig\\appdata\\local\\programs\\python\\python36\\lib\\site-packages\\PIL\\TiffImagePlugin.py:754: UserWarning: Possibly corrupt EXIF data.  Expecting to read 293863424 bytes but only got 0. Skipping tag 5\n",
      "  \" Skipping tag %s\" % (size, len(data), tag))\n",
      "c:\\users\\stig\\appdata\\local\\programs\\python\\python36\\lib\\site-packages\\PIL\\TiffImagePlugin.py:754: UserWarning: Possibly corrupt EXIF data.  Expecting to read 3368026112 bytes but only got 0. Skipping tag 7\n",
      "  \" Skipping tag %s\" % (size, len(data), tag))\n",
      "c:\\users\\stig\\appdata\\local\\programs\\python\\python36\\lib\\site-packages\\PIL\\TiffImagePlugin.py:754: UserWarning: Possibly corrupt EXIF data.  Expecting to read 134479872 bytes but only got 0. Skipping tag 7\n",
      "  \" Skipping tag %s\" % (size, len(data), tag))\n",
      "c:\\users\\stig\\appdata\\local\\programs\\python\\python36\\lib\\site-packages\\PIL\\TiffImagePlugin.py:754: UserWarning: Possibly corrupt EXIF data.  Expecting to read 295698432 bytes but only got 0. Skipping tag 10\n",
      "  \" Skipping tag %s\" % (size, len(data), tag))\n",
      "c:\\users\\stig\\appdata\\local\\programs\\python\\python36\\lib\\site-packages\\PIL\\TiffImagePlugin.py:754: UserWarning: Possibly corrupt EXIF data.  Expecting to read 296222720 bytes but only got 0. Skipping tag 5\n",
      "  \" Skipping tag %s\" % (size, len(data), tag))\n",
      "c:\\users\\stig\\appdata\\local\\programs\\python\\python36\\lib\\site-packages\\PIL\\TiffImagePlugin.py:754: UserWarning: Possibly corrupt EXIF data.  Expecting to read 3300917248 bytes but only got 0. Skipping tag 7\n",
      "  \" Skipping tag %s\" % (size, len(data), tag))\n",
      "c:\\users\\stig\\appdata\\local\\programs\\python\\python36\\lib\\site-packages\\PIL\\TiffImagePlugin.py:754: UserWarning: Possibly corrupt EXIF data.  Expecting to read 65536 bytes but only got 0. Skipping tag 3\n",
      "  \" Skipping tag %s\" % (size, len(data), tag))\n",
      "c:\\users\\stig\\appdata\\local\\programs\\python\\python36\\lib\\site-packages\\PIL\\TiffImagePlugin.py:754: UserWarning: Possibly corrupt EXIF data.  Expecting to read 14745600 bytes but only got 0. Skipping tag 4\n",
      "  \" Skipping tag %s\" % (size, len(data), tag))\n",
      "c:\\users\\stig\\appdata\\local\\programs\\python\\python36\\lib\\site-packages\\PIL\\TiffImagePlugin.py:754: UserWarning: Possibly corrupt EXIF data.  Expecting to read 25624576 bytes but only got 0. Skipping tag 4\n",
      "  \" Skipping tag %s\" % (size, len(data), tag))\n",
      "c:\\users\\stig\\appdata\\local\\programs\\python\\python36\\lib\\site-packages\\PIL\\TiffImagePlugin.py:754: UserWarning: Possibly corrupt EXIF data.  Expecting to read 317718528 bytes but only got 4956. Skipping tag 4\n",
      "  \" Skipping tag %s\" % (size, len(data), tag))\n",
      "c:\\users\\stig\\appdata\\local\\programs\\python\\python36\\lib\\site-packages\\PIL\\TiffImagePlugin.py:754: UserWarning: Possibly corrupt EXIF data.  Expecting to read 131073 bytes but only got 4952. Skipping tag 0\n",
      "  \" Skipping tag %s\" % (size, len(data), tag))\n",
      "c:\\users\\stig\\appdata\\local\\programs\\python\\python36\\lib\\site-packages\\PIL\\TiffImagePlugin.py:754: UserWarning: Possibly corrupt EXIF data.  Expecting to read 393216 bytes but only got 0. Skipping tag 3\n",
      "  \" Skipping tag %s\" % (size, len(data), tag))\n",
      "c:\\users\\stig\\appdata\\local\\programs\\python\\python36\\lib\\site-packages\\PIL\\TiffImagePlugin.py:754: UserWarning: Possibly corrupt EXIF data.  Expecting to read 287178752 bytes but only got 0. Skipping tag 5\n",
      "  \" Skipping tag %s\" % (size, len(data), tag))\n",
      "c:\\users\\stig\\appdata\\local\\programs\\python\\python36\\lib\\site-packages\\PIL\\TiffImagePlugin.py:754: UserWarning: Possibly corrupt EXIF data.  Expecting to read 287703040 bytes but only got 0. Skipping tag 5\n",
      "  \" Skipping tag %s\" % (size, len(data), tag))\n",
      "c:\\users\\stig\\appdata\\local\\programs\\python\\python36\\lib\\site-packages\\PIL\\TiffImagePlugin.py:754: UserWarning: Possibly corrupt EXIF data.  Expecting to read 131072 bytes but only got 0. Skipping tag 3\n",
      "  \" Skipping tag %s\" % (size, len(data), tag))\n",
      "c:\\users\\stig\\appdata\\local\\programs\\python\\python36\\lib\\site-packages\\PIL\\TiffImagePlugin.py:754: UserWarning: Possibly corrupt EXIF data.  Expecting to read 524288 bytes but only got 0. Skipping tag 4\n",
      "  \" Skipping tag %s\" % (size, len(data), tag))\n",
      "c:\\users\\stig\\appdata\\local\\programs\\python\\python36\\lib\\site-packages\\PIL\\TiffImagePlugin.py:754: UserWarning: Possibly corrupt EXIF data.  Expecting to read 286654464 bytes but only got 4956. Skipping tag 4\n",
      "  \" Skipping tag %s\" % (size, len(data), tag))\n",
      "c:\\users\\stig\\appdata\\local\\programs\\python\\python36\\lib\\site-packages\\PIL\\TiffImagePlugin.py:771: UserWarning: Corrupt EXIF data.  Expecting to read 12 bytes but only got 2. \n",
      "  warnings.warn(str(msg))\n"
     ]
    },
    {
     "name": "stdout",
     "output_type": "stream",
     "text": [
      " 99/100 [============================>.] - ETA: 0s - loss: 0.6720 - acc: 0.6807"
     ]
    },
    {
     "name": "stderr",
     "output_type": "stream",
     "text": [
      "c:\\users\\stig\\appdata\\local\\programs\\python\\python36\\lib\\site-packages\\PIL\\TiffImagePlugin.py:754: UserWarning: Possibly corrupt EXIF data.  Expecting to read 404094976 bytes but only got 0. Skipping tag 5\n",
      "  \" Skipping tag %s\" % (size, len(data), tag))\n",
      "c:\\users\\stig\\appdata\\local\\programs\\python\\python36\\lib\\site-packages\\PIL\\TiffImagePlugin.py:754: UserWarning: Possibly corrupt EXIF data.  Expecting to read 404619264 bytes but only got 0. Skipping tag 5\n",
      "  \" Skipping tag %s\" % (size, len(data), tag))\n",
      "c:\\users\\stig\\appdata\\local\\programs\\python\\python36\\lib\\site-packages\\PIL\\TiffImagePlugin.py:754: UserWarning: Possibly corrupt EXIF data.  Expecting to read 425459712 bytes but only got 0. Skipping tag 4\n",
      "  \" Skipping tag %s\" % (size, len(data), tag))\n",
      "c:\\users\\stig\\appdata\\local\\programs\\python\\python36\\lib\\site-packages\\PIL\\TiffImagePlugin.py:754: UserWarning: Possibly corrupt EXIF data.  Expecting to read 1385474 bytes but only got 6833. Skipping tag 513\n",
      "  \" Skipping tag %s\" % (size, len(data), tag))\n",
      "c:\\users\\stig\\appdata\\local\\programs\\python\\python36\\lib\\site-packages\\PIL\\TiffImagePlugin.py:754: UserWarning: Possibly corrupt EXIF data.  Expecting to read 3846701056 bytes but only got 0. Skipping tag 2\n",
      "  \" Skipping tag %s\" % (size, len(data), tag))\n",
      "c:\\users\\stig\\appdata\\local\\programs\\python\\python36\\lib\\site-packages\\PIL\\TiffImagePlugin.py:754: UserWarning: Possibly corrupt EXIF data.  Expecting to read 196867 bytes but only got 6833. Skipping tag 0\n",
      "  \" Skipping tag %s\" % (size, len(data), tag))\n",
      "c:\\users\\stig\\appdata\\local\\programs\\python\\python36\\lib\\site-packages\\PIL\\TiffImagePlugin.py:771: UserWarning: Corrupt EXIF data.  Expecting to read 12 bytes but only got 8. \n",
      "  warnings.warn(str(msg))\n"
     ]
    },
    {
     "name": "stdout",
     "output_type": "stream",
     "text": [
      "100/100 [==============================] - 15s 153ms/step - loss: 0.6696 - acc: 0.6820 - val_loss: 0.5434 - val_acc: 0.7100\n",
      "Epoch 2/100\n",
      "100/100 [==============================] - 14s 138ms/step - loss: 0.5642 - acc: 0.7009 - val_loss: 0.5092 - val_acc: 0.7294\n",
      "Epoch 3/100\n",
      "100/100 [==============================] - 14s 140ms/step - loss: 0.5388 - acc: 0.7280 - val_loss: 0.5109 - val_acc: 0.7297\n",
      "Epoch 4/100\n",
      "100/100 [==============================] - 14s 138ms/step - loss: 0.5287 - acc: 0.7289 - val_loss: 0.4894 - val_acc: 0.7468\n",
      "Epoch 5/100\n",
      "100/100 [==============================] - 14s 139ms/step - loss: 0.5234 - acc: 0.7293 - val_loss: 0.4790 - val_acc: 0.7709\n",
      "Epoch 6/100\n",
      "100/100 [==============================] - 14s 137ms/step - loss: 0.5157 - acc: 0.7456 - val_loss: 0.5172 - val_acc: 0.7629\n",
      "Epoch 7/100\n",
      "100/100 [==============================] - 14s 137ms/step - loss: 0.5195 - acc: 0.7445 - val_loss: 0.4697 - val_acc: 0.7735\n",
      "Epoch 8/100\n",
      "100/100 [==============================] - 14s 139ms/step - loss: 0.5107 - acc: 0.7489 - val_loss: 0.4599 - val_acc: 0.7777\n",
      "Epoch 9/100\n",
      "100/100 [==============================] - 14s 137ms/step - loss: 0.4929 - acc: 0.7624 - val_loss: 0.4554 - val_acc: 0.7919\n",
      "Epoch 10/100\n",
      "100/100 [==============================] - 14s 139ms/step - loss: 0.4905 - acc: 0.7614 - val_loss: 0.4594 - val_acc: 0.7754\n",
      "Epoch 11/100\n",
      "100/100 [==============================] - 14s 138ms/step - loss: 0.4862 - acc: 0.7690 - val_loss: 0.4838 - val_acc: 0.7668\n",
      "Epoch 12/100\n",
      "100/100 [==============================] - 14s 138ms/step - loss: 0.4849 - acc: 0.7669 - val_loss: 0.4881 - val_acc: 0.7722\n",
      "Epoch 13/100\n",
      "100/100 [==============================] - 14s 139ms/step - loss: 0.4723 - acc: 0.7736 - val_loss: 0.4450 - val_acc: 0.7964\n",
      "Epoch 14/100\n",
      "100/100 [==============================] - 14s 142ms/step - loss: 0.4853 - acc: 0.7683 - val_loss: 0.5349 - val_acc: 0.7265\n",
      "Epoch 15/100\n",
      "100/100 [==============================] - 14s 142ms/step - loss: 0.4600 - acc: 0.7827 - val_loss: 0.4767 - val_acc: 0.7784\n",
      "Epoch 16/100\n",
      "100/100 [==============================] - 14s 141ms/step - loss: 0.4724 - acc: 0.7762 - val_loss: 0.4537 - val_acc: 0.7880\n",
      "Epoch 17/100\n",
      "100/100 [==============================] - 14s 140ms/step - loss: 0.4506 - acc: 0.7927 - val_loss: 0.5010 - val_acc: 0.7595\n",
      "Epoch 18/100\n",
      "100/100 [==============================] - 14s 138ms/step - loss: 0.4446 - acc: 0.7930 - val_loss: 0.4552 - val_acc: 0.7977\n",
      "Epoch 19/100\n",
      "100/100 [==============================] - 14s 139ms/step - loss: 0.4574 - acc: 0.7765 - val_loss: 0.4409 - val_acc: 0.8033\n",
      "Epoch 20/100\n",
      "100/100 [==============================] - 14s 139ms/step - loss: 0.4461 - acc: 0.7884 - val_loss: 0.4367 - val_acc: 0.8054\n",
      "Epoch 21/100\n",
      "100/100 [==============================] - 14s 141ms/step - loss: 0.4503 - acc: 0.7926 - val_loss: 0.4439 - val_acc: 0.7995\n",
      "Epoch 22/100\n",
      "100/100 [==============================] - 14s 140ms/step - loss: 0.4329 - acc: 0.7986 - val_loss: 0.4306 - val_acc: 0.7964\n",
      "Epoch 23/100\n",
      "100/100 [==============================] - 14s 138ms/step - loss: 0.4269 - acc: 0.8072 - val_loss: 0.4730 - val_acc: 0.7779\n",
      "Epoch 24/100\n",
      "100/100 [==============================] - 14s 138ms/step - loss: 0.4349 - acc: 0.7893 - val_loss: 0.4781 - val_acc: 0.7758\n",
      "Epoch 25/100\n",
      "100/100 [==============================] - 14s 139ms/step - loss: 0.4351 - acc: 0.7927 - val_loss: 0.4333 - val_acc: 0.7996\n",
      "Epoch 26/100\n",
      "100/100 [==============================] - 14s 138ms/step - loss: 0.4355 - acc: 0.8026 - val_loss: 0.4830 - val_acc: 0.7608\n",
      "Epoch 27/100\n",
      "100/100 [==============================] - 14s 139ms/step - loss: 0.4278 - acc: 0.7932 - val_loss: 0.4584 - val_acc: 0.7848\n",
      "Epoch 28/100\n",
      "100/100 [==============================] - 14s 138ms/step - loss: 0.4365 - acc: 0.7937 - val_loss: 0.4602 - val_acc: 0.7792\n",
      "Epoch 29/100\n",
      "100/100 [==============================] - 14s 138ms/step - loss: 0.4207 - acc: 0.8094 - val_loss: 0.5431 - val_acc: 0.7487\n",
      "Epoch 30/100\n",
      "100/100 [==============================] - 14s 139ms/step - loss: 0.4245 - acc: 0.8008 - val_loss: 0.4766 - val_acc: 0.7728\n",
      "Epoch 31/100\n",
      "100/100 [==============================] - 14s 138ms/step - loss: 0.4087 - acc: 0.8130 - val_loss: 0.4264 - val_acc: 0.8022\n",
      "Epoch 32/100\n",
      "100/100 [==============================] - 14s 141ms/step - loss: 0.4134 - acc: 0.8146 - val_loss: 0.4516 - val_acc: 0.7680\n",
      "Epoch 33/100\n",
      "100/100 [==============================] - 14s 139ms/step - loss: 0.4227 - acc: 0.8097 - val_loss: 0.5206 - val_acc: 0.7614\n",
      "Epoch 34/100\n",
      "100/100 [==============================] - 14s 140ms/step - loss: 0.4071 - acc: 0.8214 - val_loss: 0.4346 - val_acc: 0.8022\n",
      "Epoch 35/100\n",
      "100/100 [==============================] - 14s 139ms/step - loss: 0.4081 - acc: 0.8085 - val_loss: 0.4319 - val_acc: 0.7995\n",
      "Epoch 36/100\n",
      "100/100 [==============================] - 14s 139ms/step - loss: 0.4078 - acc: 0.8119 - val_loss: 0.4108 - val_acc: 0.8048\n",
      "Epoch 37/100\n",
      "100/100 [==============================] - 14s 139ms/step - loss: 0.4074 - acc: 0.8109 - val_loss: 0.6006 - val_acc: 0.7170\n",
      "Epoch 38/100\n",
      "100/100 [==============================] - 14s 138ms/step - loss: 0.3966 - acc: 0.8217 - val_loss: 0.4016 - val_acc: 0.8022\n",
      "Epoch 39/100\n",
      "100/100 [==============================] - 14s 139ms/step - loss: 0.4165 - acc: 0.8083 - val_loss: 0.4242 - val_acc: 0.8096\n",
      "Epoch 40/100\n",
      "100/100 [==============================] - 14s 139ms/step - loss: 0.3956 - acc: 0.8202 - val_loss: 0.4265 - val_acc: 0.8009\n",
      "Epoch 41/100\n",
      "100/100 [==============================] - 14s 144ms/step - loss: 0.4003 - acc: 0.8195 - val_loss: 0.4171 - val_acc: 0.8022\n",
      "Epoch 42/100\n",
      "100/100 [==============================] - 14s 143ms/step - loss: 0.3932 - acc: 0.8194 - val_loss: 0.4181 - val_acc: 0.7970\n",
      "Epoch 43/100\n",
      "100/100 [==============================] - 14s 137ms/step - loss: 0.3722 - acc: 0.8364 - val_loss: 0.4140 - val_acc: 0.8131\n",
      "Epoch 44/100\n",
      "100/100 [==============================] - 15s 154ms/step - loss: 0.3868 - acc: 0.8286 - val_loss: 0.4248 - val_acc: 0.8027\n",
      "Epoch 45/100\n",
      "100/100 [==============================] - 14s 144ms/step - loss: 0.3923 - acc: 0.8209 - val_loss: 0.4266 - val_acc: 0.8093\n",
      "Epoch 46/100\n",
      "100/100 [==============================] - 14s 143ms/step - loss: 0.3756 - acc: 0.8305 - val_loss: 0.4311 - val_acc: 0.7919\n",
      "Epoch 47/100\n",
      "100/100 [==============================] - 14s 139ms/step - loss: 0.3832 - acc: 0.8324 - val_loss: 0.4585 - val_acc: 0.7977\n",
      "Epoch 48/100\n",
      "100/100 [==============================] - 14s 141ms/step - loss: 0.3819 - acc: 0.8248 - val_loss: 0.4037 - val_acc: 0.8086\n",
      "Epoch 49/100\n",
      "100/100 [==============================] - 14s 141ms/step - loss: 0.3782 - acc: 0.8274 - val_loss: 0.5289 - val_acc: 0.7646\n",
      "Epoch 50/100\n",
      "100/100 [==============================] - 14s 140ms/step - loss: 0.3766 - acc: 0.8257 - val_loss: 0.4310 - val_acc: 0.8099\n",
      "Epoch 51/100\n",
      "100/100 [==============================] - 14s 142ms/step - loss: 0.3771 - acc: 0.8318 - val_loss: 0.4591 - val_acc: 0.7747\n",
      "Epoch 52/100\n",
      "100/100 [==============================] - 14s 142ms/step - loss: 0.3654 - acc: 0.8388 - val_loss: 0.4290 - val_acc: 0.8112\n",
      "Epoch 53/100\n",
      "100/100 [==============================] - 14s 141ms/step - loss: 0.3552 - acc: 0.8424 - val_loss: 0.4667 - val_acc: 0.8090\n",
      "Epoch 54/100\n",
      "100/100 [==============================] - 14s 142ms/step - loss: 0.3550 - acc: 0.8412 - val_loss: 0.4062 - val_acc: 0.8048\n",
      "Epoch 55/100\n",
      "100/100 [==============================] - 14s 140ms/step - loss: 0.3499 - acc: 0.8438 - val_loss: 0.4070 - val_acc: 0.8261\n",
      "Epoch 56/100\n",
      "100/100 [==============================] - 14s 142ms/step - loss: 0.3675 - acc: 0.8324 - val_loss: 0.4735 - val_acc: 0.8041\n",
      "Epoch 57/100\n",
      "100/100 [==============================] - 14s 141ms/step - loss: 0.3554 - acc: 0.8424 - val_loss: 0.4254 - val_acc: 0.8125\n",
      "Epoch 58/100\n",
      "100/100 [==============================] - 14s 141ms/step - loss: 0.3606 - acc: 0.8475 - val_loss: 0.3868 - val_acc: 0.8236\n",
      "Epoch 59/100\n",
      "100/100 [==============================] - 14s 141ms/step - loss: 0.3553 - acc: 0.8402 - val_loss: 0.4289 - val_acc: 0.8228\n",
      "Epoch 60/100\n",
      "100/100 [==============================] - 14s 140ms/step - loss: 0.3452 - acc: 0.8477 - val_loss: 0.4182 - val_acc: 0.8077\n"
     ]
    },
    {
     "name": "stdout",
     "output_type": "stream",
     "text": [
      "Epoch 61/100\n",
      "100/100 [==============================] - 14s 142ms/step - loss: 0.3426 - acc: 0.8455 - val_loss: 0.4530 - val_acc: 0.7874\n",
      "Epoch 62/100\n",
      "100/100 [==============================] - 14s 140ms/step - loss: 0.3431 - acc: 0.8446 - val_loss: 0.4072 - val_acc: 0.8141\n",
      "Epoch 63/100\n",
      "100/100 [==============================] - 14s 138ms/step - loss: 0.3419 - acc: 0.8524 - val_loss: 0.4660 - val_acc: 0.7957\n",
      "Epoch 64/100\n",
      "100/100 [==============================] - 14s 138ms/step - loss: 0.3375 - acc: 0.8496 - val_loss: 0.4150 - val_acc: 0.8209\n",
      "Epoch 65/100\n",
      "100/100 [==============================] - 14s 139ms/step - loss: 0.3469 - acc: 0.8499 - val_loss: 0.4066 - val_acc: 0.8071\n",
      "Epoch 66/100\n",
      "100/100 [==============================] - 14s 138ms/step - loss: 0.3380 - acc: 0.8518 - val_loss: 0.4070 - val_acc: 0.8247\n",
      "Epoch 67/100\n",
      "100/100 [==============================] - 14s 139ms/step - loss: 0.3468 - acc: 0.8472 - val_loss: 0.4172 - val_acc: 0.8179\n",
      "Epoch 68/100\n",
      "100/100 [==============================] - 14s 138ms/step - loss: 0.3473 - acc: 0.8558 - val_loss: 0.4268 - val_acc: 0.8318\n",
      "Epoch 69/100\n",
      "100/100 [==============================] - 14s 138ms/step - loss: 0.3245 - acc: 0.8626 - val_loss: 0.3873 - val_acc: 0.8338\n",
      "Epoch 70/100\n",
      "100/100 [==============================] - 14s 138ms/step - loss: 0.3399 - acc: 0.8467 - val_loss: 0.4311 - val_acc: 0.8054\n",
      "Epoch 71/100\n",
      "100/100 [==============================] - 14s 138ms/step - loss: 0.3218 - acc: 0.8593 - val_loss: 0.3876 - val_acc: 0.8211\n",
      "Epoch 72/100\n",
      "100/100 [==============================] - 14s 138ms/step - loss: 0.3202 - acc: 0.8563 - val_loss: 0.4125 - val_acc: 0.8067\n",
      "Epoch 73/100\n",
      "100/100 [==============================] - 14s 139ms/step - loss: 0.3340 - acc: 0.8531 - val_loss: 0.3929 - val_acc: 0.8280\n",
      "Epoch 74/100\n",
      "100/100 [==============================] - 14s 139ms/step - loss: 0.3348 - acc: 0.8525 - val_loss: 0.3863 - val_acc: 0.8179\n",
      "Epoch 75/100\n",
      "100/100 [==============================] - 14s 138ms/step - loss: 0.3244 - acc: 0.8583 - val_loss: 0.4101 - val_acc: 0.8235\n",
      "Epoch 76/100\n",
      "100/100 [==============================] - 14s 139ms/step - loss: 0.3113 - acc: 0.8646 - val_loss: 0.4302 - val_acc: 0.8293\n",
      "Epoch 77/100\n",
      "100/100 [==============================] - 14s 138ms/step - loss: 0.3257 - acc: 0.8583 - val_loss: 0.4729 - val_acc: 0.8080\n",
      "Epoch 78/100\n",
      "100/100 [==============================] - 14s 138ms/step - loss: 0.3266 - acc: 0.8598 - val_loss: 0.4369 - val_acc: 0.8109\n",
      "Epoch 79/100\n",
      "100/100 [==============================] - 14s 138ms/step - loss: 0.3170 - acc: 0.8582 - val_loss: 0.4163 - val_acc: 0.8202\n",
      "Epoch 80/100\n",
      "100/100 [==============================] - 14s 140ms/step - loss: 0.3118 - acc: 0.8640 - val_loss: 0.4181 - val_acc: 0.8151\n",
      "Epoch 81/100\n",
      "100/100 [==============================] - 14s 138ms/step - loss: 0.3046 - acc: 0.8662 - val_loss: 0.4187 - val_acc: 0.8179\n",
      "Epoch 82/100\n",
      "100/100 [==============================] - 14s 138ms/step - loss: 0.3082 - acc: 0.8689 - val_loss: 0.4124 - val_acc: 0.8273\n",
      "Epoch 83/100\n",
      "100/100 [==============================] - 14s 143ms/step - loss: 0.2992 - acc: 0.8671 - val_loss: 0.4458 - val_acc: 0.8160\n",
      "Epoch 84/100\n",
      "100/100 [==============================] - 14s 142ms/step - loss: 0.3118 - acc: 0.8646 - val_loss: 0.3912 - val_acc: 0.8099\n",
      "Epoch 85/100\n",
      "100/100 [==============================] - 14s 141ms/step - loss: 0.3045 - acc: 0.8621 - val_loss: 0.4635 - val_acc: 0.8096\n",
      "Epoch 86/100\n",
      "100/100 [==============================] - 14s 140ms/step - loss: 0.3196 - acc: 0.8638 - val_loss: 0.4303 - val_acc: 0.8241\n",
      "Epoch 87/100\n",
      "100/100 [==============================] - 14s 140ms/step - loss: 0.2901 - acc: 0.8808 - val_loss: 0.3839 - val_acc: 0.8350\n",
      "Epoch 88/100\n",
      "100/100 [==============================] - 14s 141ms/step - loss: 0.2978 - acc: 0.8696 - val_loss: 0.3702 - val_acc: 0.8421\n",
      "Epoch 89/100\n",
      "100/100 [==============================] - 14s 140ms/step - loss: 0.2847 - acc: 0.8739 - val_loss: 0.5018 - val_acc: 0.7764\n",
      "Epoch 90/100\n",
      "100/100 [==============================] - 14s 141ms/step - loss: 0.3072 - acc: 0.8659 - val_loss: 0.4157 - val_acc: 0.8179\n",
      "Epoch 91/100\n",
      "100/100 [==============================] - 14s 141ms/step - loss: 0.2820 - acc: 0.8710 - val_loss: 0.3655 - val_acc: 0.8331\n",
      "Epoch 92/100\n",
      "100/100 [==============================] - 14s 140ms/step - loss: 0.2997 - acc: 0.8726 - val_loss: 0.4277 - val_acc: 0.8001\n",
      "Epoch 93/100\n",
      "100/100 [==============================] - 14s 141ms/step - loss: 0.2836 - acc: 0.8784 - val_loss: 0.4025 - val_acc: 0.8305\n",
      "Epoch 94/100\n",
      "100/100 [==============================] - 14s 140ms/step - loss: 0.2830 - acc: 0.8761 - val_loss: 0.4612 - val_acc: 0.7995\n",
      "Epoch 95/100\n",
      "100/100 [==============================] - 14s 141ms/step - loss: 0.2950 - acc: 0.8696 - val_loss: 0.3961 - val_acc: 0.8273\n",
      "Epoch 96/100\n",
      "100/100 [==============================] - 14s 140ms/step - loss: 0.2858 - acc: 0.8748 - val_loss: 0.4138 - val_acc: 0.8170\n",
      "Epoch 97/100\n",
      "100/100 [==============================] - 14s 143ms/step - loss: 0.2906 - acc: 0.8737 - val_loss: 0.4962 - val_acc: 0.8014\n",
      "Epoch 98/100\n",
      "100/100 [==============================] - 14s 141ms/step - loss: 0.2721 - acc: 0.8836 - val_loss: 0.4099 - val_acc: 0.8286\n",
      "Epoch 99/100\n",
      "100/100 [==============================] - 14s 143ms/step - loss: 0.2849 - acc: 0.8759 - val_loss: 0.4033 - val_acc: 0.8331\n",
      "Epoch 100/100\n",
      "100/100 [==============================] - 16s 160ms/step - loss: 0.3014 - acc: 0.8762 - val_loss: 0.4120 - val_acc: 0.8177\n"
     ]
    }
   ],
   "source": [
    "history = model.fit_generator(\n",
    "    train_generator,\n",
    "    steps_per_epoch=100,\n",
    "    epochs=100,\n",
    "    validation_data=validation_generator,\n",
    "    validation_steps=50)"
   ]
  },
  {
   "cell_type": "code",
   "execution_count": 41,
   "metadata": {},
   "outputs": [],
   "source": [
    "val_acc = history.history['val_acc']\n",
    "acc = history.history['acc']\n",
    "val_loss = history.history['val_loss']\n",
    "loss = history.history['loss']\n",
    "steps = list(range(len(val_acc)))"
   ]
  },
  {
   "cell_type": "code",
   "execution_count": 42,
   "metadata": {},
   "outputs": [
    {
     "data": {
      "image/png": "[encoded data removed]",
      "text/plain": [
       "<Figure size 432x288 with 1 Axes>"
      ]
     },
     "metadata": {},
     "output_type": "display_data"
    },
    {
     "data": {
      "image/png": "[encoded data removed]",
      "text/plain": [
       "<Figure size 432x288 with 1 Axes>"
      ]
     },
     "metadata": {},
     "output_type": "display_data"
    }
   ],
   "source": [
    "plt.plot(steps, val_acc, 'r-', label='Validation accuracy')\n",
    "plt.plot(steps, acc, 'bo', label='Training accuracy')\n",
    "plt.legend()\n",
    "plt.figure()\n",
    "plt.plot(steps, val_loss, 'r-', label='Validation loss')\n",
    "plt.plot(steps, loss, 'bo', label='Training loss')\n",
    "plt.legend()\n",
    "plt.show()"
   ]
  },
  {
   "cell_type": "code",
   "execution_count": null,
   "metadata": {},
   "outputs": [],
   "source": []
  }
 ],
 "metadata": {
  "kernelspec": {
   "display_name": "Python 3",
   "language": "python",
   "name": "python3"
  },
  "language_info": {
   "codemirror_mode": {
    "name": "ipython",
    "version": 3
   },
   "file_extension": ".py",
   "mimetype": "text/x-python",
   "name": "python",
   "nbconvert_exporter": "python",
   "pygments_lexer": "ipython3",
   "version": "3.6.5"
  }
 },
 "nbformat": 4,
 "nbformat_minor": 2
}
