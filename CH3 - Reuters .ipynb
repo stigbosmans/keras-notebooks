{
 "cells": [
  {
   "cell_type": "code",
   "execution_count": 23,
   "metadata": {},
   "outputs": [],
   "source": [
    "import keras\n",
    "import numpy as np"
   ]
  },
  {
   "cell_type": "markdown",
   "metadata": {},
   "source": [
    "# Exploring the data"
   ]
  },
  {
   "cell_type": "code",
   "execution_count": 1,
   "metadata": {},
   "outputs": [
    {
     "name": "stderr",
     "output_type": "stream",
     "text": [
      "Using TensorFlow backend.\n"
     ]
    },
    {
     "name": "stdout",
     "output_type": "stream",
     "text": [
      "Downloading data from https://s3.amazonaws.com/text-datasets/reuters.npz\n",
      "2113536/2110848 [==============================] - 1s 1us/step\n"
     ]
    }
   ],
   "source": [
    "from keras.datasets import reuters\n",
    "(train_data, train_labels), (test_data, test_labels) = reuters.load_data(num_words=10000)\n"
   ]
  },
  {
   "cell_type": "code",
   "execution_count": 2,
   "metadata": {},
   "outputs": [
    {
     "name": "stdout",
     "output_type": "stream",
     "text": [
      "[1, 2, 2, 8, 43, 10, 447, 5, 25, 207, 270, 5, 3095, 111, 16, 369, 186, 90, 67, 7, 89, 5, 19, 102, 6, 19, 124, 15, 90, 67, 84, 22, 482, 26, 7, 48, 4, 49, 8, 864, 39, 209, 154, 6, 151, 6, 83, 11, 15, 22, 155, 11, 15, 7, 48, 9, 4579, 1005, 504, 6, 258, 6, 272, 11, 15, 22, 134, 44, 11, 15, 16, 8, 197, 1245, 90, 67, 52, 29, 209, 30, 32, 132, 6, 109, 15, 17, 12]\n"
     ]
    }
   ],
   "source": [
    "print(train_data[0])"
   ]
  },
  {
   "cell_type": "code",
   "execution_count": 33,
   "metadata": {},
   "outputs": [
    {
     "name": "stdout",
     "output_type": "stream",
     "text": [
      "3\n"
     ]
    }
   ],
   "source": [
    "print(train_labels[0])"
   ]
  },
  {
   "cell_type": "code",
   "execution_count": 20,
   "metadata": {},
   "outputs": [
    {
     "data": {
      "text/plain": [
       "2246"
      ]
     },
     "execution_count": 20,
     "metadata": {},
     "output_type": "execute_result"
    }
   ],
   "source": [
    "len(test_data)"
   ]
  },
  {
   "cell_type": "code",
   "execution_count": 5,
   "metadata": {},
   "outputs": [
    {
     "name": "stdout",
     "output_type": "stream",
     "text": [
      "Downloading data from https://s3.amazonaws.com/text-datasets/reuters_word_index.json\n",
      "557056/550378 [==============================] - 0s 1us/step\n"
     ]
    }
   ],
   "source": [
    "word_index = reuters.get_word_index()"
   ]
  },
  {
   "cell_type": "code",
   "execution_count": 10,
   "metadata": {},
   "outputs": [],
   "source": [
    "reverse_word_index = dict([(index, key) for key, index in word_index.items()])"
   ]
  },
  {
   "cell_type": "code",
   "execution_count": 18,
   "metadata": {},
   "outputs": [
    {
     "data": {
      "text/plain": [
       "'? ? ? said as a result of its december acquisition of space co it expects earnings per share in 1987 of 1 15 to 1 30 dlrs per share up from 70 cts in 1986 the company said pretax net should rise to nine to 10 mln dlrs from six mln dlrs in 1986 and rental operation revenues to 19 to 22 mln dlrs from 12 5 mln dlrs it said cash flow per share this year should be 2 50 to three dlrs reuter 3'"
      ]
     },
     "execution_count": 18,
     "metadata": {},
     "output_type": "execute_result"
    }
   ],
   "source": [
    "' '.join([reverse_word_index.get(i - 3, '?') for i in train_data[0]])"
   ]
  },
  {
   "cell_type": "markdown",
   "metadata": {},
   "source": [
    "# Preparing the data"
   ]
  },
  {
   "cell_type": "code",
   "execution_count": 34,
   "metadata": {},
   "outputs": [],
   "source": [
    "def vectorize_data(sequences):\n",
    "    res = np.zeros((len(sequences), 10000))\n",
    "    for idx, val in enumerate(sequences):\n",
    "        res[idx, val] = 1.\n",
    "    return res\n",
    "\n",
    "x_train = vectorize_data(train_data[:-2000])\n",
    "x_val = vectorize_data(train_data[-2000:])\n",
    "x_test = vectorize_data(test_data)"
   ]
  },
  {
   "cell_type": "code",
   "execution_count": 36,
   "metadata": {},
   "outputs": [
    {
     "name": "stdout",
     "output_type": "stream",
     "text": [
      "6982\n",
      "2000\n",
      "2246\n"
     ]
    }
   ],
   "source": [
    "print(len(x_train))\n",
    "print(len(x_val))\n",
    "print(len(x_test))"
   ]
  },
  {
   "cell_type": "code",
   "execution_count": 38,
   "metadata": {},
   "outputs": [],
   "source": [
    "from keras.utils import to_categorical"
   ]
  },
  {
   "cell_type": "code",
   "execution_count": 39,
   "metadata": {},
   "outputs": [],
   "source": [
    "y_train = to_categorical(train_labels[:-2000])\n",
    "y_val = to_categorical(train_labels[-2000:])\n",
    "y_test = to_categorical(test_labels)"
   ]
  },
  {
   "cell_type": "code",
   "execution_count": 45,
   "metadata": {},
   "outputs": [
    {
     "name": "stdout",
     "output_type": "stream",
     "text": [
      "[0. 0. 0. 1. 0. 0. 0. 0. 0. 0. 0. 0. 0. 0. 0. 0. 0. 0. 0. 0. 0. 0. 0. 0.\n",
      " 0. 0. 0. 0. 0. 0. 0. 0. 0. 0. 0. 0. 0. 0. 0. 0. 0. 0. 0. 0. 0. 0.]\n"
     ]
    }
   ],
   "source": [
    "print(y_train[0])"
   ]
  },
  {
   "cell_type": "markdown",
   "metadata": {},
   "source": [
    "# Building the model"
   ]
  },
  {
   "cell_type": "code",
   "execution_count": 46,
   "metadata": {},
   "outputs": [],
   "source": [
    "from keras.models import Sequential\n",
    "from keras.layers import Dense"
   ]
  },
  {
   "cell_type": "code",
   "execution_count": 47,
   "metadata": {},
   "outputs": [],
   "source": [
    "model = Sequential()\n",
    "model.add(Dense(64, activation='relu', input_shape=(10000,)))\n",
    "model.add(Dense(64, activation='relu'))\n",
    "model.add(Dense(46, activation='softmax'))"
   ]
  },
  {
   "cell_type": "code",
   "execution_count": 51,
   "metadata": {},
   "outputs": [],
   "source": [
    "model.compile(optimizer='rmsprop', loss='categorical_crossentropy', metrics=['accuracy'])"
   ]
  },
  {
   "cell_type": "code",
   "execution_count": 52,
   "metadata": {},
   "outputs": [
    {
     "name": "stdout",
     "output_type": "stream",
     "text": [
      "Train on 6982 samples, validate on 2000 samples\n",
      "Epoch 1/20\n",
      "6982/6982 [==============================] - 3s 397us/step - loss: 2.2209 - acc: 0.5332 - val_loss: 1.4718 - val_acc: 0.6950\n",
      "Epoch 2/20\n",
      "6982/6982 [==============================] - 0s 43us/step - loss: 1.2307 - acc: 0.7347 - val_loss: 1.1934 - val_acc: 0.7360\n",
      "Epoch 3/20\n",
      "6982/6982 [==============================] - 0s 45us/step - loss: 0.9026 - acc: 0.8066 - val_loss: 1.0602 - val_acc: 0.7670\n",
      "Epoch 4/20\n",
      "6982/6982 [==============================] - 0s 43us/step - loss: 0.6736 - acc: 0.8549 - val_loss: 1.0738 - val_acc: 0.7455\n",
      "Epoch 5/20\n",
      "6982/6982 [==============================] - 0s 43us/step - loss: 0.5074 - acc: 0.8911 - val_loss: 0.9833 - val_acc: 0.7830\n",
      "Epoch 6/20\n",
      "6982/6982 [==============================] - 0s 43us/step - loss: 0.3803 - acc: 0.9198 - val_loss: 0.9504 - val_acc: 0.7930\n",
      "Epoch 7/20\n",
      "6982/6982 [==============================] - 0s 43us/step - loss: 0.2938 - acc: 0.9350 - val_loss: 0.9345 - val_acc: 0.7890\n",
      "Epoch 8/20\n",
      "6982/6982 [==============================] - 0s 43us/step - loss: 0.2334 - acc: 0.9469 - val_loss: 0.9495 - val_acc: 0.7945\n",
      "Epoch 9/20\n",
      "6982/6982 [==============================] - 0s 43us/step - loss: 0.1952 - acc: 0.9530 - val_loss: 0.9668 - val_acc: 0.8005\n",
      "Epoch 10/20\n",
      "6982/6982 [==============================] - 0s 44us/step - loss: 0.1665 - acc: 0.9595 - val_loss: 0.9745 - val_acc: 0.8045\n",
      "Epoch 11/20\n",
      "6982/6982 [==============================] - 0s 47us/step - loss: 0.1438 - acc: 0.9605 - val_loss: 1.0864 - val_acc: 0.7830\n",
      "Epoch 12/20\n",
      "6982/6982 [==============================] - 0s 43us/step - loss: 0.1332 - acc: 0.9603 - val_loss: 1.0619 - val_acc: 0.7890\n",
      "Epoch 13/20\n",
      "6982/6982 [==============================] - 0s 43us/step - loss: 0.1248 - acc: 0.9623 - val_loss: 1.0616 - val_acc: 0.7990\n",
      "Epoch 14/20\n",
      "6982/6982 [==============================] - 0s 44us/step - loss: 0.1115 - acc: 0.9636 - val_loss: 1.2401 - val_acc: 0.7670\n",
      "Epoch 15/20\n",
      "6982/6982 [==============================] - 0s 43us/step - loss: 0.1092 - acc: 0.9615 - val_loss: 1.2270 - val_acc: 0.7725\n",
      "Epoch 16/20\n",
      "6982/6982 [==============================] - 0s 43us/step - loss: 0.1045 - acc: 0.9618 - val_loss: 1.1793 - val_acc: 0.7870\n",
      "Epoch 17/20\n",
      "6982/6982 [==============================] - 0s 43us/step - loss: 0.1021 - acc: 0.9638 - val_loss: 1.2159 - val_acc: 0.7815\n",
      "Epoch 18/20\n",
      "6982/6982 [==============================] - 0s 43us/step - loss: 0.0986 - acc: 0.9648 - val_loss: 1.2426 - val_acc: 0.7815\n",
      "Epoch 19/20\n",
      "6982/6982 [==============================] - 0s 44us/step - loss: 0.0962 - acc: 0.9646 - val_loss: 1.2592 - val_acc: 0.7840\n",
      "Epoch 20/20\n",
      "6982/6982 [==============================] - 0s 43us/step - loss: 0.0921 - acc: 0.9635 - val_loss: 1.3314 - val_acc: 0.7740\n"
     ]
    }
   ],
   "source": [
    "hist=model.fit(x_train, y_train, epochs=20, batch_size=256, validation_data=(x_val, y_val))"
   ]
  },
  {
   "cell_type": "markdown",
   "metadata": {},
   "source": [
    "# Visualize Results"
   ]
  },
  {
   "cell_type": "code",
   "execution_count": 55,
   "metadata": {},
   "outputs": [
    {
     "data": {
      "text/plain": [
       "dict_keys(['val_loss', 'val_acc', 'loss', 'acc'])"
      ]
     },
     "execution_count": 55,
     "metadata": {},
     "output_type": "execute_result"
    }
   ],
   "source": [
    "hist.history.keys()"
   ]
  },
  {
   "cell_type": "code",
   "execution_count": 61,
   "metadata": {},
   "outputs": [
    {
     "data": {
      "text/plain": [
       "<matplotlib.legend.Legend at 0x7f632755a0f0>"
      ]
     },
     "execution_count": 61,
     "metadata": {},
     "output_type": "execute_result"
    },
    {
     "data": {
      "image/png": "[encoded data removed]",
      "text/plain": [
       "<Figure size 432x288 with 1 Axes>"
      ]
     },
     "metadata": {
      "needs_background": "light"
     },
     "output_type": "display_data"
    }
   ],
   "source": [
    "import matplotlib.pyplot as plt\n",
    "acc = hist.history['acc']\n",
    "x = range(len(acc))\n",
    "val_acc = hist.history['val_acc']\n",
    "plt.plot(x, acc, 'b', label='accuracy')\n",
    "plt.plot(x, val_acc, 'r', label='validation accuracy')\n",
    "plt.xlabel('epochs')\n",
    "plt.ylabel('accuracy')\n",
    "plt.title('Train and validation Accuracy')\n",
    "plt.legend()"
   ]
  },
  {
   "cell_type": "code",
   "execution_count": 64,
   "metadata": {},
   "outputs": [
    {
     "name": "stdout",
     "output_type": "stream",
     "text": [
      "2246/2246 [==============================] - 0s 59us/step\n"
     ]
    },
    {
     "data": {
      "text/plain": [
       "[1.4138583867335468, 0.767586821015138]"
      ]
     },
     "execution_count": 64,
     "metadata": {},
     "output_type": "execute_result"
    }
   ],
   "source": [
    "model.evaluate(x_test, y_test)"
   ]
  },
  {
   "cell_type": "code",
   "execution_count": null,
   "metadata": {},
   "outputs": [],
   "source": []
  }
 ],
 "metadata": {
  "kernelspec": {
   "display_name": "Python 3",
   "language": "python",
   "name": "python3"
  },
  "language_info": {
   "codemirror_mode": {
    "name": "ipython",
    "version": 3
   },
   "file_extension": ".py",
   "mimetype": "text/x-python",
   "name": "python",
   "nbconvert_exporter": "python",
   "pygments_lexer": "ipython3",
   "version": "3.6.5"
  }
 },
 "nbformat": 4,
 "nbformat_minor": 2
}
