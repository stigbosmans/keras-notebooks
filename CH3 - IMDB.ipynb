{
  "nbformat": 4,
  "nbformat_minor": 0,
  "metadata": {
    "colab": {
      "name": "Chapter 3 IMDB.ipynb",
      "version": "0.3.2",
      "provenance": []
    },
    "kernelspec": {
      "name": "python3",
      "display_name": "Python 3"
    }
  },
  "cells": [
    {
      "metadata": {
        "id": "v0Zta7MM-_pI",
        "colab_type": "code",
        "colab": {}
      },
      "cell_type": "code",
      "source": [
        "import keras\n",
        "from keras.datasets import imdb\n",
        "import numpy as np"
      ],
      "execution_count": 0,
      "outputs": []
    },
    {
      "metadata": {
        "id": "ESDplNHb_DEN",
        "colab_type": "code",
        "colab": {}
      },
      "cell_type": "code",
      "source": [
        "(train_data, train_labels), (test_data, test_labels) = imdb.load_data(num_words=10000)"
      ],
      "execution_count": 0,
      "outputs": []
    },
    {
      "metadata": {
        "id": "gTWw077LAtwr",
        "colab_type": "text"
      },
      "cell_type": "markdown",
      "source": [
        "# Let's explore the data\n",
        "When we look at the training data we see every word is represented by a number.\n",
        "This number represents an index. \n",
        "\n",
        "In the previous code block we limited the amount of different words to the 10000 most common words. \n",
        "In other words, we ignore special words.\n",
        "\n"
      ]
    },
    {
      "metadata": {
        "id": "nwAENcVFAozz",
        "colab_type": "code",
        "colab": {
          "base_uri": "https://localhost:8080/",
          "height": 34
        },
        "outputId": "6db56b66-54ac-48ba-d21c-fad602f4a313"
      },
      "cell_type": "code",
      "source": [
        "training_data[0][:10]"
      ],
      "execution_count": 9,
      "outputs": [
        {
          "output_type": "execute_result",
          "data": {
            "text/plain": [
              "[1, 14, 22, 16, 43, 530, 973, 1622, 1385, 65]"
            ]
          },
          "metadata": {
            "tags": []
          },
          "execution_count": 9
        }
      ]
    },
    {
      "metadata": {
        "id": "bu0abFGXA21A",
        "colab_type": "text"
      },
      "cell_type": "markdown",
      "source": [
        "We can look up the word a given index is linked to, by downloading the imdb word index:"
      ]
    },
    {
      "metadata": {
        "id": "RT4HRfz5ATJc",
        "colab_type": "code",
        "colab": {
          "base_uri": "https://localhost:8080/",
          "height": 51
        },
        "outputId": "950e779f-2ec0-4811-aa04-ba6e9daa6c98"
      },
      "cell_type": "code",
      "source": [
        "word_index = imdb.get_word_index()"
      ],
      "execution_count": 4,
      "outputs": [
        {
          "output_type": "stream",
          "text": [
            "Downloading data from https://s3.amazonaws.com/text-datasets/imdb_word_index.json\n",
            "1646592/1641221 [==============================] - 0s 0us/step\n"
          ],
          "name": "stdout"
        }
      ]
    },
    {
      "metadata": {
        "id": "qyIMbyliAbX1",
        "colab_type": "code",
        "colab": {
          "base_uri": "https://localhost:8080/",
          "height": 34
        },
        "outputId": "1dada3d1-ba94-46bb-e7af-68f5c57096f9"
      },
      "cell_type": "code",
      "source": [
        "print(word_index['hello'])"
      ],
      "execution_count": 7,
      "outputs": [
        {
          "output_type": "stream",
          "text": [
            "4822\n"
          ],
          "name": "stdout"
        }
      ]
    },
    {
      "metadata": {
        "id": "BiW37U5pAefs",
        "colab_type": "code",
        "colab": {}
      },
      "cell_type": "code",
      "source": [
        "reverse_word_index = dict([(value, key) for (key, value) in word_index.items()])"
      ],
      "execution_count": 0,
      "outputs": []
    },
    {
      "metadata": {
        "id": "6xHKMI6CBsXE",
        "colab_type": "code",
        "colab": {
          "base_uri": "https://localhost:8080/",
          "height": 34
        },
        "outputId": "11207051-9e31-40d3-9302-1bdc64fc1107"
      },
      "cell_type": "code",
      "source": [
        "reverse_word_index[4822]"
      ],
      "execution_count": 14,
      "outputs": [
        {
          "output_type": "execute_result",
          "data": {
            "text/plain": [
              "'hello'"
            ]
          },
          "metadata": {
            "tags": []
          },
          "execution_count": 14
        }
      ]
    },
    {
      "metadata": {
        "id": "__5v0NwBB3QN",
        "colab_type": "code",
        "colab": {
          "base_uri": "https://localhost:8080/",
          "height": 54
        },
        "outputId": "50312e2a-2008-4ba1-beb0-25d4907829d2"
      },
      "cell_type": "code",
      "source": [
        "get_full_text = lambda sample_index: ' '.join([reverse_word_index.get(i - 3, '?') for i in train_data[sample_index]])\n",
        "get_full_text(0)"
      ],
      "execution_count": 28,
      "outputs": [
        {
          "output_type": "execute_result",
          "data": {
            "text/plain": [
              "\"? this film was just brilliant casting location scenery story direction everyone's really suited the part they played and you could just imagine being there robert ? is an amazing actor and now the same being director ? father came from the same scottish island as myself so i loved the fact there was a real connection with this film the witty remarks throughout the film were great it was just brilliant so much that i bought the film as soon as it was released for ? and would recommend it to everyone to watch and the fly fishing was amazing really cried at the end it was so sad and you know what they say if you cry at a film it must have been good and this definitely was also ? to the two little boy's that played the ? of norman and paul they were just brilliant children are often left out of the ? list i think because the stars that play them all grown up are such a big profile for the whole film but these children are amazing and should be praised for what they have done don't you think the whole story was so lovely because it was true and was someone's life after all that was shared with us all\""
            ]
          },
          "metadata": {
            "tags": []
          },
          "execution_count": 28
        }
      ]
    },
    {
      "metadata": {
        "id": "ZmmM9manCFQU",
        "colab_type": "code",
        "colab": {
          "base_uri": "https://localhost:8080/",
          "height": 34
        },
        "outputId": "b67b96e6-ab7d-4b50-ecdc-290a2ad6f94d"
      },
      "cell_type": "code",
      "source": [
        "train_labels[0]"
      ],
      "execution_count": 29,
      "outputs": [
        {
          "output_type": "execute_result",
          "data": {
            "text/plain": [
              "1"
            ]
          },
          "metadata": {
            "tags": []
          },
          "execution_count": 29
        }
      ]
    },
    {
      "metadata": {
        "id": "j7OXki38DYAZ",
        "colab_type": "text"
      },
      "cell_type": "markdown",
      "source": [
        "# Preparing the data\n",
        "Create binary vectors of each text"
      ]
    },
    {
      "metadata": {
        "id": "57LQP6ljDc5p",
        "colab_type": "code",
        "colab": {}
      },
      "cell_type": "code",
      "source": [
        "def create_bin_sequence(sequence):\n",
        "  res = np.zeros((len(sequence), 10000))\n",
        "  for i, sequence in enumerate(sequence):\n",
        "    res[i, sequence] = 1.\n",
        "  return res\n",
        "x_train = create_bin_sequence(train_data)\n",
        "x_test = create_bin_sequence(test_data)"
      ],
      "execution_count": 0,
      "outputs": []
    },
    {
      "metadata": {
        "id": "17_OCc1cE2bN",
        "colab_type": "code",
        "colab": {
          "base_uri": "https://localhost:8080/",
          "height": 34
        },
        "outputId": "3f47adc7-69a0-4204-a1e3-56966103b2a5"
      },
      "cell_type": "code",
      "source": [
        "x_train[0]"
      ],
      "execution_count": 49,
      "outputs": [
        {
          "output_type": "execute_result",
          "data": {
            "text/plain": [
              "array([0., 1., 1., ..., 0., 0., 0.])"
            ]
          },
          "metadata": {
            "tags": []
          },
          "execution_count": 49
        }
      ]
    },
    {
      "metadata": {
        "id": "kKSfsw3eE4sF",
        "colab_type": "code",
        "colab": {}
      },
      "cell_type": "code",
      "source": [
        "y_train = np.asarray(train_labels).astype('float32')\n",
        "y_test = np.asarray(test_labels).astype('float32')"
      ],
      "execution_count": 0,
      "outputs": []
    },
    {
      "metadata": {
        "id": "G-TO3uicFF7E",
        "colab_type": "code",
        "colab": {}
      },
      "cell_type": "code",
      "source": [
        ""
      ],
      "execution_count": 0,
      "outputs": []
    },
    {
      "metadata": {
        "id": "USwRRUJBFN5-",
        "colab_type": "text"
      },
      "cell_type": "markdown",
      "source": [
        "# Creating the model"
      ]
    },
    {
      "metadata": {
        "id": "PJsjZ1CnFQJk",
        "colab_type": "code",
        "colab": {}
      },
      "cell_type": "code",
      "source": [
        "from keras import models\n",
        "from keras import layers\n",
        "\n",
        "model = models.Sequential()\n",
        "model.add(layers.Dense(16, activation='relu', input_shape=(10000,)))\n",
        "model.add(layers.Dense(16, activation='relu'))\n",
        "model.add(layers.Dense(1, activation='sigmoid'))"
      ],
      "execution_count": 0,
      "outputs": []
    },
    {
      "metadata": {
        "id": "keYEi-UJFwGh",
        "colab_type": "text"
      },
      "cell_type": "markdown",
      "source": [
        "Below we show how easy it is to add custom loss or accuracy functions\n"
      ]
    },
    {
      "metadata": {
        "id": "PN21OMBmF2Xr",
        "colab_type": "code",
        "colab": {}
      },
      "cell_type": "code",
      "source": [
        "from keras import losses\n",
        "from keras import metrics\n",
        "from keras import optimizers\n",
        "\n",
        "model.compile(optimizer='rmsprop', \n",
        "              loss='binary_crossentropy',\n",
        "             metrics=[metrics.binary_accuracy])"
      ],
      "execution_count": 0,
      "outputs": []
    },
    {
      "metadata": {
        "id": "2cOkc_TKGNmo",
        "colab_type": "text"
      },
      "cell_type": "markdown",
      "source": [
        "Adding a validation set to monitor progress during training:"
      ]
    },
    {
      "metadata": {
        "id": "tVlpEfOKGDKl",
        "colab_type": "code",
        "colab": {}
      },
      "cell_type": "code",
      "source": [
        "x_val = x_train[:10000]\n",
        "partial_x_train = x_train[10000:]\n",
        "y_val = y_train[:10000]\n",
        "partial_y_train = y_train[10000:]"
      ],
      "execution_count": 0,
      "outputs": []
    },
    {
      "metadata": {
        "id": "0UZK5sBGGqrV",
        "colab_type": "code",
        "colab": {
          "base_uri": "https://localhost:8080/",
          "height": 714
        },
        "outputId": "b1b3179d-927a-4d9e-eba2-a5c45a5219e3"
      },
      "cell_type": "code",
      "source": [
        "hist = model.fit(partial_x_train, partial_y_train, epochs=20, batch_size=512, validation_data=(x_val, y_val))"
      ],
      "execution_count": 106,
      "outputs": [
        {
          "output_type": "stream",
          "text": [
            "Train on 15000 samples, validate on 10000 samples\n",
            "Epoch 1/20\n",
            "15000/15000 [==============================] - 3s 233us/step - loss: 0.5314 - binary_accuracy: 0.7683 - val_loss: 0.3933 - val_binary_accuracy: 0.8713\n",
            "Epoch 2/20\n",
            "15000/15000 [==============================] - 3s 191us/step - loss: 0.3173 - binary_accuracy: 0.9004 - val_loss: 0.3061 - val_binary_accuracy: 0.8892\n",
            "Epoch 3/20\n",
            "15000/15000 [==============================] - 3s 190us/step - loss: 0.2203 - binary_accuracy: 0.9282 - val_loss: 0.3222 - val_binary_accuracy: 0.8686\n",
            "Epoch 4/20\n",
            "15000/15000 [==============================] - 3s 192us/step - loss: 0.1722 - binary_accuracy: 0.9449 - val_loss: 0.3068 - val_binary_accuracy: 0.8779\n",
            "Epoch 5/20\n",
            "15000/15000 [==============================] - 3s 191us/step - loss: 0.1375 - binary_accuracy: 0.9559 - val_loss: 0.2820 - val_binary_accuracy: 0.8896\n",
            "Epoch 6/20\n",
            "15000/15000 [==============================] - 3s 192us/step - loss: 0.1135 - binary_accuracy: 0.9650 - val_loss: 0.2964 - val_binary_accuracy: 0.8876\n",
            "Epoch 7/20\n",
            "15000/15000 [==============================] - 3s 191us/step - loss: 0.0927 - binary_accuracy: 0.9735 - val_loss: 0.3168 - val_binary_accuracy: 0.8838\n",
            "Epoch 8/20\n",
            "15000/15000 [==============================] - 3s 190us/step - loss: 0.0773 - binary_accuracy: 0.9783 - val_loss: 0.3397 - val_binary_accuracy: 0.8827\n",
            "Epoch 9/20\n",
            "15000/15000 [==============================] - 3s 195us/step - loss: 0.0606 - binary_accuracy: 0.9846 - val_loss: 0.4027 - val_binary_accuracy: 0.8656\n",
            "Epoch 10/20\n",
            "15000/15000 [==============================] - 3s 200us/step - loss: 0.0509 - binary_accuracy: 0.9872 - val_loss: 0.3876 - val_binary_accuracy: 0.8754\n",
            "Epoch 11/20\n",
            "15000/15000 [==============================] - 3s 199us/step - loss: 0.0405 - binary_accuracy: 0.9901 - val_loss: 0.4313 - val_binary_accuracy: 0.8691\n",
            "Epoch 12/20\n",
            "15000/15000 [==============================] - 3s 200us/step - loss: 0.0309 - binary_accuracy: 0.9940 - val_loss: 0.4528 - val_binary_accuracy: 0.8698\n",
            "Epoch 13/20\n",
            "15000/15000 [==============================] - 3s 190us/step - loss: 0.0277 - binary_accuracy: 0.9949 - val_loss: 0.4742 - val_binary_accuracy: 0.8725\n",
            "Epoch 14/20\n",
            "15000/15000 [==============================] - 3s 189us/step - loss: 0.0181 - binary_accuracy: 0.9973 - val_loss: 0.5346 - val_binary_accuracy: 0.8643\n",
            "Epoch 15/20\n",
            "15000/15000 [==============================] - 3s 190us/step - loss: 0.0163 - binary_accuracy: 0.9976 - val_loss: 0.5556 - val_binary_accuracy: 0.8657\n",
            "Epoch 16/20\n",
            "15000/15000 [==============================] - 3s 190us/step - loss: 0.0093 - binary_accuracy: 0.9994 - val_loss: 0.6028 - val_binary_accuracy: 0.8668\n",
            "Epoch 17/20\n",
            "15000/15000 [==============================] - 3s 189us/step - loss: 0.0102 - binary_accuracy: 0.9985 - val_loss: 0.6070 - val_binary_accuracy: 0.8680\n",
            "Epoch 18/20\n",
            "15000/15000 [==============================] - 3s 189us/step - loss: 0.0059 - binary_accuracy: 0.9995 - val_loss: 0.7558 - val_binary_accuracy: 0.8541\n",
            "Epoch 19/20\n",
            "15000/15000 [==============================] - 3s 189us/step - loss: 0.0044 - binary_accuracy: 0.9997 - val_loss: 0.6937 - val_binary_accuracy: 0.8619\n",
            "Epoch 20/20\n",
            "15000/15000 [==============================] - 3s 190us/step - loss: 0.0049 - binary_accuracy: 0.9993 - val_loss: 0.7055 - val_binary_accuracy: 0.8658\n"
          ],
          "name": "stdout"
        }
      ]
    },
    {
      "metadata": {
        "id": "kDxXlvMTHCR0",
        "colab_type": "code",
        "colab": {
          "base_uri": "https://localhost:8080/",
          "height": 51
        },
        "outputId": "de9bb734-eab0-47c6-b54b-a1e99a763944"
      },
      "cell_type": "code",
      "source": [
        "model.evaluate(x_test, y_test)"
      ],
      "execution_count": 59,
      "outputs": [
        {
          "output_type": "stream",
          "text": [
            "25000/25000 [==============================] - 3s 116us/step\n"
          ],
          "name": "stdout"
        },
        {
          "output_type": "execute_result",
          "data": {
            "text/plain": [
              "[0.7297059852194786, 0.85132]"
            ]
          },
          "metadata": {
            "tags": []
          },
          "execution_count": 59
        }
      ]
    },
    {
      "metadata": {
        "id": "cKiwRCH4I2gd",
        "colab_type": "code",
        "colab": {
          "base_uri": "https://localhost:8080/",
          "height": 34
        },
        "outputId": "21a9d927-0100-4261-bb30-1f0acb3c8106"
      },
      "cell_type": "code",
      "source": [
        "model.metrics_names"
      ],
      "execution_count": 58,
      "outputs": [
        {
          "output_type": "execute_result",
          "data": {
            "text/plain": [
              "['loss', 'binary_accuracy']"
            ]
          },
          "metadata": {
            "tags": []
          },
          "execution_count": 58
        }
      ]
    },
    {
      "metadata": {
        "id": "5IoJ4tX_JDO1",
        "colab_type": "code",
        "colab": {}
      },
      "cell_type": "code",
      "source": [
        ""
      ],
      "execution_count": 0,
      "outputs": []
    },
    {
      "metadata": {
        "id": "_N0qUldJJLb8",
        "colab_type": "text"
      },
      "cell_type": "markdown",
      "source": [
        "# Let's visualize the results"
      ]
    },
    {
      "metadata": {
        "id": "X3_Xb8CUJNC0",
        "colab_type": "code",
        "colab": {}
      },
      "cell_type": "code",
      "source": [
        "import matplotlib.pyplot as plt"
      ],
      "execution_count": 0,
      "outputs": []
    },
    {
      "metadata": {
        "id": "UwMfsyHuJPwd",
        "colab_type": "code",
        "colab": {
          "base_uri": "https://localhost:8080/",
          "height": 34
        },
        "outputId": "9774b87f-6715-4ecb-cd68-2d758ede15b4"
      },
      "cell_type": "code",
      "source": [
        "print(hist.history.keys())\n",
        "acc = hist.history['binary_accuracy']\n",
        "val_acc = hist.history['val_binary_accuracy']"
      ],
      "execution_count": 101,
      "outputs": [
        {
          "output_type": "stream",
          "text": [
            "dict_keys(['val_loss', 'val_binary_accuracy', 'loss', 'binary_accuracy'])\n"
          ],
          "name": "stdout"
        }
      ]
    },
    {
      "metadata": {
        "id": "bykpXMpBJQq8",
        "colab_type": "code",
        "colab": {
          "base_uri": "https://localhost:8080/",
          "height": 376
        },
        "outputId": "e2932db8-4da7-4d39-85cf-4f7d4b7c5cd8"
      },
      "cell_type": "code",
      "source": [
        "epochs = range(1, len(acc) + 1)\n",
        "plt.plot(epochs, acc, 'b', label='Training accuracy')\n",
        "plt.plot(epochs, val_acc, 'r', label='Validation accuracy')\n",
        "plt.title('Training and validation accuracy')\n",
        "plt.xlabel('Epochs')\n",
        "plt.ylabel('Loss')\n",
        "plt.legend()\n",
        "plt.show()"
      ],
      "execution_count": 102,
      "outputs": [
        {
          "output_type": "display_data",
          "data": {
            "image/png": "[encoded data removed]",
            "text/plain": [
              "<matplotlib.figure.Figure at 0x7f5ab51269e8>"
            ]
          },
          "metadata": {
            "tags": []
          }
        }
      ]
    },
    {
      "metadata": {
        "id": "3zZl1qHDJz6F",
        "colab_type": "code",
        "colab": {}
      },
      "cell_type": "code",
      "source": [
        ""
      ],
      "execution_count": 0,
      "outputs": []
    },
    {
      "metadata": {
        "id": "lwiWgut8KT9e",
        "colab_type": "text"
      },
      "cell_type": "markdown",
      "source": [
        "THis is a clear case of overfitting. Regularization techniques would be required to perform better on the validation and test set.\n",
        "\n",
        "A best practice is to tweak your model and regularization configuration based on validation accuracy. This is because by tweaking you could\n",
        "manually overfit on the validation set. By keeping a test set until the end, you make sure that you didn't overfit the test set as well."
      ]
    }
  ]
}